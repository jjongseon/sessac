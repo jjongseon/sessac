{
 "cells": [
  {
   "cell_type": "markdown",
   "metadata": {},
   "source": [
    "## 데이터 준비"
   ]
  },
  {
   "cell_type": "code",
   "execution_count": 1,
   "metadata": {},
   "outputs": [],
   "source": [
    "import pandas as pd\n",
    "df = pd.read_csv('imdb.zip')"
   ]
  },
  {
   "cell_type": "code",
   "execution_count": 2,
   "metadata": {},
   "outputs": [
    {
     "data": {
      "text/html": [
       "<div>\n",
       "<style scoped>\n",
       "    .dataframe tbody tr th:only-of-type {\n",
       "        vertical-align: middle;\n",
       "    }\n",
       "\n",
       "    .dataframe tbody tr th {\n",
       "        vertical-align: top;\n",
       "    }\n",
       "\n",
       "    .dataframe thead th {\n",
       "        text-align: right;\n",
       "    }\n",
       "</style>\n",
       "<table border=\"1\" class=\"dataframe\">\n",
       "  <thead>\n",
       "    <tr style=\"text-align: right;\">\n",
       "      <th></th>\n",
       "      <th>review</th>\n",
       "      <th>sentiment</th>\n",
       "    </tr>\n",
       "  </thead>\n",
       "  <tbody>\n",
       "    <tr>\n",
       "      <th>0</th>\n",
       "      <td>A very, very, very slow-moving, aimless movie ...</td>\n",
       "      <td>0</td>\n",
       "    </tr>\n",
       "    <tr>\n",
       "      <th>1</th>\n",
       "      <td>Not sure who was more lost - the flat characte...</td>\n",
       "      <td>0</td>\n",
       "    </tr>\n",
       "    <tr>\n",
       "      <th>2</th>\n",
       "      <td>Attempting artiness with black &amp; white and cle...</td>\n",
       "      <td>0</td>\n",
       "    </tr>\n",
       "    <tr>\n",
       "      <th>3</th>\n",
       "      <td>Very little music or anything to speak of.</td>\n",
       "      <td>0</td>\n",
       "    </tr>\n",
       "    <tr>\n",
       "      <th>4</th>\n",
       "      <td>The best scene in the movie was when Gerardo i...</td>\n",
       "      <td>1</td>\n",
       "    </tr>\n",
       "  </tbody>\n",
       "</table>\n",
       "</div>"
      ],
      "text/plain": [
       "                                              review  sentiment\n",
       "0  A very, very, very slow-moving, aimless movie ...          0\n",
       "1  Not sure who was more lost - the flat characte...          0\n",
       "2  Attempting artiness with black & white and cle...          0\n",
       "3         Very little music or anything to speak of.          0\n",
       "4  The best scene in the movie was when Gerardo i...          1"
      ]
     },
     "execution_count": 2,
     "metadata": {},
     "output_type": "execute_result"
    }
   ],
   "source": [
    "df.head()"
   ]
  },
  {
   "cell_type": "code",
   "execution_count": 3,
   "metadata": {},
   "outputs": [],
   "source": [
    "import joblib\n",
    "tk = joblib.load('tokenizer.pkl')"
   ]
  },
  {
   "cell_type": "code",
   "execution_count": 4,
   "metadata": {},
   "outputs": [],
   "source": [
    "from sklearn.model_selection import train_test_split\n",
    "review_train, review_test, y_train, y_test = train_test_split(df['review'],df['sentiment'],test_size=0.2,random_state=42)"
   ]
  },
  {
   "cell_type": "code",
   "execution_count": 5,
   "metadata": {},
   "outputs": [],
   "source": [
    "seqs = tk.texts_to_sequences(review_train)"
   ]
  },
  {
   "cell_type": "code",
   "execution_count": 6,
   "metadata": {},
   "outputs": [
    {
     "data": {
      "text/plain": [
       "[9, 6, 33, 1258, 214]"
      ]
     },
     "execution_count": 6,
     "metadata": {},
     "output_type": "execute_result"
    }
   ],
   "source": [
    "seqs[0]"
   ]
  },
  {
   "cell_type": "code",
   "execution_count": 7,
   "metadata": {},
   "outputs": [
    {
     "data": {
      "text/plain": [
       "[[9, 6, 33, 1258, 214],\n",
       " [178, 5, 28, 35, 23, 168, 713, 591, 3, 713, 1, 10, 1, 280],\n",
       " [206, 336, 4]]"
      ]
     },
     "execution_count": 7,
     "metadata": {},
     "output_type": "execute_result"
    }
   ],
   "source": [
    "seqs[:3]"
   ]
  },
  {
   "cell_type": "markdown",
   "metadata": {},
   "source": [
    "## 순방향 순환신경망"
   ]
  },
  {
   "cell_type": "code",
   "execution_count": 8,
   "metadata": {},
   "outputs": [],
   "source": [
    "import tensorflow as tf"
   ]
  },
  {
   "cell_type": "code",
   "execution_count": 9,
   "metadata": {},
   "outputs": [],
   "source": [
    "pads = tf.keras.preprocessing.sequence.pad_sequences(seqs,maxlen=None,padding='pre',truncating='pre')"
   ]
  },
  {
   "cell_type": "code",
   "execution_count": 14,
   "metadata": {},
   "outputs": [],
   "source": [
    "NUM_WORDS = tk.num_words + 1"
   ]
  },
  {
   "cell_type": "code",
   "execution_count": 15,
   "metadata": {},
   "outputs": [],
   "source": [
    "model = tf.keras.Sequential([\n",
    "    tf.keras.layers.Embedding(NUM_WORDS, 8, mask_zero=True),\n",
    "    tf.keras.layers.LSTM(8),\n",
    "    tf.keras.layers.Dense(1,activation='sigmoid')\n",
    "\n",
    "])"
   ]
  },
  {
   "cell_type": "code",
   "execution_count": 16,
   "metadata": {},
   "outputs": [
    {
     "name": "stdout",
     "output_type": "stream",
     "text": [
      "Model: \"sequential\"\n",
      "_________________________________________________________________\n",
      " Layer (type)                Output Shape              Param #   \n",
      "=================================================================\n",
      " embedding (Embedding)       (None, None, 8)           16008     \n",
      "                                                                 \n",
      " lstm (LSTM)                 (None, 8)                 544       \n",
      "                                                                 \n",
      " dense (Dense)               (None, 1)                 9         \n",
      "                                                                 \n",
      "=================================================================\n",
      "Total params: 16,561\n",
      "Trainable params: 16,561\n",
      "Non-trainable params: 0\n",
      "_________________________________________________________________\n"
     ]
    }
   ],
   "source": [
    "model.summary()"
   ]
  },
  {
   "cell_type": "code",
   "execution_count": 17,
   "metadata": {},
   "outputs": [],
   "source": [
    "model.compile(loss='binary_crossentropy',optimizer='adam',metrics=['accuracy'])"
   ]
  },
  {
   "cell_type": "code",
   "execution_count": 18,
   "metadata": {},
   "outputs": [
    {
     "name": "stdout",
     "output_type": "stream",
     "text": [
      "Epoch 1/10\n",
      "25/25 [==============================] - 3s 14ms/step - loss: 0.6927 - accuracy: 0.5288\n",
      "Epoch 2/10\n",
      "25/25 [==============================] - 0s 13ms/step - loss: 0.6893 - accuracy: 0.6212\n",
      "Epoch 3/10\n",
      "25/25 [==============================] - 0s 13ms/step - loss: 0.6818 - accuracy: 0.7663\n",
      "Epoch 4/10\n",
      "25/25 [==============================] - 0s 13ms/step - loss: 0.6579 - accuracy: 0.8150\n",
      "Epoch 5/10\n",
      "25/25 [==============================] - 0s 13ms/step - loss: 0.5849 - accuracy: 0.8225\n",
      "Epoch 6/10\n",
      "25/25 [==============================] - 0s 13ms/step - loss: 0.4761 - accuracy: 0.8462\n",
      "Epoch 7/10\n",
      "25/25 [==============================] - 0s 13ms/step - loss: 0.3863 - accuracy: 0.8863\n",
      "Epoch 8/10\n",
      "25/25 [==============================] - 0s 13ms/step - loss: 0.3243 - accuracy: 0.9162\n",
      "Epoch 9/10\n",
      "25/25 [==============================] - 0s 13ms/step - loss: 0.2823 - accuracy: 0.9237\n",
      "Epoch 10/10\n",
      "25/25 [==============================] - 0s 14ms/step - loss: 0.2403 - accuracy: 0.9500\n"
     ]
    },
    {
     "data": {
      "text/plain": [
       "<keras.callbacks.History at 0x1b73a9bf0c8>"
      ]
     },
     "execution_count": 18,
     "metadata": {},
     "output_type": "execute_result"
    }
   ],
   "source": [
    "model.fit(pads,y_train.values, epochs=10)"
   ]
  },
  {
   "cell_type": "markdown",
   "metadata": {},
   "source": [
    "## 역방향 순환신경망"
   ]
  },
  {
   "cell_type": "markdown",
   "metadata": {},
   "source": [
    "### pre padding 적용"
   ]
  },
  {
   "cell_type": "code",
   "execution_count": 22,
   "metadata": {},
   "outputs": [],
   "source": [
    "# 패딩을 post로 처리하는 것이 좋음, 순방향일 경우는 pre로 처리하는것을 권장\n",
    "model = tf.keras.Sequential([\n",
    "    tf.keras.layers.Embedding(NUM_WORDS, 8, mask_zero=True),\n",
    "    tf.keras.layers.LSTM(8, go_backwards=True),\n",
    "    tf.keras.layers.Dense(1,activation='sigmoid')\n",
    "\n",
    "])"
   ]
  },
  {
   "cell_type": "code",
   "execution_count": 23,
   "metadata": {},
   "outputs": [],
   "source": [
    "model.compile(loss='binary_crossentropy',optimizer='adam',metrics=['accuracy'])"
   ]
  },
  {
   "cell_type": "code",
   "execution_count": 24,
   "metadata": {},
   "outputs": [
    {
     "name": "stdout",
     "output_type": "stream",
     "text": [
      "Epoch 1/10\n",
      "25/25 [==============================] - 2s 14ms/step - loss: 0.6930 - accuracy: 0.5075\n",
      "Epoch 2/10\n",
      "25/25 [==============================] - 0s 14ms/step - loss: 0.6888 - accuracy: 0.6350\n",
      "Epoch 3/10\n",
      "25/25 [==============================] - 0s 14ms/step - loss: 0.6794 - accuracy: 0.7550\n",
      "Epoch 4/10\n",
      "25/25 [==============================] - 0s 13ms/step - loss: 0.6429 - accuracy: 0.7937\n",
      "Epoch 5/10\n",
      "25/25 [==============================] - 0s 14ms/step - loss: 0.5496 - accuracy: 0.8475\n",
      "Epoch 6/10\n",
      "25/25 [==============================] - 0s 17ms/step - loss: 0.4398 - accuracy: 0.8950\n",
      "Epoch 7/10\n",
      "25/25 [==============================] - 0s 14ms/step - loss: 0.3606 - accuracy: 0.9312\n",
      "Epoch 8/10\n",
      "25/25 [==============================] - 0s 15ms/step - loss: 0.3041 - accuracy: 0.9475\n",
      "Epoch 9/10\n",
      "25/25 [==============================] - 0s 13ms/step - loss: 0.2681 - accuracy: 0.9475\n",
      "Epoch 10/10\n",
      "25/25 [==============================] - 0s 13ms/step - loss: 0.2469 - accuracy: 0.9450\n"
     ]
    },
    {
     "data": {
      "text/plain": [
       "<keras.callbacks.History at 0x1b73aa67608>"
      ]
     },
     "execution_count": 24,
     "metadata": {},
     "output_type": "execute_result"
    }
   ],
   "source": [
    "model.fit(pads,y_train.values, epochs=10)"
   ]
  },
  {
   "cell_type": "markdown",
   "metadata": {},
   "source": [
    "### post padding 적용"
   ]
  },
  {
   "cell_type": "code",
   "execution_count": 25,
   "metadata": {},
   "outputs": [],
   "source": [
    "pads = tf.keras.preprocessing.sequence.pad_sequences(seqs,maxlen=None,padding='post',truncating='pre')"
   ]
  },
  {
   "cell_type": "code",
   "execution_count": 26,
   "metadata": {},
   "outputs": [],
   "source": [
    "model = tf.keras.Sequential([\n",
    "    tf.keras.layers.Embedding(NUM_WORDS, 8, mask_zero=True),\n",
    "    tf.keras.layers.LSTM(8, go_backwards=True),\n",
    "    tf.keras.layers.Dense(1,activation='sigmoid')\n",
    "\n",
    "])"
   ]
  },
  {
   "cell_type": "code",
   "execution_count": 27,
   "metadata": {},
   "outputs": [],
   "source": [
    "model.compile(loss='binary_crossentropy',optimizer='adam',metrics=['accuracy'])"
   ]
  },
  {
   "cell_type": "code",
   "execution_count": 28,
   "metadata": {},
   "outputs": [
    {
     "name": "stdout",
     "output_type": "stream",
     "text": [
      "Epoch 1/10\n",
      "25/25 [==============================] - 2s 13ms/step - loss: 0.6929 - accuracy: 0.5225\n",
      "Epoch 2/10\n",
      "25/25 [==============================] - 0s 13ms/step - loss: 0.6910 - accuracy: 0.6037\n",
      "Epoch 3/10\n",
      "25/25 [==============================] - 0s 13ms/step - loss: 0.6870 - accuracy: 0.6525\n",
      "Epoch 4/10\n",
      "25/25 [==============================] - 0s 14ms/step - loss: 0.6754 - accuracy: 0.7812\n",
      "Epoch 5/10\n",
      "25/25 [==============================] - 0s 13ms/step - loss: 0.6401 - accuracy: 0.7525\n",
      "Epoch 6/10\n",
      "25/25 [==============================] - 0s 13ms/step - loss: 0.5593 - accuracy: 0.8150\n",
      "Epoch 7/10\n",
      "25/25 [==============================] - 0s 13ms/step - loss: 0.4408 - accuracy: 0.9050\n",
      "Epoch 8/10\n",
      "25/25 [==============================] - 0s 13ms/step - loss: 0.3387 - accuracy: 0.9438\n",
      "Epoch 9/10\n",
      "25/25 [==============================] - 0s 13ms/step - loss: 0.2640 - accuracy: 0.9575\n",
      "Epoch 10/10\n",
      "25/25 [==============================] - 0s 14ms/step - loss: 0.2107 - accuracy: 0.9625\n"
     ]
    },
    {
     "data": {
      "text/plain": [
       "<keras.callbacks.History at 0x1b745a3c4c8>"
      ]
     },
     "execution_count": 28,
     "metadata": {},
     "output_type": "execute_result"
    }
   ],
   "source": [
    "model.fit(pads,y_train.values, epochs=10)"
   ]
  },
  {
   "cell_type": "markdown",
   "metadata": {},
   "source": [
    "## 양방향 순환신경망"
   ]
  },
  {
   "cell_type": "code",
   "execution_count": 31,
   "metadata": {},
   "outputs": [],
   "source": [
    "model = tf.keras.Sequential([\n",
    "    tf.keras.layers.Embedding(NUM_WORDS, 8, mask_zero=True),\n",
    "    tf.keras.layers.Bidirectional(tf.keras.layers.LSTM(8)),\n",
    "    tf.keras.layers.Dense(1,activation='sigmoid')\n",
    "\n",
    "])"
   ]
  },
  {
   "cell_type": "code",
   "execution_count": 32,
   "metadata": {},
   "outputs": [
    {
     "name": "stdout",
     "output_type": "stream",
     "text": [
      "Model: \"sequential_3\"\n",
      "_________________________________________________________________\n",
      " Layer (type)                Output Shape              Param #   \n",
      "=================================================================\n",
      " embedding_5 (Embedding)     (None, None, 8)           16008     \n",
      "                                                                 \n",
      " bidirectional (Bidirectiona  (None, 16)               1088      \n",
      " l)                                                              \n",
      "                                                                 \n",
      " dense_3 (Dense)             (None, 1)                 17        \n",
      "                                                                 \n",
      "=================================================================\n",
      "Total params: 17,113\n",
      "Trainable params: 17,113\n",
      "Non-trainable params: 0\n",
      "_________________________________________________________________\n"
     ]
    }
   ],
   "source": [
    "model.summary()"
   ]
  },
  {
   "cell_type": "code",
   "execution_count": 33,
   "metadata": {},
   "outputs": [],
   "source": [
    "model.compile(loss='binary_crossentropy',optimizer='adam',metrics=['accuracy'])"
   ]
  },
  {
   "cell_type": "code",
   "execution_count": 34,
   "metadata": {},
   "outputs": [
    {
     "name": "stdout",
     "output_type": "stream",
     "text": [
      "Epoch 1/10\n",
      "25/25 [==============================] - 4s 16ms/step - loss: 0.6920 - accuracy: 0.5638\n",
      "Epoch 2/10\n",
      "25/25 [==============================] - 0s 16ms/step - loss: 0.6849 - accuracy: 0.7837\n",
      "Epoch 3/10\n",
      "25/25 [==============================] - 0s 16ms/step - loss: 0.6665 - accuracy: 0.8388\n",
      "Epoch 4/10\n",
      "25/25 [==============================] - 0s 16ms/step - loss: 0.6066 - accuracy: 0.8450\n",
      "Epoch 5/10\n",
      "25/25 [==============================] - 0s 16ms/step - loss: 0.4500 - accuracy: 0.8938\n",
      "Epoch 6/10\n",
      "25/25 [==============================] - 0s 16ms/step - loss: 0.2918 - accuracy: 0.9388\n",
      "Epoch 7/10\n",
      "25/25 [==============================] - 0s 16ms/step - loss: 0.2040 - accuracy: 0.9538\n",
      "Epoch 8/10\n",
      "25/25 [==============================] - 0s 16ms/step - loss: 0.1611 - accuracy: 0.9575\n",
      "Epoch 9/10\n",
      "25/25 [==============================] - 0s 16ms/step - loss: 0.1322 - accuracy: 0.9712\n",
      "Epoch 10/10\n",
      "25/25 [==============================] - 0s 17ms/step - loss: 0.1121 - accuracy: 0.9712\n"
     ]
    },
    {
     "data": {
      "text/plain": [
       "<keras.callbacks.History at 0x1b74a13f4c8>"
      ]
     },
     "execution_count": 34,
     "metadata": {},
     "output_type": "execute_result"
    }
   ],
   "source": [
    "model.fit(pads,y_train.values, epochs=10)"
   ]
  },
  {
   "cell_type": "code",
   "execution_count": null,
   "metadata": {},
   "outputs": [],
   "source": []
  },
  {
   "cell_type": "code",
   "execution_count": null,
   "metadata": {},
   "outputs": [],
   "source": []
  },
  {
   "cell_type": "code",
   "execution_count": null,
   "metadata": {},
   "outputs": [],
   "source": []
  }
 ],
 "metadata": {
  "kernelspec": {
   "display_name": "Python 3.7.13 ('myenv')",
   "language": "python",
   "name": "python3"
  },
  "language_info": {
   "codemirror_mode": {
    "name": "ipython",
    "version": 3
   },
   "file_extension": ".py",
   "mimetype": "text/x-python",
   "name": "python",
   "nbconvert_exporter": "python",
   "pygments_lexer": "ipython3",
   "version": "3.7.13"
  },
  "orig_nbformat": 4,
  "vscode": {
   "interpreter": {
    "hash": "d476b8b595db7a2ce79add5c950c7c8180749194ced465fe45f4c99a921b3d24"
   }
  }
 },
 "nbformat": 4,
 "nbformat_minor": 2
}
