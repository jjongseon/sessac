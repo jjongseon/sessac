{
 "cells": [
  {
   "cell_type": "code",
   "execution_count": 6,
   "metadata": {},
   "outputs": [],
   "source": [
    "import numpy as np\n",
    "import pandas as pd\n",
    "import matplotlib.pyplot as plt"
   ]
  },
  {
   "cell_type": "markdown",
   "metadata": {},
   "source": [
    "### Fashion mnist dataset\n",
    "- 6만개의 학습용 데이터, 1만개 테스트용 데이터"
   ]
  },
  {
   "cell_type": "code",
   "execution_count": 2,
   "metadata": {},
   "outputs": [
    {
     "name": "stdout",
     "output_type": "stream",
     "text": [
      "Downloading data from https://storage.googleapis.com/tensorflow/tf-keras-datasets/train-labels-idx1-ubyte.gz\n",
      "29515/29515 [==============================] - 0s 0us/step\n",
      "Downloading data from https://storage.googleapis.com/tensorflow/tf-keras-datasets/train-images-idx3-ubyte.gz\n",
      "26421880/26421880 [==============================] - 7s 0us/step\n",
      "Downloading data from https://storage.googleapis.com/tensorflow/tf-keras-datasets/t10k-labels-idx1-ubyte.gz\n",
      "5148/5148 [==============================] - 0s 0s/step\n",
      "Downloading data from https://storage.googleapis.com/tensorflow/tf-keras-datasets/t10k-images-idx3-ubyte.gz\n",
      "4422102/4422102 [==============================] - 1s 0us/step\n",
      "train dataset shape: (60000, 28, 28) [9 0 0 ... 3 0 5]\n",
      "test dataset shape: (10000, 28, 28) (10000,)\n"
     ]
    }
   ],
   "source": [
    "from tensorflow.keras.datasets import fashion_mnist, mnist\n",
    "\n",
    "(train_images, train_labels), (test_images, test_labels) = fashion_mnist.load_data()\n",
    "\n",
    "print('train dataset shape:',train_images.shape,train_labels)\n",
    "print('test dataset shape:', test_images.shape, test_labels.shape)"
   ]
  },
  {
   "cell_type": "code",
   "execution_count": 3,
   "metadata": {},
   "outputs": [
    {
     "data": {
      "text/plain": [
       "(array([[  0,   0,   0,   0,   0,   0,   0,   0,   0,   0,   0,   0,   0,\n",
       "           0,   0,   0,   0,   0,   0,   0,   0,   0,   0,   0,   0,   0,\n",
       "           0,   0],\n",
       "        [  0,   0,   0,   0,   0,   0,   0,   0,   0,   0,   0,   0,   0,\n",
       "           0,   0,   0,   0,   0,   0,   0,   0,   0,   0,   0,   0,   0,\n",
       "           0,   0],\n",
       "        [  0,   0,   0,   0,   0,   0,   0,   0,   0,   0,   0,   0,   0,\n",
       "           0,   0,   0,   0,   0,   0,   0,   0,   0,   0,   0,   0,   0,\n",
       "           0,   0],\n",
       "        [  0,   0,   0,   0,   0,   0,   0,   0,   0,   0,   0,   0,   1,\n",
       "           0,   0,  13,  73,   0,   0,   1,   4,   0,   0,   0,   0,   1,\n",
       "           1,   0],\n",
       "        [  0,   0,   0,   0,   0,   0,   0,   0,   0,   0,   0,   0,   3,\n",
       "           0,  36, 136, 127,  62,  54,   0,   0,   0,   1,   3,   4,   0,\n",
       "           0,   3],\n",
       "        [  0,   0,   0,   0,   0,   0,   0,   0,   0,   0,   0,   0,   6,\n",
       "           0, 102, 204, 176, 134, 144, 123,  23,   0,   0,   0,   0,  12,\n",
       "          10,   0],\n",
       "        [  0,   0,   0,   0,   0,   0,   0,   0,   0,   0,   0,   0,   0,\n",
       "           0, 155, 236, 207, 178, 107, 156, 161, 109,  64,  23,  77, 130,\n",
       "          72,  15],\n",
       "        [  0,   0,   0,   0,   0,   0,   0,   0,   0,   0,   0,   1,   0,\n",
       "          69, 207, 223, 218, 216, 216, 163, 127, 121, 122, 146, 141,  88,\n",
       "         172,  66],\n",
       "        [  0,   0,   0,   0,   0,   0,   0,   0,   0,   1,   1,   1,   0,\n",
       "         200, 232, 232, 233, 229, 223, 223, 215, 213, 164, 127, 123, 196,\n",
       "         229,   0],\n",
       "        [  0,   0,   0,   0,   0,   0,   0,   0,   0,   0,   0,   0,   0,\n",
       "         183, 225, 216, 223, 228, 235, 227, 224, 222, 224, 221, 223, 245,\n",
       "         173,   0],\n",
       "        [  0,   0,   0,   0,   0,   0,   0,   0,   0,   0,   0,   0,   0,\n",
       "         193, 228, 218, 213, 198, 180, 212, 210, 211, 213, 223, 220, 243,\n",
       "         202,   0],\n",
       "        [  0,   0,   0,   0,   0,   0,   0,   0,   0,   1,   3,   0,  12,\n",
       "         219, 220, 212, 218, 192, 169, 227, 208, 218, 224, 212, 226, 197,\n",
       "         209,  52],\n",
       "        [  0,   0,   0,   0,   0,   0,   0,   0,   0,   0,   6,   0,  99,\n",
       "         244, 222, 220, 218, 203, 198, 221, 215, 213, 222, 220, 245, 119,\n",
       "         167,  56],\n",
       "        [  0,   0,   0,   0,   0,   0,   0,   0,   0,   4,   0,   0,  55,\n",
       "         236, 228, 230, 228, 240, 232, 213, 218, 223, 234, 217, 217, 209,\n",
       "          92,   0],\n",
       "        [  0,   0,   1,   4,   6,   7,   2,   0,   0,   0,   0,   0, 237,\n",
       "         226, 217, 223, 222, 219, 222, 221, 216, 223, 229, 215, 218, 255,\n",
       "          77,   0],\n",
       "        [  0,   3,   0,   0,   0,   0,   0,   0,   0,  62, 145, 204, 228,\n",
       "         207, 213, 221, 218, 208, 211, 218, 224, 223, 219, 215, 224, 244,\n",
       "         159,   0],\n",
       "        [  0,   0,   0,   0,  18,  44,  82, 107, 189, 228, 220, 222, 217,\n",
       "         226, 200, 205, 211, 230, 224, 234, 176, 188, 250, 248, 233, 238,\n",
       "         215,   0],\n",
       "        [  0,  57, 187, 208, 224, 221, 224, 208, 204, 214, 208, 209, 200,\n",
       "         159, 245, 193, 206, 223, 255, 255, 221, 234, 221, 211, 220, 232,\n",
       "         246,   0],\n",
       "        [  3, 202, 228, 224, 221, 211, 211, 214, 205, 205, 205, 220, 240,\n",
       "          80, 150, 255, 229, 221, 188, 154, 191, 210, 204, 209, 222, 228,\n",
       "         225,   0],\n",
       "        [ 98, 233, 198, 210, 222, 229, 229, 234, 249, 220, 194, 215, 217,\n",
       "         241,  65,  73, 106, 117, 168, 219, 221, 215, 217, 223, 223, 224,\n",
       "         229,  29],\n",
       "        [ 75, 204, 212, 204, 193, 205, 211, 225, 216, 185, 197, 206, 198,\n",
       "         213, 240, 195, 227, 245, 239, 223, 218, 212, 209, 222, 220, 221,\n",
       "         230,  67],\n",
       "        [ 48, 203, 183, 194, 213, 197, 185, 190, 194, 192, 202, 214, 219,\n",
       "         221, 220, 236, 225, 216, 199, 206, 186, 181, 177, 172, 181, 205,\n",
       "         206, 115],\n",
       "        [  0, 122, 219, 193, 179, 171, 183, 196, 204, 210, 213, 207, 211,\n",
       "         210, 200, 196, 194, 191, 195, 191, 198, 192, 176, 156, 167, 177,\n",
       "         210,  92],\n",
       "        [  0,   0,  74, 189, 212, 191, 175, 172, 175, 181, 185, 188, 189,\n",
       "         188, 193, 198, 204, 209, 210, 210, 211, 188, 188, 194, 192, 216,\n",
       "         170,   0],\n",
       "        [  2,   0,   0,   0,  66, 200, 222, 237, 239, 242, 246, 243, 244,\n",
       "         221, 220, 193, 191, 179, 182, 182, 181, 176, 166, 168,  99,  58,\n",
       "           0,   0],\n",
       "        [  0,   0,   0,   0,   0,   0,   0,  40,  61,  44,  72,  41,  35,\n",
       "           0,   0,   0,   0,   0,   0,   0,   0,   0,   0,   0,   0,   0,\n",
       "           0,   0],\n",
       "        [  0,   0,   0,   0,   0,   0,   0,   0,   0,   0,   0,   0,   0,\n",
       "           0,   0,   0,   0,   0,   0,   0,   0,   0,   0,   0,   0,   0,\n",
       "           0,   0],\n",
       "        [  0,   0,   0,   0,   0,   0,   0,   0,   0,   0,   0,   0,   0,\n",
       "           0,   0,   0,   0,   0,   0,   0,   0,   0,   0,   0,   0,   0,\n",
       "           0,   0]], dtype=uint8),\n",
       " 9)"
      ]
     },
     "execution_count": 3,
     "metadata": {},
     "output_type": "execute_result"
    }
   ],
   "source": [
    "train_images[0,:,:], train_labels[0]"
   ]
  },
  {
   "cell_type": "code",
   "execution_count": 7,
   "metadata": {},
   "outputs": [
    {
     "data": {
      "image/png": "[encoded data removed]",
      "text/plain": [
       "<Figure size 2200x600 with 8 Axes>"
      ]
     },
     "metadata": {},
     "output_type": "display_data"
    },
    {
     "data": {
      "image/png": "[encoded data removed]",
      "text/plain": [
       "<Figure size 2200x600 with 8 Axes>"
      ]
     },
     "metadata": {},
     "output_type": "display_data"
    }
   ],
   "source": [
    "class_names = ['T-shirt/top','Trouser','Pullover','Dress','Coat','Sandal','Shirt','Sneaker','Bag','Ankle boot']\n",
    "\n",
    "def show_images(images, labels, ncols=8):\n",
    "    figure, axs = plt.subplots(figsize=(22,6), nrows=1, ncols=ncols)\n",
    "    for i in range(ncols):\n",
    "        axs[i].imshow(images[i],cmap='gray')\n",
    "        axs[i].set_title(class_names[labels[i]])\n",
    "\n",
    "show_images(train_images[:8],train_labels[:8],ncols=8)\n",
    "show_images(train_images[8:16],train_labels[8:16],ncols=8)"
   ]
  },
  {
   "cell_type": "markdown",
   "metadata": {},
   "source": [
    "### Dense Layer를 기반으로 모델생성"
   ]
  },
  {
   "cell_type": "markdown",
   "metadata": {},
   "source": [
    "<img src=\"./img/a.jpg\">"
   ]
  },
  {
   "cell_type": "code",
   "execution_count": 8,
   "metadata": {},
   "outputs": [],
   "source": [
    "from tensorflow.keras.layers import Dense, Flatten\n",
    "from tensorflow.keras.models import Sequential"
   ]
  },
  {
   "cell_type": "code",
   "execution_count": 10,
   "metadata": {},
   "outputs": [
    {
     "name": "stdout",
     "output_type": "stream",
     "text": [
      "Model: \"sequential\"\n",
      "_________________________________________________________________\n",
      " Layer (type)                Output Shape              Param #   \n",
      "=================================================================\n",
      " flatten (Flatten)           (None, 784)               0         \n",
      "                                                                 \n",
      " dense (Dense)               (None, 100)               78500     \n",
      "                                                                 \n",
      " dense_1 (Dense)             (None, 30)                3030      \n",
      "                                                                 \n",
      " dense_2 (Dense)             (None, 10)                310       \n",
      "                                                                 \n",
      "=================================================================\n",
      "Total params: 81,840\n",
      "Trainable params: 81,840\n",
      "Non-trainable params: 0\n",
      "_________________________________________________________________\n"
     ]
    }
   ],
   "source": [
    "INPUT_SIZE = 28\n",
    "\n",
    "model = Sequential([\n",
    "    Flatten(input_shape=(INPUT_SIZE,INPUT_SIZE)),\n",
    "    Dense(100, activation='relu'),\n",
    "    Dense(30, activation='relu'),\n",
    "    Dense(10, activation='softmax')\n",
    "])\n",
    "\n",
    "model.summary()"
   ]
  },
  {
   "cell_type": "code",
   "execution_count": 11,
   "metadata": {},
   "outputs": [],
   "source": [
    "from tensorflow.keras.optimizers import Adam\n",
    "from tensorflow.keras.losses import CategoricalCrossentropy\n",
    "from tensorflow.keras.metrics import Accuracy\n",
    "\n",
    "model.compile(optimizer=Adam(0.001), loss='categorical_crossentropy',metrics=['accuracy'])"
   ]
  },
  {
   "cell_type": "code",
   "execution_count": 12,
   "metadata": {},
   "outputs": [
    {
     "name": "stdout",
     "output_type": "stream",
     "text": [
      "(60000, 10) (10000, 10)\n"
     ]
    }
   ],
   "source": [
    "from tensorflow.keras.utils import to_categorical\n",
    "\n",
    "train_oh_labels = to_categorical(train_labels)\n",
    "test_oh_labels = to_categorical(test_labels)\n",
    "\n",
    "print(train_oh_labels.shape, test_oh_labels.shape)"
   ]
  },
  {
   "cell_type": "code",
   "execution_count": 13,
   "metadata": {},
   "outputs": [
    {
     "data": {
      "text/plain": [
       "(60000, 28, 28)"
      ]
     },
     "execution_count": 13,
     "metadata": {},
     "output_type": "execute_result"
    }
   ],
   "source": [
    "train_images.shape"
   ]
  },
  {
   "cell_type": "code",
   "execution_count": 14,
   "metadata": {},
   "outputs": [
    {
     "name": "stdout",
     "output_type": "stream",
     "text": [
      "Epoch 1/20\n",
      "1875/1875 [==============================] - 4s 2ms/step - loss: 1.9533 - accuracy: 0.4221\n",
      "Epoch 2/20\n",
      "1875/1875 [==============================] - 3s 2ms/step - loss: 1.2648 - accuracy: 0.4747\n",
      "Epoch 3/20\n",
      "1875/1875 [==============================] - 3s 2ms/step - loss: 1.0523 - accuracy: 0.5682\n",
      "Epoch 4/20\n",
      "1875/1875 [==============================] - 3s 2ms/step - loss: 0.8311 - accuracy: 0.6696\n",
      "Epoch 5/20\n",
      "1875/1875 [==============================] - 3s 2ms/step - loss: 0.6842 - accuracy: 0.7404\n",
      "Epoch 6/20\n",
      "1875/1875 [==============================] - 3s 2ms/step - loss: 0.6100 - accuracy: 0.7654\n",
      "Epoch 7/20\n",
      "1875/1875 [==============================] - 3s 2ms/step - loss: 0.5754 - accuracy: 0.7786\n",
      "Epoch 8/20\n",
      "1875/1875 [==============================] - 3s 2ms/step - loss: 0.5506 - accuracy: 0.7921\n",
      "Epoch 9/20\n",
      "1875/1875 [==============================] - 3s 2ms/step - loss: 0.5210 - accuracy: 0.8084\n",
      "Epoch 10/20\n",
      "1875/1875 [==============================] - 3s 2ms/step - loss: 0.5009 - accuracy: 0.8151\n",
      "Epoch 11/20\n",
      "1875/1875 [==============================] - 3s 2ms/step - loss: 0.4909 - accuracy: 0.8186\n",
      "Epoch 12/20\n",
      "1875/1875 [==============================] - 3s 2ms/step - loss: 0.4774 - accuracy: 0.8218\n",
      "Epoch 13/20\n",
      "1875/1875 [==============================] - 3s 2ms/step - loss: 0.4720 - accuracy: 0.8257\n",
      "Epoch 14/20\n",
      "1875/1875 [==============================] - 3s 2ms/step - loss: 0.4629 - accuracy: 0.8313\n",
      "Epoch 15/20\n",
      "1875/1875 [==============================] - 3s 2ms/step - loss: 0.4398 - accuracy: 0.8528\n",
      "Epoch 16/20\n",
      "1875/1875 [==============================] - 3s 2ms/step - loss: 0.4068 - accuracy: 0.8613\n",
      "Epoch 17/20\n",
      "1875/1875 [==============================] - 3s 2ms/step - loss: 0.3986 - accuracy: 0.8661\n",
      "Epoch 18/20\n",
      "1875/1875 [==============================] - 4s 2ms/step - loss: 0.3834 - accuracy: 0.8689\n",
      "Epoch 19/20\n",
      "1875/1875 [==============================] - 4s 2ms/step - loss: 0.3797 - accuracy: 0.8707\n",
      "Epoch 20/20\n",
      "1875/1875 [==============================] - 4s 2ms/step - loss: 0.3746 - accuracy: 0.8744\n"
     ]
    }
   ],
   "source": [
    "# verbose = 0 : 수행내용 출력x\n",
    "# verbose = 1 : 자세히 출력\n",
    "# verbose = 2 : 축약도니 정보\n",
    "history = model.fit(x=train_images,y=train_oh_labels,batch_size=32,epochs=20,verbose=1)"
   ]
  },
  {
   "cell_type": "code",
   "execution_count": 15,
   "metadata": {},
   "outputs": [
    {
     "name": "stdout",
     "output_type": "stream",
     "text": [
      "[1.95328950881958, 1.2647595405578613, 1.052251935005188, 0.8310939073562622, 0.6842177510261536, 0.6100113391876221, 0.5753709077835083, 0.5505523681640625, 0.5210287570953369, 0.5009369254112244, 0.49093014001846313, 0.47739556431770325, 0.47198089957237244, 0.46285784244537354, 0.439782977104187, 0.4067923128604889, 0.398615300655365, 0.38339170813560486, 0.3796740174293518, 0.37464797496795654]\n",
      "[0.42206665873527527, 0.47468334436416626, 0.5682166814804077, 0.6695833206176758, 0.7403666377067566, 0.7653833627700806, 0.7785833477973938, 0.7921000123023987, 0.8083999752998352, 0.8150666952133179, 0.8185999989509583, 0.8218333125114441, 0.8256999850273132, 0.8313000202178955, 0.852816641330719, 0.8613166809082031, 0.8661166429519653, 0.8689333200454712, 0.8706666827201843, 0.8744333386421204]\n"
     ]
    }
   ],
   "source": [
    "print(history.history['loss'])\n",
    "print(history.history['accuracy'])"
   ]
  },
  {
   "cell_type": "code",
   "execution_count": 16,
   "metadata": {},
   "outputs": [
    {
     "data": {
      "text/plain": [
       "(10000, 28, 28)"
      ]
     },
     "execution_count": 16,
     "metadata": {},
     "output_type": "execute_result"
    }
   ],
   "source": [
    "test_images.shape"
   ]
  },
  {
   "cell_type": "code",
   "execution_count": 17,
   "metadata": {},
   "outputs": [
    {
     "name": "stdout",
     "output_type": "stream",
     "text": [
      "313/313 [==============================] - 0s 1ms/step\n",
      "(10000, 10)\n"
     ]
    }
   ],
   "source": [
    "pred_proba = model.predict(test_images)\n",
    "print(pred_proba.shape)"
   ]
  },
  {
   "cell_type": "code",
   "execution_count": 18,
   "metadata": {},
   "outputs": [
    {
     "data": {
      "text/plain": [
       "array([3.6951340e-30, 1.6878532e-33, 0.0000000e+00, 0.0000000e+00,\n",
       "       0.0000000e+00, 8.6699538e-03, 0.0000000e+00, 4.7917991e-05,\n",
       "       2.8420257e-28, 9.9128211e-01], dtype=float32)"
      ]
     },
     "execution_count": 18,
     "metadata": {},
     "output_type": "execute_result"
    }
   ],
   "source": [
    "pred_proba[0]"
   ]
  },
  {
   "cell_type": "code",
   "execution_count": 19,
   "metadata": {},
   "outputs": [
    {
     "data": {
      "text/plain": [
       "1.0"
      ]
     },
     "execution_count": 19,
     "metadata": {},
     "output_type": "execute_result"
    }
   ],
   "source": [
    "pred_proba[0].sum()"
   ]
  },
  {
   "cell_type": "code",
   "execution_count": 21,
   "metadata": {},
   "outputs": [
    {
     "data": {
      "text/plain": [
       "9"
      ]
     },
     "execution_count": 21,
     "metadata": {},
     "output_type": "execute_result"
    }
   ],
   "source": [
    "pred_proba[0].argmax()"
   ]
  },
  {
   "cell_type": "code",
   "execution_count": 22,
   "metadata": {},
   "outputs": [
    {
     "data": {
      "text/plain": [
       "0.9912821"
      ]
     },
     "execution_count": 22,
     "metadata": {},
     "output_type": "execute_result"
    }
   ],
   "source": [
    "pred_proba[0].max()"
   ]
  },
  {
   "cell_type": "code",
   "execution_count": 24,
   "metadata": {},
   "outputs": [
    {
     "name": "stdout",
     "output_type": "stream",
     "text": [
      "1/1 [==============================] - 0s 69ms/step\n"
     ]
    }
   ],
   "source": [
    "# predict 입력값으로 2차원을 넣으면 오류가 날 수가 있음, 3차원으로 만들어 주는것이 좋음\n",
    "pred_proba = model.predict(test_images[0])"
   ]
  },
  {
   "cell_type": "code",
   "execution_count": 25,
   "metadata": {},
   "outputs": [
    {
     "data": {
      "text/plain": [
       "(28, 28)"
      ]
     },
     "execution_count": 25,
     "metadata": {},
     "output_type": "execute_result"
    }
   ],
   "source": [
    "test_images[0].shape"
   ]
  },
  {
   "cell_type": "code",
   "execution_count": 26,
   "metadata": {},
   "outputs": [
    {
     "data": {
      "text/plain": [
       "(1, 28, 28)"
      ]
     },
     "execution_count": 26,
     "metadata": {},
     "output_type": "execute_result"
    }
   ],
   "source": [
    "np.expand_dims(test_images[0],axis=0).shape"
   ]
  },
  {
   "cell_type": "code",
   "execution_count": 29,
   "metadata": {},
   "outputs": [
    {
     "name": "stdout",
     "output_type": "stream",
     "text": [
      "1/1 [==============================] - 0s 21ms/step\n",
      "softmax output [[3.6951343e-30 1.6878405e-33 0.0000000e+00 0.0000000e+00 0.0000000e+00\n",
      "  8.6698886e-03 0.0000000e+00 4.7917994e-05 2.8420262e-28 9.9128222e-01]]\n",
      "(1, 10)\n"
     ]
    }
   ],
   "source": [
    "pred_proba = model.predict(np.expand_dims(test_images[0],axis=0))\n",
    "print('softmax output',pred_proba)\n",
    "print(pred_proba.shape)"
   ]
  },
  {
   "cell_type": "code",
   "execution_count": 30,
   "metadata": {},
   "outputs": [
    {
     "data": {
      "text/plain": [
       "array([3.6951343e-30, 1.6878405e-33, 0.0000000e+00, 0.0000000e+00,\n",
       "       0.0000000e+00, 8.6698886e-03, 0.0000000e+00, 4.7917994e-05,\n",
       "       2.8420262e-28, 9.9128222e-01], dtype=float32)"
      ]
     },
     "execution_count": 30,
     "metadata": {},
     "output_type": "execute_result"
    }
   ],
   "source": [
    "np.squeeze(pred_proba)"
   ]
  },
  {
   "cell_type": "code",
   "execution_count": 31,
   "metadata": {},
   "outputs": [],
   "source": [
    "import numpy as np\n",
    "import pandas as pd\n",
    "from tensorflow.keras.datasets import fashion_mnist\n",
    "\n",
    "(train_images, train_labels),(test_images,test_labels) = fashion_mnist.load_data()"
   ]
  },
  {
   "cell_type": "code",
   "execution_count": 33,
   "metadata": {},
   "outputs": [],
   "source": [
    "def get_preprocessed_data(images, labels):\n",
    "    images = np.array(images/255.0, dtype=np.float32)\n",
    "    labels = np.array(labels, dtype=np.float32)\n",
    "    return images, labels\n",
    "\n",
    "train_images, train_labels = get_preprocessed_data(train_images, train_labels)\n",
    "test_images, test_labels = get_preprocessed_data(test_images, test_labels)"
   ]
  },
  {
   "cell_type": "code",
   "execution_count": 34,
   "metadata": {},
   "outputs": [
    {
     "data": {
      "text/plain": [
       "array([[0.        , 0.        , 0.        , 0.        , 0.        ,\n",
       "        0.        , 0.        , 0.        , 0.        , 0.        ,\n",
       "        0.        , 0.        , 0.        , 0.        , 0.        ,\n",
       "        0.        , 0.        , 0.        , 0.        , 0.        ,\n",
       "        0.        , 0.        , 0.        , 0.        , 0.        ,\n",
       "        0.        , 0.        , 0.        ],\n",
       "       [0.        , 0.        , 0.        , 0.        , 0.        ,\n",
       "        0.        , 0.        , 0.        , 0.        , 0.        ,\n",
       "        0.        , 0.        , 0.        , 0.        , 0.        ,\n",
       "        0.        , 0.        , 0.        , 0.        , 0.        ,\n",
       "        0.        , 0.        , 0.        , 0.        , 0.        ,\n",
       "        0.        , 0.        , 0.        ],\n",
       "       [0.        , 0.        , 0.        , 0.        , 0.        ,\n",
       "        0.        , 0.        , 0.        , 0.        , 0.        ,\n",
       "        0.        , 0.        , 0.        , 0.        , 0.        ,\n",
       "        0.        , 0.        , 0.        , 0.        , 0.        ,\n",
       "        0.        , 0.        , 0.        , 0.        , 0.        ,\n",
       "        0.        , 0.        , 0.        ],\n",
       "       [0.        , 0.        , 0.        , 0.        , 0.        ,\n",
       "        0.        , 0.        , 0.        , 0.        , 0.        ,\n",
       "        0.        , 0.        , 0.        , 0.        , 0.        ,\n",
       "        0.        , 0.        , 0.        , 0.        , 0.        ,\n",
       "        0.        , 0.        , 0.        , 0.        , 0.        ,\n",
       "        0.        , 0.        , 0.        ],\n",
       "       [0.        , 0.        , 0.        , 0.        , 0.        ,\n",
       "        0.        , 0.        , 0.        , 0.        , 0.        ,\n",
       "        0.        , 0.        , 0.        , 0.        , 0.        ,\n",
       "        0.        , 0.        , 0.        , 0.        , 0.        ,\n",
       "        0.        , 0.        , 0.        , 0.        , 0.        ,\n",
       "        0.        , 0.        , 0.        ],\n",
       "       [0.        , 0.        , 0.        , 0.        , 0.        ,\n",
       "        0.        , 0.        , 0.        , 0.        , 0.        ,\n",
       "        0.        , 0.        , 0.        , 0.        , 0.        ,\n",
       "        0.        , 0.        , 0.        , 0.        , 0.        ,\n",
       "        0.        , 0.        , 0.        , 0.        , 0.        ,\n",
       "        0.        , 0.        , 0.        ],\n",
       "       [0.        , 0.        , 0.        , 0.        , 0.        ,\n",
       "        0.        , 0.        , 0.        , 0.        , 0.        ,\n",
       "        0.        , 0.        , 0.        , 0.        , 0.        ,\n",
       "        0.        , 0.        , 0.        , 0.        , 0.        ,\n",
       "        0.        , 0.        , 0.        , 0.        , 0.        ,\n",
       "        0.        , 0.        , 0.        ],\n",
       "       [0.        , 0.        , 0.        , 0.        , 0.        ,\n",
       "        0.        , 0.        , 0.        , 0.        , 0.        ,\n",
       "        0.        , 0.        , 0.        , 0.        , 0.        ,\n",
       "        0.        , 0.        , 0.        , 0.        , 0.        ,\n",
       "        0.        , 0.        , 0.        , 0.        , 0.        ,\n",
       "        0.        , 0.        , 0.        ],\n",
       "       [0.        , 0.        , 0.        , 0.        , 0.        ,\n",
       "        0.        , 0.        , 0.        , 0.        , 0.        ,\n",
       "        0.        , 0.        , 0.        , 0.        , 0.        ,\n",
       "        0.        , 0.        , 0.        , 0.        , 0.        ,\n",
       "        0.        , 0.        , 0.        , 0.        , 0.        ,\n",
       "        0.        , 0.        , 0.        ],\n",
       "       [0.        , 0.        , 0.        , 0.        , 0.        ,\n",
       "        0.        , 0.        , 0.        , 0.        , 0.        ,\n",
       "        0.        , 0.        , 0.        , 0.        , 0.        ,\n",
       "        0.        , 0.        , 0.        , 0.        , 0.        ,\n",
       "        0.        , 0.        , 0.        , 0.        , 0.        ,\n",
       "        0.        , 0.        , 0.        ],\n",
       "       [0.        , 0.        , 0.        , 0.        , 0.        ,\n",
       "        0.        , 0.        , 0.        , 0.        , 0.        ,\n",
       "        0.        , 0.        , 0.        , 0.        , 0.        ,\n",
       "        0.        , 0.        , 0.        , 0.        , 0.        ,\n",
       "        0.        , 0.        , 0.        , 0.        , 0.        ,\n",
       "        0.        , 0.        , 0.        ],\n",
       "       [0.        , 0.        , 0.        , 0.        , 0.        ,\n",
       "        0.        , 0.        , 0.        , 0.1882353 , 0.34509805,\n",
       "        0.21176471, 0.09803922, 0.07450981, 0.        , 0.        ,\n",
       "        0.        , 0.        , 0.00392157, 0.        , 0.        ,\n",
       "        0.        , 0.        , 0.        , 0.        , 0.        ,\n",
       "        0.        , 0.        , 0.        ],\n",
       "       [0.01568628, 0.00392157, 0.00392157, 0.00392157, 0.        ,\n",
       "        0.        , 0.80784315, 0.8       , 0.41568628, 0.6392157 ,\n",
       "        0.69803923, 0.6156863 , 0.6392157 , 0.67058825, 0.46666667,\n",
       "        0.15294118, 0.        , 0.        , 0.00784314, 0.00392157,\n",
       "        0.00392157, 0.00392157, 0.00392157, 0.00392157, 0.00392157,\n",
       "        0.00392157, 0.        , 0.        ],\n",
       "       [0.        , 0.        , 0.        , 0.        , 0.        ,\n",
       "        0.32941177, 0.8       , 0.        , 0.        , 0.        ,\n",
       "        0.00392157, 0.22352941, 0.35686275, 0.3019608 , 0.3882353 ,\n",
       "        0.5411765 , 0.36862746, 0.02745098, 0.        , 0.        ,\n",
       "        0.        , 0.        , 0.        , 0.        , 0.        ,\n",
       "        0.        , 0.00392157, 0.01176471],\n",
       "       [0.2       , 0.16862746, 0.10588235, 0.10588235, 0.10980392,\n",
       "        0.99607843, 0.12156863, 0.        , 0.01568628, 0.        ,\n",
       "        0.        , 0.        , 0.0627451 , 0.4745098 , 0.32941177,\n",
       "        0.07450981, 0.24705882, 0.43137255, 0.12156863, 0.        ,\n",
       "        0.        , 0.        , 0.        , 0.        , 0.        ,\n",
       "        0.        , 0.        , 0.        ],\n",
       "       [0.5372549 , 0.7921569 , 0.52156866, 0.42352942, 0.38039216,\n",
       "        0.57254905, 0.2784314 , 0.30588236, 0.32156864, 0.3372549 ,\n",
       "        0.33333334, 0.4117647 , 0.4627451 , 0.54509807, 0.56078434,\n",
       "        0.49411765, 0.63529414, 0.6901961 , 0.5294118 , 0.27058825,\n",
       "        0.29803923, 0.2784314 , 0.35686275, 0.3882353 , 0.40392157,\n",
       "        0.36862746, 0.3882353 , 0.21176471],\n",
       "       [0.        , 0.43137255, 0.7294118 , 0.8039216 , 0.79607844,\n",
       "        0.75686276, 0.7490196 , 0.69803923, 0.8       , 0.6745098 ,\n",
       "        0.6862745 , 0.6862745 , 0.69411767, 0.7176471 , 0.7411765 ,\n",
       "        0.74509805, 0.77254903, 0.76862746, 0.7529412 , 0.7137255 ,\n",
       "        0.7294118 , 0.7254902 , 0.72156864, 0.7137255 , 0.69803923,\n",
       "        0.65882355, 0.62352943, 0.3019608 ],\n",
       "       [0.        , 0.        , 0.        , 0.01568628, 0.2       ,\n",
       "        0.27058825, 0.36078432, 0.42352942, 0.4392157 , 0.4509804 ,\n",
       "        0.4392157 , 0.43529412, 0.4392157 , 0.3529412 , 0.3019608 ,\n",
       "        0.24313726, 0.17254902, 0.14117648, 0.1254902 , 0.13725491,\n",
       "        0.10588235, 0.09803922, 0.07450981, 0.05490196, 0.01960784,\n",
       "        0.        , 0.        , 0.        ],\n",
       "       [0.        , 0.        , 0.        , 0.        , 0.        ,\n",
       "        0.        , 0.        , 0.        , 0.        , 0.        ,\n",
       "        0.        , 0.        , 0.        , 0.        , 0.        ,\n",
       "        0.        , 0.        , 0.        , 0.        , 0.        ,\n",
       "        0.        , 0.        , 0.        , 0.        , 0.        ,\n",
       "        0.        , 0.        , 0.        ],\n",
       "       [0.        , 0.        , 0.        , 0.        , 0.        ,\n",
       "        0.        , 0.        , 0.        , 0.        , 0.        ,\n",
       "        0.        , 0.        , 0.        , 0.        , 0.        ,\n",
       "        0.        , 0.        , 0.        , 0.        , 0.        ,\n",
       "        0.        , 0.        , 0.        , 0.        , 0.        ,\n",
       "        0.        , 0.        , 0.        ],\n",
       "       [0.        , 0.        , 0.        , 0.        , 0.        ,\n",
       "        0.        , 0.        , 0.        , 0.        , 0.        ,\n",
       "        0.        , 0.        , 0.        , 0.        , 0.        ,\n",
       "        0.        , 0.        , 0.        , 0.        , 0.        ,\n",
       "        0.        , 0.        , 0.        , 0.        , 0.        ,\n",
       "        0.        , 0.        , 0.        ],\n",
       "       [0.        , 0.        , 0.        , 0.        , 0.        ,\n",
       "        0.        , 0.        , 0.        , 0.        , 0.        ,\n",
       "        0.        , 0.        , 0.        , 0.        , 0.        ,\n",
       "        0.        , 0.        , 0.        , 0.        , 0.        ,\n",
       "        0.        , 0.        , 0.        , 0.        , 0.        ,\n",
       "        0.        , 0.        , 0.        ],\n",
       "       [0.        , 0.        , 0.        , 0.        , 0.        ,\n",
       "        0.        , 0.        , 0.        , 0.        , 0.        ,\n",
       "        0.        , 0.        , 0.        , 0.        , 0.        ,\n",
       "        0.        , 0.        , 0.        , 0.        , 0.        ,\n",
       "        0.        , 0.        , 0.        , 0.        , 0.        ,\n",
       "        0.        , 0.        , 0.        ],\n",
       "       [0.        , 0.        , 0.        , 0.        , 0.        ,\n",
       "        0.        , 0.        , 0.        , 0.        , 0.        ,\n",
       "        0.        , 0.        , 0.        , 0.        , 0.        ,\n",
       "        0.        , 0.        , 0.        , 0.        , 0.        ,\n",
       "        0.        , 0.        , 0.        , 0.        , 0.        ,\n",
       "        0.        , 0.        , 0.        ],\n",
       "       [0.        , 0.        , 0.        , 0.        , 0.        ,\n",
       "        0.        , 0.        , 0.        , 0.        , 0.        ,\n",
       "        0.        , 0.        , 0.        , 0.        , 0.        ,\n",
       "        0.        , 0.        , 0.        , 0.        , 0.        ,\n",
       "        0.        , 0.        , 0.        , 0.        , 0.        ,\n",
       "        0.        , 0.        , 0.        ],\n",
       "       [0.        , 0.        , 0.        , 0.        , 0.        ,\n",
       "        0.        , 0.        , 0.        , 0.        , 0.        ,\n",
       "        0.        , 0.        , 0.        , 0.        , 0.        ,\n",
       "        0.        , 0.        , 0.        , 0.        , 0.        ,\n",
       "        0.        , 0.        , 0.        , 0.        , 0.        ,\n",
       "        0.        , 0.        , 0.        ],\n",
       "       [0.        , 0.        , 0.        , 0.        , 0.        ,\n",
       "        0.        , 0.        , 0.        , 0.        , 0.        ,\n",
       "        0.        , 0.        , 0.        , 0.        , 0.        ,\n",
       "        0.        , 0.        , 0.        , 0.        , 0.        ,\n",
       "        0.        , 0.        , 0.        , 0.        , 0.        ,\n",
       "        0.        , 0.        , 0.        ],\n",
       "       [0.        , 0.        , 0.        , 0.        , 0.        ,\n",
       "        0.        , 0.        , 0.        , 0.        , 0.        ,\n",
       "        0.        , 0.        , 0.        , 0.        , 0.        ,\n",
       "        0.        , 0.        , 0.        , 0.        , 0.        ,\n",
       "        0.        , 0.        , 0.        , 0.        , 0.        ,\n",
       "        0.        , 0.        , 0.        ]], dtype=float32)"
      ]
     },
     "execution_count": 34,
     "metadata": {},
     "output_type": "execute_result"
    }
   ],
   "source": [
    "train_images[30]"
   ]
  },
  {
   "cell_type": "code",
   "execution_count": 35,
   "metadata": {},
   "outputs": [
    {
     "name": "stdout",
     "output_type": "stream",
     "text": [
      "train과 validation shape: (51000, 28, 28) (51000,) (9000, 28, 28) (9000,)\n",
      "after OHE: (51000, 10) (9000, 10)\n"
     ]
    }
   ],
   "source": [
    "from sklearn.model_selection import train_test_split\n",
    "from tensorflow.keras.utils import to_categorical\n",
    "tr_images, val_images, tr_labels, val_labels = train_test_split(train_images, train_labels, \\\n",
    "                                                                test_size=0.15, random_state=2021)\n",
    "print('train과 validation shape:', tr_images.shape, tr_labels.shape, val_images.shape, \\\n",
    "                              val_labels.shape)\n",
    "tr_oh_labels = to_categorical(tr_labels)\n",
    "val_oh_labels = to_categorical(val_labels)\n",
    "print('after OHE:', tr_oh_labels.shape, val_oh_labels.shape)"
   ]
  },
  {
   "cell_type": "code",
   "execution_count": 36,
   "metadata": {},
   "outputs": [],
   "source": [
    "from tensorflow.keras.layers import Dense, Flatten\n",
    "from tensorflow.keras.models import Sequential\n",
    "from tensorflow.keras.optimizers import Adam\n",
    "INPUT_SIZE = 28\n",
    "model = Sequential([\n",
    "    Flatten(input_shape=(INPUT_SIZE, INPUT_SIZE)),\n",
    "    Dense(100, activation='relu'),\n",
    "    Dense(30, activation='relu'),\n",
    "    Dense(10, activation='softmax')\n",
    "])\n",
    "model.compile(optimizer=Adam(0.001), loss='categorical_crossentropy', metrics=['accuracy'])"
   ]
  },
  {
   "cell_type": "code",
   "execution_count": 37,
   "metadata": {},
   "outputs": [
    {
     "name": "stdout",
     "output_type": "stream",
     "text": [
      "Epoch 1/20\n",
      "399/399 [==============================] - 2s 3ms/step - loss: 0.6148 - accuracy: 0.7899 - val_loss: 0.4676 - val_accuracy: 0.8339\n",
      "Epoch 2/20\n",
      "399/399 [==============================] - 1s 3ms/step - loss: 0.4226 - accuracy: 0.8527 - val_loss: 0.4212 - val_accuracy: 0.8502\n",
      "Epoch 3/20\n",
      "399/399 [==============================] - 1s 3ms/step - loss: 0.3781 - accuracy: 0.8669 - val_loss: 0.3929 - val_accuracy: 0.8568\n",
      "Epoch 4/20\n",
      "399/399 [==============================] - 1s 3ms/step - loss: 0.3567 - accuracy: 0.8719 - val_loss: 0.3794 - val_accuracy: 0.8620\n",
      "Epoch 5/20\n",
      "399/399 [==============================] - 1s 3ms/step - loss: 0.3355 - accuracy: 0.8797 - val_loss: 0.3583 - val_accuracy: 0.8709\n",
      "Epoch 6/20\n",
      "399/399 [==============================] - 1s 2ms/step - loss: 0.3231 - accuracy: 0.8846 - val_loss: 0.3548 - val_accuracy: 0.8729\n",
      "Epoch 7/20\n",
      "399/399 [==============================] - 1s 2ms/step - loss: 0.3067 - accuracy: 0.8894 - val_loss: 0.3435 - val_accuracy: 0.8760\n",
      "Epoch 8/20\n",
      "399/399 [==============================] - 1s 3ms/step - loss: 0.2922 - accuracy: 0.8943 - val_loss: 0.3298 - val_accuracy: 0.8807\n",
      "Epoch 9/20\n",
      "399/399 [==============================] - 1s 3ms/step - loss: 0.2830 - accuracy: 0.8976 - val_loss: 0.3403 - val_accuracy: 0.8754\n",
      "Epoch 10/20\n",
      "399/399 [==============================] - 1s 3ms/step - loss: 0.2766 - accuracy: 0.8990 - val_loss: 0.3237 - val_accuracy: 0.8814\n",
      "Epoch 11/20\n",
      "399/399 [==============================] - 1s 3ms/step - loss: 0.2643 - accuracy: 0.9038 - val_loss: 0.3338 - val_accuracy: 0.8797\n",
      "Epoch 12/20\n",
      "399/399 [==============================] - 1s 2ms/step - loss: 0.2623 - accuracy: 0.9043 - val_loss: 0.3349 - val_accuracy: 0.8790\n",
      "Epoch 13/20\n",
      "399/399 [==============================] - 1s 3ms/step - loss: 0.2523 - accuracy: 0.9069 - val_loss: 0.3327 - val_accuracy: 0.8814\n",
      "Epoch 14/20\n",
      "399/399 [==============================] - 1s 3ms/step - loss: 0.2461 - accuracy: 0.9090 - val_loss: 0.3298 - val_accuracy: 0.8852\n",
      "Epoch 15/20\n",
      "399/399 [==============================] - 1s 3ms/step - loss: 0.2431 - accuracy: 0.9102 - val_loss: 0.3339 - val_accuracy: 0.8822\n",
      "Epoch 16/20\n",
      "399/399 [==============================] - 1s 3ms/step - loss: 0.2362 - accuracy: 0.9130 - val_loss: 0.3356 - val_accuracy: 0.8829\n",
      "Epoch 17/20\n",
      "399/399 [==============================] - 1s 3ms/step - loss: 0.2277 - accuracy: 0.9165 - val_loss: 0.3204 - val_accuracy: 0.8898\n",
      "Epoch 18/20\n",
      "399/399 [==============================] - 1s 2ms/step - loss: 0.2218 - accuracy: 0.9180 - val_loss: 0.3482 - val_accuracy: 0.8777\n",
      "Epoch 19/20\n",
      "399/399 [==============================] - 1s 2ms/step - loss: 0.2168 - accuracy: 0.9200 - val_loss: 0.3199 - val_accuracy: 0.8901\n",
      "Epoch 20/20\n",
      "399/399 [==============================] - 1s 3ms/step - loss: 0.2139 - accuracy: 0.9210 - val_loss: 0.3174 - val_accuracy: 0.8924\n"
     ]
    }
   ],
   "source": [
    "history = model.fit(x=tr_images, y=tr_oh_labels,batch_size=128,validation_data=(val_images,val_oh_labels),epochs=20,verbose=1)"
   ]
  },
  {
   "cell_type": "code",
   "execution_count": 38,
   "metadata": {},
   "outputs": [
    {
     "data": {
      "image/png": "[encoded data removed]",
      "text/plain": [
       "<Figure size 640x480 with 1 Axes>"
      ]
     },
     "metadata": {},
     "output_type": "display_data"
    }
   ],
   "source": [
    "import matplotlib.pyplot as plt\n",
    "%matplotlib inline\n",
    "def show_history(history):\n",
    "    plt.plot(history.history['accuracy'], label='train')\n",
    "    plt.plot(history.history['val_accuracy'], label='valid')\n",
    "    plt.legend()\n",
    "show_history(history)"
   ]
  },
  {
   "cell_type": "code",
   "execution_count": 39,
   "metadata": {},
   "outputs": [
    {
     "name": "stdout",
     "output_type": "stream",
     "text": [
      "40/40 [==============================] - 0s 2ms/step - loss: 0.3426 - accuracy: 0.8860\n"
     ]
    },
    {
     "data": {
      "text/plain": [
       "[0.3425835371017456, 0.8859999775886536]"
      ]
     },
     "execution_count": 39,
     "metadata": {},
     "output_type": "execute_result"
    }
   ],
   "source": [
    "model.evaluate(test_images, test_oh_labels, batch_size=256, verbose=1)"
   ]
  },
  {
   "cell_type": "code",
   "execution_count": null,
   "metadata": {},
   "outputs": [],
   "source": []
  }
 ],
 "metadata": {
  "kernelspec": {
   "display_name": "Python 3.10.4 ('study')",
   "language": "python",
   "name": "python3"
  },
  "language_info": {
   "codemirror_mode": {
    "name": "ipython",
    "version": 3
   },
   "file_extension": ".py",
   "mimetype": "text/x-python",
   "name": "python",
   "nbconvert_exporter": "python",
   "pygments_lexer": "ipython3",
   "version": "3.10.4"
  },
  "orig_nbformat": 4,
  "vscode": {
   "interpreter": {
    "hash": "d1e21767e69694e6271cff48837b0419ac731655a1ddac958206c0399c4912a0"
   }
  }
 },
 "nbformat": 4,
 "nbformat_minor": 2
}
