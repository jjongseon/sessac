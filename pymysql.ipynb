{
 "cells": [
  {
   "cell_type": "code",
   "execution_count": 6,
   "metadata": {},
   "outputs": [],
   "source": [
    "import pymysql\n",
    "\n",
    "conn, cur =None,None\n",
    "data1, data2, data3, data4=\"\",\"\",\"\",\"\"\n",
    "sql=\"\"\n",
    "\n",
    "conn = pymysql.connect(host='localhost', user='root', password='1111', db='shoppingDB',charset='utf8')\n",
    "cur = conn.cursor()\n",
    "\n",
    "cur.execute('CREATE TABLE IF NOT EXISTS userTable (id char(4), userName char(15), email char(20), birthYear int)')\n",
    "cur.execute(\"insert into userTable values('john', 'John Bann','john@naver.com', 1990)\")\n",
    "cur.execute(\"insert into userTable values('rim', 'rim mire','rim@naver.com', 1980)\")\n",
    "cur.execute(\"insert into userTable values('park', 'park minseo','park@naver.com', 2000)\")\n",
    "\n",
    "\n",
    "conn.commit()\n",
    "conn.close()"
   ]
  },
  {
   "cell_type": "code",
   "execution_count": 11,
   "metadata": {},
   "outputs": [
    {
     "name": "stdout",
     "output_type": "stream",
     "text": [
      "사용자ID    사용자이름    이메일    출생연도\n",
      "--------------------------------------------\n",
      " john          John Bann     john@naver.com    1990\n",
      "  rim           rim mire      rim@naver.com    1980\n",
      " park        park minseo     park@naver.com    2000\n"
     ]
    }
   ],
   "source": [
    "conn, cur =None,None\n",
    "data1, data2, data3, data4=\"\",\"\",\"\",\"\"\n",
    "sql=\"\"\n",
    "\n",
    "conn = pymysql.connect(host='localhost', user='root', password='1111', db='shoppingDB',charset='utf8')\n",
    "cur = conn.cursor()\n",
    "\n",
    "cur.execute('select * from userTable')\n",
    "\n",
    "print('사용자ID    사용자이름    이메일    출생연도')\n",
    "print('--------------------------------------------')\n",
    "\n",
    "while (True) :\n",
    "    row =cur.fetchone()\n",
    "    if row==None :\n",
    "        break\n",
    "    data1 = row[0]\n",
    "    data2 = row[1]\n",
    "    data3 = row[2]\n",
    "    data4 = row[3]\n",
    "    print(\"%5s    %15s    %15s    %d\"%(data1,data2,data3,data4))\n",
    "\n",
    "cur.close()\n",
    "    "
   ]
  },
  {
   "cell_type": "code",
   "execution_count": 22,
   "metadata": {},
   "outputs": [],
   "source": [
    "import csv\n",
    "import pymysql\n",
    "\n",
    "conn = pymysql.connect(host='localhost', user='root', password='1111', db='shoppingDB',charset='utf8')\n",
    "cur = conn.cursor()\n",
    "\n",
    "f =open('C:/Users/seon/Desktop/study/data.csv','r')\n",
    "csvReader = list(csv.reader(f))\n",
    "cur.execute('create table if not exists sba(name char(10), sex char(1), class char(1),attend char(1))')\n",
    "\n",
    "for data in csvReader[1:]:\n",
    "    row1 = data[0]\n",
    "    row2 = data[1]\n",
    "    row3 = data[2]\n",
    "    row4 = data[3]\n",
    "\n",
    "    sql=\"\"\"insert into sba(name, sex, class, attend) values(%s,%s,%s,%s);\"\"\"\n",
    "    cur.execute(sql, (row1,row2,row3,row4))\n",
    "\n",
    "f.close()\n",
    "conn.commit()"
   ]
  },
  {
   "cell_type": "code",
   "execution_count": 21,
   "metadata": {},
   "outputs": [
    {
     "ename": "OperationalError",
     "evalue": "(1054, \"Unknown column 'attend' in 'field list'\")",
     "output_type": "error",
     "traceback": [
      "\u001b[1;31m---------------------------------------------------------------------------\u001b[0m",
      "\u001b[1;31mOperationalError\u001b[0m                          Traceback (most recent call last)",
      "\u001b[1;32mUntitled-1.ipynb 셀 4\u001b[0m in \u001b[0;36m<cell line: 6>\u001b[1;34m()\u001b[0m\n\u001b[0;32m     <a href='vscode-notebook-cell:Untitled-1.ipynb?jupyter-notebook#X10sdW50aXRsZWQ%3D?line=9'>10</a>\u001b[0m     row4 \u001b[39m=\u001b[39m data[\u001b[39m3\u001b[39m]\n\u001b[0;32m     <a href='vscode-notebook-cell:Untitled-1.ipynb?jupyter-notebook#X10sdW50aXRsZWQ%3D?line=10'>11</a>\u001b[0m     sql \u001b[39m=\u001b[39m \u001b[39m\"\"\"\u001b[39m\u001b[39minsert into sba (name, sex, class, attend) values(\u001b[39m\u001b[39m%s\u001b[39;00m\u001b[39m, \u001b[39m\u001b[39m%s\u001b[39;00m\u001b[39m, \u001b[39m\u001b[39m%s\u001b[39;00m\u001b[39m, \u001b[39m\u001b[39m%s\u001b[39;00m\u001b[39m);\u001b[39m\u001b[39m\"\"\"\u001b[39m\n\u001b[1;32m---> <a href='vscode-notebook-cell:Untitled-1.ipynb?jupyter-notebook#X10sdW50aXRsZWQ%3D?line=11'>12</a>\u001b[0m     cur\u001b[39m.\u001b[39;49mexecute(sql, (row1, row2, row3, row4))\n\u001b[0;32m     <a href='vscode-notebook-cell:Untitled-1.ipynb?jupyter-notebook#X10sdW50aXRsZWQ%3D?line=12'>13</a>\u001b[0m f\u001b[39m.\u001b[39mclose()\n\u001b[0;32m     <a href='vscode-notebook-cell:Untitled-1.ipynb?jupyter-notebook#X10sdW50aXRsZWQ%3D?line=13'>14</a>\u001b[0m conn\u001b[39m.\u001b[39mcommit()\n",
      "File \u001b[1;32mc:\\Users\\seon\\.conda\\envs\\study\\lib\\site-packages\\pymysql\\cursors.py:148\u001b[0m, in \u001b[0;36mCursor.execute\u001b[1;34m(self, query, args)\u001b[0m\n\u001b[0;32m    144\u001b[0m     \u001b[39mpass\u001b[39;00m\n\u001b[0;32m    146\u001b[0m query \u001b[39m=\u001b[39m \u001b[39mself\u001b[39m\u001b[39m.\u001b[39mmogrify(query, args)\n\u001b[1;32m--> 148\u001b[0m result \u001b[39m=\u001b[39m \u001b[39mself\u001b[39;49m\u001b[39m.\u001b[39;49m_query(query)\n\u001b[0;32m    149\u001b[0m \u001b[39mself\u001b[39m\u001b[39m.\u001b[39m_executed \u001b[39m=\u001b[39m query\n\u001b[0;32m    150\u001b[0m \u001b[39mreturn\u001b[39;00m result\n",
      "File \u001b[1;32mc:\\Users\\seon\\.conda\\envs\\study\\lib\\site-packages\\pymysql\\cursors.py:310\u001b[0m, in \u001b[0;36mCursor._query\u001b[1;34m(self, q)\u001b[0m\n\u001b[0;32m    308\u001b[0m \u001b[39mself\u001b[39m\u001b[39m.\u001b[39m_last_executed \u001b[39m=\u001b[39m q\n\u001b[0;32m    309\u001b[0m \u001b[39mself\u001b[39m\u001b[39m.\u001b[39m_clear_result()\n\u001b[1;32m--> 310\u001b[0m conn\u001b[39m.\u001b[39;49mquery(q)\n\u001b[0;32m    311\u001b[0m \u001b[39mself\u001b[39m\u001b[39m.\u001b[39m_do_get_result()\n\u001b[0;32m    312\u001b[0m \u001b[39mreturn\u001b[39;00m \u001b[39mself\u001b[39m\u001b[39m.\u001b[39mrowcount\n",
      "File \u001b[1;32mc:\\Users\\seon\\.conda\\envs\\study\\lib\\site-packages\\pymysql\\connections.py:548\u001b[0m, in \u001b[0;36mConnection.query\u001b[1;34m(self, sql, unbuffered)\u001b[0m\n\u001b[0;32m    546\u001b[0m     sql \u001b[39m=\u001b[39m sql\u001b[39m.\u001b[39mencode(\u001b[39mself\u001b[39m\u001b[39m.\u001b[39mencoding, \u001b[39m\"\u001b[39m\u001b[39msurrogateescape\u001b[39m\u001b[39m\"\u001b[39m)\n\u001b[0;32m    547\u001b[0m \u001b[39mself\u001b[39m\u001b[39m.\u001b[39m_execute_command(COMMAND\u001b[39m.\u001b[39mCOM_QUERY, sql)\n\u001b[1;32m--> 548\u001b[0m \u001b[39mself\u001b[39m\u001b[39m.\u001b[39m_affected_rows \u001b[39m=\u001b[39m \u001b[39mself\u001b[39;49m\u001b[39m.\u001b[39;49m_read_query_result(unbuffered\u001b[39m=\u001b[39;49munbuffered)\n\u001b[0;32m    549\u001b[0m \u001b[39mreturn\u001b[39;00m \u001b[39mself\u001b[39m\u001b[39m.\u001b[39m_affected_rows\n",
      "File \u001b[1;32mc:\\Users\\seon\\.conda\\envs\\study\\lib\\site-packages\\pymysql\\connections.py:775\u001b[0m, in \u001b[0;36mConnection._read_query_result\u001b[1;34m(self, unbuffered)\u001b[0m\n\u001b[0;32m    773\u001b[0m \u001b[39melse\u001b[39;00m:\n\u001b[0;32m    774\u001b[0m     result \u001b[39m=\u001b[39m MySQLResult(\u001b[39mself\u001b[39m)\n\u001b[1;32m--> 775\u001b[0m     result\u001b[39m.\u001b[39;49mread()\n\u001b[0;32m    776\u001b[0m \u001b[39mself\u001b[39m\u001b[39m.\u001b[39m_result \u001b[39m=\u001b[39m result\n\u001b[0;32m    777\u001b[0m \u001b[39mif\u001b[39;00m result\u001b[39m.\u001b[39mserver_status \u001b[39mis\u001b[39;00m \u001b[39mnot\u001b[39;00m \u001b[39mNone\u001b[39;00m:\n",
      "File \u001b[1;32mc:\\Users\\seon\\.conda\\envs\\study\\lib\\site-packages\\pymysql\\connections.py:1156\u001b[0m, in \u001b[0;36mMySQLResult.read\u001b[1;34m(self)\u001b[0m\n\u001b[0;32m   1154\u001b[0m \u001b[39mdef\u001b[39;00m \u001b[39mread\u001b[39m(\u001b[39mself\u001b[39m):\n\u001b[0;32m   1155\u001b[0m     \u001b[39mtry\u001b[39;00m:\n\u001b[1;32m-> 1156\u001b[0m         first_packet \u001b[39m=\u001b[39m \u001b[39mself\u001b[39;49m\u001b[39m.\u001b[39;49mconnection\u001b[39m.\u001b[39;49m_read_packet()\n\u001b[0;32m   1158\u001b[0m         \u001b[39mif\u001b[39;00m first_packet\u001b[39m.\u001b[39mis_ok_packet():\n\u001b[0;32m   1159\u001b[0m             \u001b[39mself\u001b[39m\u001b[39m.\u001b[39m_read_ok_packet(first_packet)\n",
      "File \u001b[1;32mc:\\Users\\seon\\.conda\\envs\\study\\lib\\site-packages\\pymysql\\connections.py:725\u001b[0m, in \u001b[0;36mConnection._read_packet\u001b[1;34m(self, packet_type)\u001b[0m\n\u001b[0;32m    723\u001b[0m     \u001b[39mif\u001b[39;00m \u001b[39mself\u001b[39m\u001b[39m.\u001b[39m_result \u001b[39mis\u001b[39;00m \u001b[39mnot\u001b[39;00m \u001b[39mNone\u001b[39;00m \u001b[39mand\u001b[39;00m \u001b[39mself\u001b[39m\u001b[39m.\u001b[39m_result\u001b[39m.\u001b[39munbuffered_active \u001b[39mis\u001b[39;00m \u001b[39mTrue\u001b[39;00m:\n\u001b[0;32m    724\u001b[0m         \u001b[39mself\u001b[39m\u001b[39m.\u001b[39m_result\u001b[39m.\u001b[39munbuffered_active \u001b[39m=\u001b[39m \u001b[39mFalse\u001b[39;00m\n\u001b[1;32m--> 725\u001b[0m     packet\u001b[39m.\u001b[39;49mraise_for_error()\n\u001b[0;32m    726\u001b[0m \u001b[39mreturn\u001b[39;00m packet\n",
      "File \u001b[1;32mc:\\Users\\seon\\.conda\\envs\\study\\lib\\site-packages\\pymysql\\protocol.py:221\u001b[0m, in \u001b[0;36mMysqlPacket.raise_for_error\u001b[1;34m(self)\u001b[0m\n\u001b[0;32m    219\u001b[0m \u001b[39mif\u001b[39;00m DEBUG:\n\u001b[0;32m    220\u001b[0m     \u001b[39mprint\u001b[39m(\u001b[39m\"\u001b[39m\u001b[39merrno =\u001b[39m\u001b[39m\"\u001b[39m, errno)\n\u001b[1;32m--> 221\u001b[0m err\u001b[39m.\u001b[39;49mraise_mysql_exception(\u001b[39mself\u001b[39;49m\u001b[39m.\u001b[39;49m_data)\n",
      "File \u001b[1;32mc:\\Users\\seon\\.conda\\envs\\study\\lib\\site-packages\\pymysql\\err.py:143\u001b[0m, in \u001b[0;36mraise_mysql_exception\u001b[1;34m(data)\u001b[0m\n\u001b[0;32m    141\u001b[0m \u001b[39mif\u001b[39;00m errorclass \u001b[39mis\u001b[39;00m \u001b[39mNone\u001b[39;00m:\n\u001b[0;32m    142\u001b[0m     errorclass \u001b[39m=\u001b[39m InternalError \u001b[39mif\u001b[39;00m errno \u001b[39m<\u001b[39m \u001b[39m1000\u001b[39m \u001b[39melse\u001b[39;00m OperationalError\n\u001b[1;32m--> 143\u001b[0m \u001b[39mraise\u001b[39;00m errorclass(errno, errval)\n",
      "\u001b[1;31mOperationalError\u001b[0m: (1054, \"Unknown column 'attend' in 'field list'\")"
     ]
    }
   ],
   "source": [
    "conn = pymysql.connect(host='localhost', user='root', password='1111', db='shoppingDB', charset='utf8')\n",
    "cur = conn.cursor()\n",
    "f = open('C:/Users/seon/Desktop/study/data.csv', 'r') # csv 파일이 utf8로 인코딩이 되어 있을 때\n",
    "csvReader = list(csv.reader(f))\n",
    "cur.execute(\"CREATE TABLE IF NOT EXISTS sba (name char(10), sex char(1), class char(1), attend char(1))\")\n",
    "for data in csvReader[1:]: # csv 파일에 column명이 있다면 csvReader[1:]로 설정하고 하면 된다.\n",
    "    row1 = data[0]\n",
    "    row2 = data[1]\n",
    "    row3 = data[2]\n",
    "    row4 = data[3]\n",
    "    sql = \"\"\"insert into sba (name, sex, class, attend) values(%s, %s, %s, %s);\"\"\"\n",
    "    cur.execute(sql, (row1, row2, row3, row4))\n",
    "f.close()\n",
    "conn.commit()"
   ]
  },
  {
   "cell_type": "code",
   "execution_count": null,
   "metadata": {},
   "outputs": [],
   "source": []
  }
 ],
 "metadata": {
  "kernelspec": {
   "display_name": "Python 3.10.4 ('study')",
   "language": "python",
   "name": "python3"
  },
  "language_info": {
   "codemirror_mode": {
    "name": "ipython",
    "version": 3
   },
   "file_extension": ".py",
   "mimetype": "text/x-python",
   "name": "python",
   "nbconvert_exporter": "python",
   "pygments_lexer": "ipython3",
   "version": "3.10.4"
  },
  "orig_nbformat": 4,
  "vscode": {
   "interpreter": {
    "hash": "d1e21767e69694e6271cff48837b0419ac731655a1ddac958206c0399c4912a0"
   }
  }
 },
 "nbformat": 4,
 "nbformat_minor": 2
}
