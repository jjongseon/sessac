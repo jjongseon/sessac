{
 "cells": [
  {
   "cell_type": "markdown",
   "metadata": {},
   "source": [
    "# 군집형\n",
    "\n",
    "## 문자열(String) 타입\n",
    "\n",
    "### 기본 활용법\n",
    "\n",
    "* 문자열은 Single quotes(`'`)나 Double quotes(`\"`)을 활용하여 표현 가능합니다.\n",
    "\n",
    "    - 작은따옴표: `'\"큰\" 따옴표를 담을 수 있습니다'`\n",
    "\n",
    "    - 큰따옴표: `\"'작은' 따옴표를 담을 수 있습니다\"`\n",
    "\n",
    "    - 삼중 따옴표: `'''세 개의 작은따옴표'''`, `\"\"\"세 개의 큰따옴표\"\"\"`\n",
    "\n",
    "\n",
    "* 단, 문자열을 묶을 때 동일한 문장부호를 활용해야하며, `PEP-8`에서는 **하나의 문장부호를 선택**하여 유지하도록 하고 있습니다. \n",
    "(Pick a rule and Stick to it)"
   ]
  },
  {
   "cell_type": "code",
   "execution_count": 27,
   "metadata": {},
   "outputs": [],
   "source": [
    "# 변수에 문자열을 넣고 출력해봅시다.\n",
    "# 변수 greeting 에 hi를 name 에 'python'을 할당합시다. \n",
    "# 그리고 각각의 변수를 print로 찍어보고 type도 확인해봅시다."
   ]
  },
  {
   "cell_type": "code",
   "execution_count": 28,
   "metadata": {},
   "outputs": [
    {
     "name": "stdout",
     "output_type": "stream",
     "text": [
      "hi\n",
      "python\n",
      "<class 'str'>\n",
      "<class 'str'>\n"
     ]
    }
   ],
   "source": [
    "greeting = 'hi'\n",
    "name = 'python'\n",
    "print(greeting)\n",
    "print(name)\n",
    "print(type(greeting))\n",
    "print(type(name))"
   ]
  },
  {
   "cell_type": "code",
   "execution_count": 29,
   "metadata": {},
   "outputs": [],
   "source": [
    "# 변수 age 에 사용자로 부터 입력을 받을 수 있는 input()의 결과를 저장합시다.\n",
    "# age 에 입력받은 값이 저장되었는지 그리고 그 type이 무엇인지 확인해봅시다.\n",
    "# 숫자를 넣었을때와 문자를 넣었을때의 type이 같은지 다른지도 확인해봅시다."
   ]
  },
  {
   "cell_type": "code",
   "execution_count": 30,
   "metadata": {},
   "outputs": [
    {
     "name": "stdout",
     "output_type": "stream",
     "text": [
      "\n",
      "<class 'str'>\n"
     ]
    }
   ],
   "source": [
    "age = input()\n",
    "print(age)\n",
    "print(type(age))"
   ]
  },
  {
   "cell_type": "code",
   "execution_count": 31,
   "metadata": {},
   "outputs": [],
   "source": [
    "# 입력받은 문자열을 int로 형변환해봅시다."
   ]
  },
  {
   "cell_type": "code",
   "execution_count": 32,
   "metadata": {},
   "outputs": [
    {
     "ename": "ValueError",
     "evalue": "invalid literal for int() with base 10: ''",
     "output_type": "error",
     "traceback": [
      "\u001b[1;31m---------------------------------------------------------------------------\u001b[0m",
      "\u001b[1;31mValueError\u001b[0m                                Traceback (most recent call last)",
      "\u001b[1;32mc:\\Users\\seon\\Desktop\\study\\2_3_자료형_군집형.ipynb 셀 7\u001b[0m in \u001b[0;36m<cell line: 1>\u001b[1;34m()\u001b[0m\n\u001b[1;32m----> <a href='vscode-notebook-cell:/c%3A/Users/seon/Desktop/study/2_3_%EC%9E%90%EB%A3%8C%ED%98%95_%EA%B5%B0%EC%A7%91%ED%98%95.ipynb#W6sZmlsZQ%3D%3D?line=0'>1</a>\u001b[0m age\u001b[39m=\u001b[39m\u001b[39mint\u001b[39;49m(age)\n\u001b[0;32m      <a href='vscode-notebook-cell:/c%3A/Users/seon/Desktop/study/2_3_%EC%9E%90%EB%A3%8C%ED%98%95_%EA%B5%B0%EC%A7%91%ED%98%95.ipynb#W6sZmlsZQ%3D%3D?line=1'>2</a>\u001b[0m \u001b[39mtype\u001b[39m(age)\n",
      "\u001b[1;31mValueError\u001b[0m: invalid literal for int() with base 10: ''"
     ]
    }
   ],
   "source": [
    "age=int(age)\n",
    "type(age)"
   ]
  },
  {
   "cell_type": "markdown",
   "metadata": {},
   "source": [
    "#### 따옴표 사용\n",
    "\n",
    "문자열 안에 문장부호(`'`, `\"`)가 사용될 경우 이스케이프 문자(`\\`)를 활용 가능 합니다. "
   ]
  },
  {
   "cell_type": "code",
   "execution_count": null,
   "metadata": {},
   "outputs": [],
   "source": [
    "# 문자열 안에 문장부호가 들어간 '철수가 말했다. '안녕?'' 을 활용해서 오류를 확인해봅시다."
   ]
  },
  {
   "cell_type": "code",
   "execution_count": null,
   "metadata": {},
   "outputs": [],
   "source": [
    "print('철수가 말했다. '안녕?'')"
   ]
  },
  {
   "cell_type": "code",
   "execution_count": null,
   "metadata": {},
   "outputs": [],
   "source": [
    "# 해당 오류를 1) 이스케이프 문자와 2) 서로 다른 문장부호 구성을 통해 해결해봅시다."
   ]
  },
  {
   "cell_type": "code",
   "execution_count": null,
   "metadata": {},
   "outputs": [
    {
     "name": "stdout",
     "output_type": "stream",
     "text": [
      "철수가 말했다. '안녕?'\n"
     ]
    }
   ],
   "source": [
    "#1.\n",
    "print('철수가 말했다. \\'안녕?\\'')\n"
   ]
  },
  {
   "cell_type": "code",
   "execution_count": null,
   "metadata": {},
   "outputs": [
    {
     "name": "stdout",
     "output_type": "stream",
     "text": [
      "철수가 말했다. \"안녕?\"\n",
      "철수가 말했다. '안녕?'\n"
     ]
    }
   ],
   "source": [
    "#2.\n",
    "print('철수가 말했다. \"안녕?\"')\n",
    "print(\"철수가 말했다. '안녕?'\")\n"
   ]
  },
  {
   "cell_type": "markdown",
   "metadata": {},
   "source": [
    "여러줄에 걸쳐있는 문장은 다음과 같이 표현 가능합니다.\n",
    "\n",
    "* `PEP-8`에 따르면 이 경우에는 반드시 `\"\"\"`를 사용하도록 되어 있다."
   ]
  },
  {
   "cell_type": "code",
   "execution_count": null,
   "metadata": {},
   "outputs": [],
   "source": [
    "# 여러줄을 출력해봅시다."
   ]
  },
  {
   "cell_type": "code",
   "execution_count": null,
   "metadata": {},
   "outputs": [
    {
     "data": {
      "text/plain": [
       "'여러줄 문장\\n안녕 파이썬'"
      ]
     },
     "execution_count": 12,
     "metadata": {},
     "output_type": "execute_result"
    }
   ],
   "source": [
    "\"\"\"여러줄 문장\n",
    "안녕 파이썬\"\"\""
   ]
  },
  {
   "cell_type": "code",
   "execution_count": null,
   "metadata": {},
   "outputs": [],
   "source": [
    "# 문자열은 + 연산자로 이어붙이고, * 연산자로 반복시킬 수 있습니다.\n",
    "# 'heyheyhey yo!' 를 출력하도록 코드를 작성해봅시다."
   ]
  },
  {
   "cell_type": "code",
   "execution_count": null,
   "metadata": {},
   "outputs": [
    {
     "name": "stdout",
     "output_type": "stream",
     "text": [
      "heyheyhey yo!\n"
     ]
    }
   ],
   "source": [
    "print('hey'*3+ ' yo!')"
   ]
  },
  {
   "cell_type": "code",
   "execution_count": null,
   "metadata": {},
   "outputs": [],
   "source": [
    "# 당연히 변수화해서도 사용가능합니다.\n",
    "# 변수 prefix에 'Py'를 할당합니다.\n",
    "# 그리고 prefix에 'thon'을 붙여봅시다."
   ]
  },
  {
   "cell_type": "code",
   "execution_count": null,
   "metadata": {},
   "outputs": [
    {
     "data": {
      "text/plain": [
       "'Python'"
      ]
     },
     "execution_count": 18,
     "metadata": {},
     "output_type": "execute_result"
    }
   ],
   "source": [
    "prefix = 'Py'\n",
    "prefix + 'thon'"
   ]
  },
  {
   "cell_type": "markdown",
   "metadata": {},
   "source": [
    "### 이스케이프 시퀀스\n",
    "\n",
    "문자열을 활용하는 경우 특수문자 혹은 조작을 하기 위하여 사용되는 것으로 `\\`를 활용하여 이를 구분합니다. \n",
    "\n",
    "|<center>예약문자</center>|내용(의미)|\n",
    "|:--------:|:--------:|\n",
    "|\\n|줄 바꿈|\n",
    "|\\t|탭|\n",
    "|\\r|캐리지리턴|\n",
    "|\\0|널(Null)|\n",
    "|\\\\\\\\ |`\\`|\n",
    "|\\\\'|단일인용부호(`'`)|\n",
    "|\\\\\"|이중인용부호(`\"`)|"
   ]
  },
  {
   "cell_type": "code",
   "execution_count": null,
   "metadata": {},
   "outputs": [],
   "source": [
    "# print를 한번만 사용하여 이스케이프 문자열을 조합하여 다음 결과가 나올 수 있게 해봅시다.\n",
    "# '엔터\n",
    "# 탭    탭'"
   ]
  },
  {
   "cell_type": "code",
   "execution_count": null,
   "metadata": {},
   "outputs": [
    {
     "name": "stdout",
     "output_type": "stream",
     "text": [
      "엔터\n",
      "탭\t탭 \n"
     ]
    }
   ],
   "source": [
    "print('엔터\\n탭\\t탭 ')"
   ]
  },
  {
   "cell_type": "code",
   "execution_count": null,
   "metadata": {},
   "outputs": [],
   "source": [
    "# print 함수의 end 옵션에도 이스케이프 문자를 사용할 수 있습니다.\n",
    "# 아래 코드를 수정하여 다음의 결과를 출력해봅시다.\n",
    "# '내용을 띄워서 출력하고 싶으면?    옆으로 띄워짐'"
   ]
  },
  {
   "cell_type": "code",
   "execution_count": null,
   "metadata": {},
   "outputs": [
    {
     "name": "stdout",
     "output_type": "stream",
     "text": [
      "내용을 띄워서 출력하고 싶으면?\t옆으로 띄워짐\n"
     ]
    }
   ],
   "source": [
    "print('내용을 띄워서 출력하고 싶으면?', end='\\t')\n",
    "print('옆으로 띄워짐')"
   ]
  },
  {
   "cell_type": "code",
   "execution_count": null,
   "metadata": {
    "scrolled": true
   },
   "outputs": [
    {
     "name": "stdout",
     "output_type": "stream",
     "text": [
      "안녕하세요반가워요\n"
     ]
    }
   ],
   "source": [
    "print('안녕하세요', end='')\n",
    "print('반가워요')"
   ]
  },
  {
   "cell_type": "code",
   "execution_count": null,
   "metadata": {},
   "outputs": [],
   "source": [
    "# print 함수의 end 옵션의 기본은 \\n입니다.\n",
    "# 물론, end 옵션은 이스케이프 문자열이 아닌 다른 것도 가능합니다.\n",
    "# end에 다른 문자열도 넣을 수 있습니다. \n",
    "# 아래 코드를 수정하여 다음의 결과를 출력해봅시다.\n",
    "# '개행 문자 말고도 가능합니다!진짜로!알고보면 print는 기본이\\n!'"
   ]
  },
  {
   "cell_type": "code",
   "execution_count": null,
   "metadata": {},
   "outputs": [
    {
     "name": "stdout",
     "output_type": "stream",
     "text": [
      "개행 문자 말고도 가능합니다\n",
      "진짜로\n",
      "알고보면 print는 기본이 \\n\n"
     ]
    }
   ],
   "source": [
    "print('개행 문자 말고도 가능합니다')\n",
    "print('진짜로')\n",
    "print('알고보면 print는 기본이 \\\\n')"
   ]
  },
  {
   "cell_type": "markdown",
   "metadata": {},
   "source": [
    "### String interpolation \n",
    "\n",
    "* `%-formatting` \n",
    "\n",
    "    * `%d` : 정수\n",
    "    \n",
    "    * `%f` : 실수\n",
    "    \n",
    "    * `%s` : 문자열\n",
    "\n",
    "* [`str.format()` ](https://pyformat.info/)\n",
    "\n",
    "* [`f-strings`](https://www.python.org/dev/peps/pep-0498/) : 파이썬 3.6 이후 버전에서 지원"
   ]
  },
  {
   "cell_type": "code",
   "execution_count": 33,
   "metadata": {},
   "outputs": [
    {
     "name": "stdout",
     "output_type": "stream",
     "text": [
      "https://www.saramin.co.kr/zf_user/jobs/public/list?page=1\n",
      "https://www.saramin.co.kr/zf_user/jobs/public/list?page=2\n",
      "https://www.saramin.co.kr/zf_user/jobs/public/list?page=3\n",
      "https://www.saramin.co.kr/zf_user/jobs/public/list?page=4\n",
      "https://www.saramin.co.kr/zf_user/jobs/public/list?page=5\n",
      "https://www.saramin.co.kr/zf_user/jobs/public/list?page=6\n",
      "https://www.saramin.co.kr/zf_user/jobs/public/list?page=7\n",
      "https://www.saramin.co.kr/zf_user/jobs/public/list?page=8\n",
      "https://www.saramin.co.kr/zf_user/jobs/public/list?page=9\n"
     ]
    }
   ],
   "source": [
    "# 참고 f-string\n",
    "for page in range(1,10):\n",
    "    TARGET_URL = f'https://www.saramin.co.kr/zf_user/jobs/public/list?page={page}'\n",
    "    print(TARGET_URL)"
   ]
  },
  {
   "cell_type": "code",
   "execution_count": null,
   "metadata": {},
   "outputs": [],
   "source": [
    "# name 변수에 이름, score 변수에 학점을 넣어봅시다."
   ]
  },
  {
   "cell_type": "code",
   "execution_count": 34,
   "metadata": {},
   "outputs": [],
   "source": [
    "name = 'jason'\n",
    "score = 4.3"
   ]
  },
  {
   "cell_type": "code",
   "execution_count": null,
   "metadata": {},
   "outputs": [],
   "source": [
    "# %-formatting을 활용해봅시다.\n",
    "# print를 이용하여 name 을 출력해봅시다..\n",
    "# print를 이용하여 score를 정수 형태로 출력해봅시다.\n",
    "# print를 이용하여 score를 실수 형태로 출력해봅시다."
   ]
  },
  {
   "cell_type": "code",
   "execution_count": 35,
   "metadata": {},
   "outputs": [
    {
     "name": "stdout",
     "output_type": "stream",
     "text": [
      "이름: jason\n",
      "이름: 4\n",
      "이름: 4.30\n"
     ]
    }
   ],
   "source": [
    "print('이름: %s' %name)\n",
    "print('이름: %d' %score)\n",
    "print('이름: %.2f' %score)"
   ]
  },
  {
   "cell_type": "code",
   "execution_count": null,
   "metadata": {},
   "outputs": [],
   "source": [
    "# str.format()을 활용해봅시다.\n",
    "# name 을 출력해봅시다."
   ]
  },
  {
   "cell_type": "code",
   "execution_count": 36,
   "metadata": {},
   "outputs": [
    {
     "data": {
      "text/plain": [
       "'이름: jason'"
      ]
     },
     "execution_count": 36,
     "metadata": {},
     "output_type": "execute_result"
    }
   ],
   "source": [
    "'이름: {}'.format(name)"
   ]
  },
  {
   "cell_type": "code",
   "execution_count": null,
   "metadata": {},
   "outputs": [],
   "source": [
    "# f-string을 활용해봅시다.\n",
    "# name 을 출력해봅시다."
   ]
  },
  {
   "cell_type": "code",
   "execution_count": 37,
   "metadata": {},
   "outputs": [
    {
     "data": {
      "text/plain": [
       "'이름: jason'"
      ]
     },
     "execution_count": 37,
     "metadata": {},
     "output_type": "execute_result"
    }
   ],
   "source": [
    "f'이름: {name}'"
   ]
  },
  {
   "cell_type": "code",
   "execution_count": null,
   "metadata": {},
   "outputs": [],
   "source": [
    "# 여러줄 문자열에서도 사용 가능합니다.\n",
    "# f-string을 이용하여 name을 여러줄 문자열로 출력해봅시다."
   ]
  },
  {
   "cell_type": "code",
   "execution_count": 38,
   "metadata": {},
   "outputs": [
    {
     "name": "stdout",
     "output_type": "stream",
     "text": [
      "\n",
      "안녕하세요 jason\n",
      "학점은 4.30\n",
      "\n"
     ]
    }
   ],
   "source": [
    "print(f'''\n",
    "안녕하세요 {name}\n",
    "학점은 {score:.2f}\n",
    "''')"
   ]
  },
  {
   "cell_type": "markdown",
   "metadata": {},
   "source": [
    "* f-strings에서는 형식을 지정할 수 있습니다."
   ]
  },
  {
   "cell_type": "code",
   "execution_count": null,
   "metadata": {},
   "outputs": [],
   "source": [
    "# 다양한 형식을 활용하기 위해 datetime 모듈로 오늘을 표현해봅시다.\n",
    "# today 에 현재 시간 날짜를 할당해봅시다.\n",
    "# print를 이용하여 today를 출력해봅시다."
   ]
  },
  {
   "cell_type": "code",
   "execution_count": 39,
   "metadata": {},
   "outputs": [
    {
     "name": "stdout",
     "output_type": "stream",
     "text": [
      "2022-08-19 15:44:55.377492\n"
     ]
    }
   ],
   "source": [
    "import datetime\n",
    "today = datetime.datetime.now()\n",
    "print(today)"
   ]
  },
  {
   "cell_type": "code",
   "execution_count": null,
   "metadata": {},
   "outputs": [],
   "source": [
    "# interpolation에서 출력형식을 지정할 수 있습니다.\n",
    "# today에 저장된 시간을 YYYY년, mm월, dd일, a요일 로 구분해서 출력해봅시다."
   ]
  },
  {
   "cell_type": "code",
   "execution_count": 41,
   "metadata": {},
   "outputs": [
    {
     "data": {
      "text/plain": [
       "datetime.datetime"
      ]
     },
     "execution_count": 41,
     "metadata": {},
     "output_type": "execute_result"
    }
   ],
   "source": [
    "type(today)"
   ]
  },
  {
   "cell_type": "code",
   "execution_count": 40,
   "metadata": {},
   "outputs": [
    {
     "name": "stdout",
     "output_type": "stream",
     "text": [
      "오늘은 2022년 08월 19일 Friday\n"
     ]
    }
   ],
   "source": [
    "print(f'오늘은 {today:%Y}년 {today:%m}월 {today:%d}일 {today:%A}')"
   ]
  },
  {
   "cell_type": "markdown",
   "metadata": {},
   "source": [
    "* f-strings에서는 연산과 출력형식 지정도 가능합니다."
   ]
  },
  {
   "cell_type": "code",
   "execution_count": null,
   "metadata": {},
   "outputs": [],
   "source": [
    "# string interpolation을 통해 출력형식 지정 뿐만 아니라, 연산도 가능합니다.\n",
    "# pi = 3.141592 를 할당하고 \n",
    "# 원주율은 3.14를 출력해봅시다."
   ]
  },
  {
   "cell_type": "code",
   "execution_count": 42,
   "metadata": {},
   "outputs": [
    {
     "data": {
      "text/plain": [
       "'원주율은 3.14'"
      ]
     },
     "execution_count": 42,
     "metadata": {},
     "output_type": "execute_result"
    }
   ],
   "source": [
    "pi = 3.141592\n",
    "'원주율은 %.2f'%pi"
   ]
  },
  {
   "cell_type": "code",
   "execution_count": null,
   "metadata": {},
   "outputs": [],
   "source": [
    "# 반지름이 2일 때 원의 넓이는 12.566368 이라고 출력해봅시다."
   ]
  },
  {
   "cell_type": "code",
   "execution_count": 44,
   "metadata": {},
   "outputs": [
    {
     "name": "stdout",
     "output_type": "stream",
     "text": [
      "반지름이 2일 때 원의 넓이는 12.566368\n",
      "반지름이 2일 때 원의 넓이는 12.566368\n"
     ]
    }
   ],
   "source": [
    "print('반지름이 %s일 때 원의 넓이는 %f'%(2,2*2*pi))\n",
    "print(f'반지름이 {2}일 때 원의 넓이는 {2*2*pi}')"
   ]
  },
  {
   "cell_type": "markdown",
   "metadata": {},
   "source": [
    "<p style=\"font-size: 33px; font-weight: 700; margin-bottom: 3rem\">컨테이너(Container)</p>\n",
    "\n",
    "여러 개의 값을 저장할 수 있는 것(~~객체~~)\n",
    "\n",
    "- 시퀀스(Sequence)형: 순서가 있는(ordered) 데이터\n",
    "- 비 시퀀스(Non-sequence)형: 순서가 없는(unordered) 데이터"
   ]
  },
  {
   "cell_type": "markdown",
   "metadata": {},
   "source": [
    "# 시퀀스(sequence)형 컨테이너\n",
    "\n",
    "`시퀀스`는 데이터가 순서대로 나열된(ordered) 형식을 나타냅니다. \n",
    "\n",
    "* **주의! 순서대로 나열된 것이 `정렬되었다(sorted)`라는 뜻은 아닙니다.**\n",
    "\n",
    "## 특징\n",
    "1. 순서를 가질 수 있습니다.\n",
    "\n",
    "2. **특정 위치의 데이터를 가리킬 수 있습니다.**\n",
    "\n",
    "## 종류\n",
    "파이썬에서 기본적인 시퀀스 타입은 다음과 같습니다.\n",
    "\n",
    "* 리스트(list)\n",
    "\n",
    "* 튜플(tuple)\n",
    "\n",
    "* 레인지(range)\n",
    "\n",
    "* *문자형(string)*\n",
    "\n",
    "* *바이너리(binary)* : 따로 다루지는 않습니다.\n"
   ]
  },
  {
   "cell_type": "markdown",
   "metadata": {},
   "source": [
    "\n",
    "## 리스트(`list`)\n",
    "\n",
    "<center><img src=\"https://user-images.githubusercontent.com/18046097/61180421-fe90ae80-a650-11e9-8211-d06f87756d05.png\", alt=\"list figure\"/></center>"
   ]
  },
  {
   "cell_type": "markdown",
   "metadata": {},
   "source": [
    "**활용법**\n",
    "```python\n",
    "[value1, value2, value3]\n",
    "```\n",
    "\n",
    "리스트는 대괄호`[]` 및 `list()` 를 통해 만들 수 있습니다.\n",
    "\n",
    "값에 대한 접근은 `list[i]`를 통해 합니다."
   ]
  },
  {
   "cell_type": "code",
   "execution_count": null,
   "metadata": {},
   "outputs": [],
   "source": [
    "# 빈 list를 만들어봅시다.\n",
    "# 변수명 my_list인 list를 대괄호로 만들어봅시다.\n",
    "# 변수명 another_list인 list를 list()로 만들어 봅시다.\n",
    "# 두 변수의 타입을 출력해 봅시다."
   ]
  },
  {
   "cell_type": "code",
   "execution_count": 45,
   "metadata": {},
   "outputs": [
    {
     "name": "stdout",
     "output_type": "stream",
     "text": [
      "<class 'list'>\n",
      "<class 'list'>\n"
     ]
    }
   ],
   "source": [
    "my_list = []\n",
    "another_list = list()\n",
    "\n",
    "print(type(my_list))\n",
    "print(type(another_list))"
   ]
  },
  {
   "cell_type": "code",
   "execution_count": null,
   "metadata": {},
   "outputs": [],
   "source": [
    "# 원소를 포함한 list를 만들어 봅시다.\n",
    "# 변수명이 location인 list에 국내 지역 5곳을 원소로 포함해 만들어 봅시다.\n",
    "# 변수 location을 출력해 봅시다.\n",
    "# location의 타입을 출력해 봅시다."
   ]
  },
  {
   "cell_type": "code",
   "execution_count": 46,
   "metadata": {},
   "outputs": [
    {
     "name": "stdout",
     "output_type": "stream",
     "text": [
      "<class 'list'>\n"
     ]
    }
   ],
   "source": [
    "location = ['서울', '경기', '대전', '광주', '부산']\n",
    "print(type(location))\n"
   ]
  },
  {
   "cell_type": "code",
   "execution_count": null,
   "metadata": {},
   "outputs": [],
   "source": [
    "# location의 첫번째 값을 인덱스로 접근해 봅시다."
   ]
  },
  {
   "cell_type": "code",
   "execution_count": 47,
   "metadata": {},
   "outputs": [
    {
     "data": {
      "text/plain": [
       "'서울'"
      ]
     },
     "execution_count": 47,
     "metadata": {},
     "output_type": "execute_result"
    }
   ],
   "source": [
    "location[0]"
   ]
  },
  {
   "cell_type": "code",
   "execution_count": null,
   "metadata": {},
   "outputs": [],
   "source": [
    "# 첫 번째 요소를 강릉으로 바꿔봅시다."
   ]
  },
  {
   "cell_type": "code",
   "execution_count": 48,
   "metadata": {},
   "outputs": [
    {
     "data": {
      "text/plain": [
       "['강릉', '경기', '대전', '광주', '부산']"
      ]
     },
     "execution_count": 48,
     "metadata": {},
     "output_type": "execute_result"
    }
   ],
   "source": [
    "location[0]='강릉'\n",
    "location"
   ]
  },
  {
   "cell_type": "markdown",
   "metadata": {},
   "source": [
    "단, 인덱스로 접근할 수 있다는 말이 값을 변경 할 수 있다는 말과 동일한 것은 아님!!"
   ]
  },
  {
   "cell_type": "code",
   "execution_count": null,
   "metadata": {},
   "outputs": [],
   "source": []
  },
  {
   "cell_type": "markdown",
   "metadata": {},
   "source": [
    "## 튜플(`tuple`)\n",
    "\n",
    "**활용법**\n",
    "```python\n",
    "(value1, value2)\n",
    "```\n",
    "\n",
    "튜플은 리스트와 유사하지만, `()`로 묶어서 표현합니다.\n",
    "\n",
    "그리고 tuple은 수정 불가능(불변, immutable)하고, 읽을 수 밖에 없습니다.\n",
    "\n",
    "직접 사용하기 보다는 파이썬 내부에서 다양한 용도로 활용되고 있습니다."
   ]
  },
  {
   "cell_type": "code",
   "execution_count": null,
   "metadata": {},
   "outputs": [],
   "source": [
    "# tuple을 만들어봅시다.\n",
    "# 변수명이 my_tuple인 tuple을 만들어 봅시다. 단, 무작위 정수 2개를 포함하여 만듭니다.\n",
    "# my_tuple의 타입을 출력해 봅시다."
   ]
  },
  {
   "cell_type": "code",
   "execution_count": 49,
   "metadata": {},
   "outputs": [
    {
     "name": "stdout",
     "output_type": "stream",
     "text": [
      "<class 'tuple'>\n"
     ]
    }
   ],
   "source": [
    "my_tuple = (37, 58)\n",
    "print(type(my_tuple))"
   ]
  },
  {
   "cell_type": "code",
   "execution_count": null,
   "metadata": {},
   "outputs": [],
   "source": [
    "# 아래와 같은 방식으로도 만들 수 있습니다."
   ]
  },
  {
   "cell_type": "code",
   "execution_count": 50,
   "metadata": {},
   "outputs": [
    {
     "name": "stdout",
     "output_type": "stream",
     "text": [
      "(1, 2)\n",
      "<class 'tuple'>\n"
     ]
    }
   ],
   "source": [
    "another_tuple = 1, 2\n",
    "print(another_tuple)\n",
    "print(type(another_tuple))"
   ]
  },
  {
   "cell_type": "code",
   "execution_count": null,
   "metadata": {},
   "outputs": [],
   "source": [
    "# 파이썬 내부에서는 다음과 같이 활용됩니다. (변수 및 자료형 예제에서 사용된 코드입니다.)"
   ]
  },
  {
   "cell_type": "code",
   "execution_count": null,
   "metadata": {},
   "outputs": [],
   "source": [
    "x, y = 1, 2 # tuple\n",
    "print(x)\n",
    "print(y)"
   ]
  },
  {
   "cell_type": "code",
   "execution_count": null,
   "metadata": {},
   "outputs": [],
   "source": [
    "# 실제로는 tuple로 처리됩니다."
   ]
  },
  {
   "cell_type": "code",
   "execution_count": 51,
   "metadata": {},
   "outputs": [
    {
     "name": "stdout",
     "output_type": "stream",
     "text": [
      "1\n",
      "2\n"
     ]
    }
   ],
   "source": [
    "x, y = (1, 2)\n",
    "print(x)\n",
    "print(y)"
   ]
  },
  {
   "cell_type": "code",
   "execution_count": null,
   "metadata": {},
   "outputs": [],
   "source": [
    "# 변수의 값을 swap하는 코드 역시 tuple을 활용하고 있습니다. "
   ]
  },
  {
   "cell_type": "code",
   "execution_count": null,
   "metadata": {
    "scrolled": true
   },
   "outputs": [],
   "source": [
    "x, y = y, x\n",
    "print(x)\n",
    "print(y)"
   ]
  },
  {
   "cell_type": "code",
   "execution_count": null,
   "metadata": {},
   "outputs": [],
   "source": [
    "# 변수명이 empty인 빈 tuple을 만들어 봅시다.\n",
    "# 빈 tuple은 빈 괄호 쌍으로 만들어집니다.\n",
    "# empty의 타입을 출력해 봅시다.\n",
    "# empty의 길이를 출력해 봅시다."
   ]
  },
  {
   "cell_type": "code",
   "execution_count": 52,
   "metadata": {},
   "outputs": [
    {
     "name": "stdout",
     "output_type": "stream",
     "text": [
      "<class 'tuple'>\n",
      "0\n"
     ]
    }
   ],
   "source": [
    "empty =()\n",
    "print(type(empty))\n",
    "print(len(empty))"
   ]
  },
  {
   "cell_type": "code",
   "execution_count": null,
   "metadata": {},
   "outputs": [],
   "source": [
    "# 변수명이 single_tuple인 하나의 요소(값)로 구성된 tuple을 만들어 봅시다. (길이가 1)\n",
    "# 하나의 요소(값)로 구성된 tuple은 값 뒤에 쉼표를 붙여서 만듭니다.\n",
    "# single_tuple의 타입을 출력해 봅시다.\n",
    "# single_tuple의 길이를 출력해 봅시다."
   ]
  },
  {
   "cell_type": "code",
   "execution_count": 55,
   "metadata": {},
   "outputs": [
    {
     "name": "stdout",
     "output_type": "stream",
     "text": [
      "<class 'tuple'>\n"
     ]
    }
   ],
   "source": [
    "single_tuple = 5,\n",
    "print(type(single_tuple))"
   ]
  },
  {
   "cell_type": "code",
   "execution_count": null,
   "metadata": {},
   "outputs": [],
   "source": [
    "# 길이가 1인 tuple을 만들 때 쉼표가 없는 경우 어떻게 되는지 확인 해봅시다."
   ]
  },
  {
   "cell_type": "code",
   "execution_count": 56,
   "metadata": {},
   "outputs": [
    {
     "name": "stdout",
     "output_type": "stream",
     "text": [
      "<class 'str'>\n"
     ]
    }
   ],
   "source": [
    "tuple_or_not = ('hello') # tuple 아님\n",
    "print(type(tuple_or_not))"
   ]
  },
  {
   "cell_type": "code",
   "execution_count": null,
   "metadata": {},
   "outputs": [],
   "source": [
    "# 이를 튜플로 만들려면 어떻게 해야될까요\n",
    "## ,를 붙혀준다\n"
   ]
  },
  {
   "cell_type": "code",
   "execution_count": 57,
   "metadata": {},
   "outputs": [
    {
     "name": "stdout",
     "output_type": "stream",
     "text": [
      "<class 'tuple'>\n"
     ]
    }
   ],
   "source": [
    "tuple_or_not = ('hello',)\n",
    "print(type(tuple_or_not))"
   ]
  },
  {
   "cell_type": "code",
   "execution_count": 58,
   "metadata": {},
   "outputs": [
    {
     "name": "stdout",
     "output_type": "stream",
     "text": [
      "<class 'tuple'>\n",
      "(1, 2)\n"
     ]
    }
   ],
   "source": [
    "# 추가\n",
    "def my_func(a, b):\n",
    "    return a, b\n",
    "\n",
    "ans = my_func(1, 2)\n",
    "print(type(ans)) # tuple\n",
    "print(ans)"
   ]
  },
  {
   "cell_type": "code",
   "execution_count": 60,
   "metadata": {},
   "outputs": [
    {
     "name": "stdout",
     "output_type": "stream",
     "text": [
      "1\n"
     ]
    }
   ],
   "source": [
    "# 추가2 \n",
    "# 인덱스 접근이 가능한 것과 '수정'이 가능한 것은 다른 의미!\n",
    "my_tuple = (1, 2, 3)\n",
    "# print(my_tuple)\n",
    "print(my_tuple[0])\n"
   ]
  },
  {
   "cell_type": "code",
   "execution_count": 61,
   "metadata": {},
   "outputs": [
    {
     "ename": "TypeError",
     "evalue": "'tuple' object does not support item assignment",
     "output_type": "error",
     "traceback": [
      "\u001b[1;31m---------------------------------------------------------------------------\u001b[0m",
      "\u001b[1;31mTypeError\u001b[0m                                 Traceback (most recent call last)",
      "\u001b[1;32mc:\\Users\\seon\\Desktop\\study\\2_3_자료형_군집형.ipynb 셀 87\u001b[0m in \u001b[0;36m<cell line: 1>\u001b[1;34m()\u001b[0m\n\u001b[1;32m----> <a href='vscode-notebook-cell:/c%3A/Users/seon/Desktop/study/2_3_%EC%9E%90%EB%A3%8C%ED%98%95_%EA%B5%B0%EC%A7%91%ED%98%95.ipynb#Y560sZmlsZQ%3D%3D?line=0'>1</a>\u001b[0m my_tuple[\u001b[39m0\u001b[39;49m] \u001b[39m=\u001b[39m \u001b[39m4\u001b[39m\n\u001b[0;32m      <a href='vscode-notebook-cell:/c%3A/Users/seon/Desktop/study/2_3_%EC%9E%90%EB%A3%8C%ED%98%95_%EA%B5%B0%EC%A7%91%ED%98%95.ipynb#Y560sZmlsZQ%3D%3D?line=1'>2</a>\u001b[0m \u001b[39mprint\u001b[39m(my_tuple)\n",
      "\u001b[1;31mTypeError\u001b[0m: 'tuple' object does not support item assignment"
     ]
    }
   ],
   "source": [
    "my_tuple[0] = 4\n",
    "print(my_tuple)"
   ]
  },
  {
   "cell_type": "code",
   "execution_count": 62,
   "metadata": {},
   "outputs": [
    {
     "name": "stdout",
     "output_type": "stream",
     "text": [
      "b\n"
     ]
    },
    {
     "ename": "TypeError",
     "evalue": "'str' object does not support item assignment",
     "output_type": "error",
     "traceback": [
      "\u001b[1;31m---------------------------------------------------------------------------\u001b[0m",
      "\u001b[1;31mTypeError\u001b[0m                                 Traceback (most recent call last)",
      "\u001b[1;32mc:\\Users\\seon\\Desktop\\study\\2_3_자료형_군집형.ipynb 셀 88\u001b[0m in \u001b[0;36m<cell line: 5>\u001b[1;34m()\u001b[0m\n\u001b[0;32m      <a href='vscode-notebook-cell:/c%3A/Users/seon/Desktop/study/2_3_%EC%9E%90%EB%A3%8C%ED%98%95_%EA%B5%B0%EC%A7%91%ED%98%95.ipynb#Y150sZmlsZQ%3D%3D?line=2'>3</a>\u001b[0m my_name \u001b[39m=\u001b[39m \u001b[39m'\u001b[39m\u001b[39mbruno\u001b[39m\u001b[39m'\u001b[39m\n\u001b[0;32m      <a href='vscode-notebook-cell:/c%3A/Users/seon/Desktop/study/2_3_%EC%9E%90%EB%A3%8C%ED%98%95_%EA%B5%B0%EC%A7%91%ED%98%95.ipynb#Y150sZmlsZQ%3D%3D?line=3'>4</a>\u001b[0m \u001b[39mprint\u001b[39m(my_name[\u001b[39m0\u001b[39m])\n\u001b[1;32m----> <a href='vscode-notebook-cell:/c%3A/Users/seon/Desktop/study/2_3_%EC%9E%90%EB%A3%8C%ED%98%95_%EA%B5%B0%EC%A7%91%ED%98%95.ipynb#Y150sZmlsZQ%3D%3D?line=4'>5</a>\u001b[0m my_name[\u001b[39m0\u001b[39;49m] \u001b[39m=\u001b[39m \u001b[39m'\u001b[39m\u001b[39mj\u001b[39m\u001b[39m'\u001b[39m\n",
      "\u001b[1;31mTypeError\u001b[0m: 'str' object does not support item assignment"
     ]
    }
   ],
   "source": [
    "# 참고\n",
    "# 인덱스 접근이 가능한 것과 '수정'이 가능한 것은 다른 의미!\n",
    "my_name = 'bruno'\n",
    "print(my_name[0])\n",
    "my_name[0] = 'j'"
   ]
  },
  {
   "cell_type": "markdown",
   "metadata": {},
   "source": [
    "## 레인지(`range()`)\n",
    "\n",
    "`range` 는 숫자의 시퀀스를 나타내기 위해 사용됩니다.\n",
    "\n",
    "기본형 : `range(n)` \n",
    "\n",
    "\n",
    "> 0부터 n-1까지 값을 가짐\n",
    "\n",
    "\n",
    "범위 지정 : `range(n, m)` \n",
    "\n",
    "> n부터 m-1까지 값을 가짐\n",
    "\n",
    "범위 및 스텝 지정 : `range(n, m, s)`\n",
    "\n",
    "> n부터 m-1까지 +s만큼 증가한다"
   ]
  },
  {
   "cell_type": "code",
   "execution_count": null,
   "metadata": {},
   "outputs": [],
   "source": [
    "# range를 만들어봅시다.\n",
    "# 0부터 2까지 값을 가지는 range를 만들고 타입을 출력해 봅시다."
   ]
  },
  {
   "cell_type": "code",
   "execution_count": 65,
   "metadata": {},
   "outputs": [
    {
     "name": "stdout",
     "output_type": "stream",
     "text": [
      "range(0, 3)\n",
      "<class 'type'>\n"
     ]
    }
   ],
   "source": [
    "print(range(3))\n",
    "print(type(range))"
   ]
  },
  {
   "cell_type": "code",
   "execution_count": null,
   "metadata": {},
   "outputs": [],
   "source": [
    "#1. range 객체를 list로 변환"
   ]
  },
  {
   "cell_type": "code",
   "execution_count": 66,
   "metadata": {},
   "outputs": [
    {
     "data": {
      "text/plain": [
       "[0, 1, 2]"
      ]
     },
     "execution_count": 66,
     "metadata": {},
     "output_type": "execute_result"
    }
   ],
   "source": [
    "list(range(3))"
   ]
  },
  {
   "cell_type": "code",
   "execution_count": null,
   "metadata": {},
   "outputs": [],
   "source": [
    "#2. for에서 range 활용"
   ]
  },
  {
   "cell_type": "code",
   "execution_count": 67,
   "metadata": {},
   "outputs": [
    {
     "name": "stdout",
     "output_type": "stream",
     "text": [
      "hello\n",
      "hello\n",
      "hello\n",
      "hello\n",
      "hello\n"
     ]
    }
   ],
   "source": [
    "for i in range(5):\n",
    "    print('hello')"
   ]
  },
  {
   "cell_type": "code",
   "execution_count": null,
   "metadata": {},
   "outputs": [],
   "source": [
    "# 0부터 9까지 값을 가지는 range를 만들고 list로 형 변환을 해 봅시다.\n",
    "# 작성한 range를 list()로 감싸 형 변환 할 수 있습니다."
   ]
  },
  {
   "cell_type": "code",
   "execution_count": 68,
   "metadata": {},
   "outputs": [
    {
     "data": {
      "text/plain": [
       "[0, 1, 2, 3, 4, 5, 6, 7, 8, 9]"
      ]
     },
     "execution_count": 68,
     "metadata": {},
     "output_type": "execute_result"
    }
   ],
   "source": [
    "list(range(10))"
   ]
  },
  {
   "cell_type": "code",
   "execution_count": null,
   "metadata": {},
   "outputs": [],
   "source": [
    "# 4부터 8까지의 숫자를 담은 range를 만들고 list로 형 변환을 해 봅시다."
   ]
  },
  {
   "cell_type": "code",
   "execution_count": 70,
   "metadata": {
    "scrolled": true
   },
   "outputs": [
    {
     "data": {
      "text/plain": [
       "[4, 5, 6, 7, 8]"
      ]
     },
     "execution_count": 70,
     "metadata": {},
     "output_type": "execute_result"
    }
   ],
   "source": [
    "list(range(4,9))"
   ]
  },
  {
   "cell_type": "code",
   "execution_count": null,
   "metadata": {},
   "outputs": [],
   "source": [
    "# range(start, end, [step, ])을 활용합니다.\n",
    "# 0부터 -9까지 담긴 range를 만들고 list로 형 변환을 해 봅시다.\n",
    "# 출력 결과는 다음과 같습니다.\n",
    "# [0, -1, -2, -3, -4, -5, -6, -7, -8, -9]"
   ]
  },
  {
   "cell_type": "code",
   "execution_count": 75,
   "metadata": {},
   "outputs": [
    {
     "data": {
      "text/plain": [
       "[0, -1, -2, -3, -4, -5, -6, -7, -8, -9]"
      ]
     },
     "execution_count": 75,
     "metadata": {},
     "output_type": "execute_result"
    }
   ],
   "source": [
    "list(range(0,-10,-1))\n"
   ]
  },
  {
   "cell_type": "code",
   "execution_count": 78,
   "metadata": {},
   "outputs": [
    {
     "data": {
      "text/plain": [
       "[0, -1, -2, -3, -4, -5, -6, -7, -8, -9]"
      ]
     },
     "execution_count": 78,
     "metadata": {},
     "output_type": "execute_result"
    }
   ],
   "source": [
    "list(reversed(list(range(-9,1))))"
   ]
  },
  {
   "cell_type": "markdown",
   "metadata": {},
   "source": [
    "\n",
    "## 시퀀스에서 활용할 수 있는 연산자/함수 \n",
    "\n",
    "|operation|설명|\n",
    "|---------|---|\n",
    "|x `in` s\t|containment test|\n",
    "|x `not in` s|containment test|\n",
    "|s1 `+` s2|concatenation|\n",
    "|s `*` n|n번만큼 반복하여 더하기\n",
    "|`s[i]`|indexing|\n",
    "|`s[i:j]`|slicing|\n",
    "|`s[i:j:k`]|k간격으로 slicing|\n",
    "|len(s)|길이|\n",
    "|min(s)|최솟값|\n",
    "|max(s)|최댓값|\n",
    "|s.count(x)|x의 개수|"
   ]
  },
  {
   "cell_type": "code",
   "execution_count": null,
   "metadata": {},
   "outputs": [],
   "source": [
    "# containment test를 확인해봅시다.\n",
    "# 변수 my_string에 문자열 'string'을 담습니다.\n",
    "# 문자열 'a'가 my_string에 포함되는지 'in' 연산자를 통해 확인하고 결과를 출력해봅시다."
   ]
  },
  {
   "cell_type": "code",
   "execution_count": 79,
   "metadata": {},
   "outputs": [
    {
     "data": {
      "text/plain": [
       "False"
      ]
     },
     "execution_count": 79,
     "metadata": {},
     "output_type": "execute_result"
    }
   ],
   "source": [
    "my_string = 'string'\n",
    "'a' in my_string"
   ]
  },
  {
   "cell_type": "code",
   "execution_count": null,
   "metadata": {},
   "outputs": [],
   "source": [
    "# containment test를 확인해봅시다.\n",
    "# 변수명이 my_list이고 정수 1, 2, 3, 5, 1들을 원소로 가지는 list를 만듭니다.\n",
    "# 정수 3이 my_list에 포함되는지 'in' 연산자를 통해 확인하고 결과를 출력해봅시다."
   ]
  },
  {
   "cell_type": "code",
   "execution_count": 80,
   "metadata": {},
   "outputs": [
    {
     "data": {
      "text/plain": [
       "True"
      ]
     },
     "execution_count": 80,
     "metadata": {},
     "output_type": "execute_result"
    }
   ],
   "source": [
    "my_list = [1, 2, 3, 5, 1]\n",
    "3 in my_list"
   ]
  },
  {
   "cell_type": "code",
   "execution_count": null,
   "metadata": {},
   "outputs": [],
   "source": [
    "# not in을 사용해봅시다."
   ]
  },
  {
   "cell_type": "code",
   "execution_count": 81,
   "metadata": {},
   "outputs": [
    {
     "data": {
      "text/plain": [
       "False"
      ]
     },
     "execution_count": 81,
     "metadata": {},
     "output_type": "execute_result"
    }
   ],
   "source": [
    "3 not in my_list"
   ]
  },
  {
   "cell_type": "code",
   "execution_count": null,
   "metadata": {},
   "outputs": [],
   "source": [
    "# concatenation(연결, 연쇄)를 해봅시다.\n",
    "# 문자열 '안녕'과 문자열 '하세요'를 더하고 결과를 출력해 봅시다."
   ]
  },
  {
   "cell_type": "code",
   "execution_count": 82,
   "metadata": {},
   "outputs": [
    {
     "data": {
      "text/plain": [
       "'안녕하세요'"
      ]
     },
     "execution_count": 82,
     "metadata": {},
     "output_type": "execute_result"
    }
   ],
   "source": [
    "'안녕' + '하세요'"
   ]
  },
  {
   "cell_type": "code",
   "execution_count": null,
   "metadata": {},
   "outputs": [],
   "source": [
    "# 정수 1과 2를 포함한 tuple과 정수 5와 6을 포함한 tuple을 더하고 결과를 출력해봅시다."
   ]
  },
  {
   "cell_type": "code",
   "execution_count": 83,
   "metadata": {},
   "outputs": [
    {
     "data": {
      "text/plain": [
       "(1, 2, 5, 6)"
      ]
     },
     "execution_count": 83,
     "metadata": {},
     "output_type": "execute_result"
    }
   ],
   "source": [
    "(1,2) + (5,6)"
   ]
  },
  {
   "cell_type": "code",
   "execution_count": null,
   "metadata": {},
   "outputs": [],
   "source": [
    "# 숫자 0이 6개 있는 list를 만들어봅시다.\n",
    "# 단, 곱셉 연산자를 활용하여 만듭니다."
   ]
  },
  {
   "cell_type": "code",
   "execution_count": 84,
   "metadata": {},
   "outputs": [
    {
     "data": {
      "text/plain": [
       "[0, 0, 0, 0, 0, 0]"
      ]
     },
     "execution_count": 84,
     "metadata": {},
     "output_type": "execute_result"
    }
   ],
   "source": [
    "[0]*6"
   ]
  },
  {
   "cell_type": "code",
   "execution_count": null,
   "metadata": {},
   "outputs": [],
   "source": [
    "# indexing과 slicing을 하기 위해 list하나를 만들어주세요.\n",
    "# 변수명은 location, 원소는 무작위 지역 5곳을 문자열로 작성합니다.\n",
    "# location의 첫번째 원소에 index로 접근해 봅시다.\n",
    "# -(minus) index를 활용해 맨 마지막 원소에 접근해봅시다."
   ]
  },
  {
   "cell_type": "code",
   "execution_count": 85,
   "metadata": {},
   "outputs": [
    {
     "name": "stdout",
     "output_type": "stream",
     "text": [
      "서울\n",
      "부산\n"
     ]
    }
   ],
   "source": [
    "location = ['서울', '경기', '대전', '광주', '부산']\n",
    "print(location[0])\n",
    "print(location[-1])"
   ]
  },
  {
   "cell_type": "code",
   "execution_count": null,
   "metadata": {},
   "outputs": [],
   "source": [
    "# 두번째, 세번째 값만 가져와봅시다.\n",
    "# slicing을 사용합니다."
   ]
  },
  {
   "cell_type": "code",
   "execution_count": 86,
   "metadata": {},
   "outputs": [
    {
     "data": {
      "text/plain": [
       "['대전']"
      ]
     },
     "execution_count": 86,
     "metadata": {},
     "output_type": "execute_result"
    }
   ],
   "source": [
    "location[2:3]"
   ]
  },
  {
   "cell_type": "code",
   "execution_count": 87,
   "metadata": {},
   "outputs": [
    {
     "name": "stdout",
     "output_type": "stream",
     "text": [
      "['경기', '대전']\n"
     ]
    }
   ],
   "source": [
    "print(location[1:3])"
   ]
  },
  {
   "cell_type": "code",
   "execution_count": null,
   "metadata": {},
   "outputs": [],
   "source": [
    "# 0부터 30까지의 정수를 원소로 가지는 list를 만들어 봅시다.\n",
    "# range를 활용하여 list를 생성합니다."
   ]
  },
  {
   "cell_type": "code",
   "execution_count": 88,
   "metadata": {},
   "outputs": [
    {
     "name": "stdout",
     "output_type": "stream",
     "text": [
      "[0, 1, 2, 3, 4, 5, 6, 7, 8, 9, 10, 11, 12, 13, 14, 15, 16, 17, 18, 19, 20, 21, 22, 23, 24, 25, 26, 27, 28, 29, 30]\n"
     ]
    }
   ],
   "source": [
    "my_list = list(range(31))\n",
    "print(my_list)"
   ]
  },
  {
   "cell_type": "code",
   "execution_count": null,
   "metadata": {},
   "outputs": [],
   "source": [
    "# list[start: end: step]\n",
    "# 위에서 작성한 list를 활용하여 0부터 30까지 3씩 증가하는 값을 가지는 새로운 list를 만들어 봅시다.\n",
    "# 새롭게 생성한 list를 출력해 봅시다."
   ]
  },
  {
   "cell_type": "code",
   "execution_count": 90,
   "metadata": {},
   "outputs": [
    {
     "name": "stdout",
     "output_type": "stream",
     "text": [
      "[0, 3, 6, 9, 12, 15, 18, 21, 24, 27, 30]\n"
     ]
    }
   ],
   "source": [
    "second_list = my_list[0:31:3]\n",
    "print(second_list)"
   ]
  },
  {
   "cell_type": "code",
   "execution_count": null,
   "metadata": {},
   "outputs": [],
   "source": [
    "# 위에서 만든 list의 길이를 확인해봅시다."
   ]
  },
  {
   "cell_type": "code",
   "execution_count": 91,
   "metadata": {},
   "outputs": [
    {
     "data": {
      "text/plain": [
       "11"
      ]
     },
     "execution_count": 91,
     "metadata": {},
     "output_type": "execute_result"
    }
   ],
   "source": [
    "len(second_list)"
   ]
  },
  {
   "cell_type": "code",
   "execution_count": null,
   "metadata": {},
   "outputs": [],
   "source": [
    "# 위에서 만든 list의 최솟값, 최댓값을 확인해봅시다."
   ]
  },
  {
   "cell_type": "code",
   "execution_count": 93,
   "metadata": {},
   "outputs": [
    {
     "name": "stdout",
     "output_type": "stream",
     "text": [
      "0\n",
      "30\n"
     ]
    }
   ],
   "source": [
    "min_value = min(second_list)\n",
    "max_value = max(second_list)\n",
    "print(min_value)\n",
    "print(max_value)"
   ]
  },
  {
   "cell_type": "code",
   "execution_count": null,
   "metadata": {},
   "outputs": [],
   "source": [
    "# list에 담긴 특정한 것의 개수를 확인할 수도 있습니다."
   ]
  },
  {
   "cell_type": "code",
   "execution_count": 94,
   "metadata": {},
   "outputs": [
    {
     "data": {
      "text/plain": [
       "3"
      ]
     },
     "execution_count": 94,
     "metadata": {},
     "output_type": "execute_result"
    }
   ],
   "source": [
    "sample_list = [1, 2, 1, 3, 1, 5]\n",
    "sample_list.count(1)"
   ]
  },
  {
   "cell_type": "code",
   "execution_count": 96,
   "metadata": {},
   "outputs": [
    {
     "data": {
      "text/plain": [
       "[1, 2, 3, 4, 5]"
      ]
     },
     "execution_count": 96,
     "metadata": {},
     "output_type": "execute_result"
    }
   ],
   "source": [
    "my_list = [1,2,3,4]\n",
    "my_list.append(5)\n",
    "my_list"
   ]
  },
  {
   "cell_type": "code",
   "execution_count": 98,
   "metadata": {},
   "outputs": [
    {
     "data": {
      "text/plain": [
       "[1, 2, 3, 4, 5, 6, 7]"
      ]
     },
     "execution_count": 98,
     "metadata": {},
     "output_type": "execute_result"
    }
   ],
   "source": [
    "my_list.extend([6,7])\n",
    "my_list"
   ]
  },
  {
   "cell_type": "code",
   "execution_count": 99,
   "metadata": {},
   "outputs": [
    {
     "data": {
      "text/plain": [
       "[1, 2, 3, 4, 5, 6, 7, [8, 9]]"
      ]
     },
     "execution_count": 99,
     "metadata": {},
     "output_type": "execute_result"
    }
   ],
   "source": [
    "my_list.append([8,9])\n",
    "my_list"
   ]
  },
  {
   "cell_type": "code",
   "execution_count": 100,
   "metadata": {},
   "outputs": [
    {
     "data": {
      "text/plain": [
       "[1, 2, 3, 4, 5, 6, 7]"
      ]
     },
     "execution_count": 100,
     "metadata": {},
     "output_type": "execute_result"
    }
   ],
   "source": [
    "del my_list[-1]\n",
    "my_list"
   ]
  },
  {
   "cell_type": "code",
   "execution_count": 101,
   "metadata": {},
   "outputs": [
    {
     "data": {
      "text/plain": [
       "[1, 2, 100, 3, 4, 5, 6, 7]"
      ]
     },
     "execution_count": 101,
     "metadata": {},
     "output_type": "execute_result"
    }
   ],
   "source": [
    "my_list.insert(2,100)\n",
    "my_list"
   ]
  },
  {
   "cell_type": "code",
   "execution_count": 102,
   "metadata": {},
   "outputs": [
    {
     "data": {
      "text/plain": [
       "5"
      ]
     },
     "execution_count": 102,
     "metadata": {},
     "output_type": "execute_result"
    }
   ],
   "source": [
    "my_list.index(5)"
   ]
  },
  {
   "cell_type": "code",
   "execution_count": 103,
   "metadata": {},
   "outputs": [
    {
     "data": {
      "text/plain": [
       "5"
      ]
     },
     "execution_count": 103,
     "metadata": {},
     "output_type": "execute_result"
    }
   ],
   "source": [
    "my_list[5]"
   ]
  },
  {
   "cell_type": "code",
   "execution_count": 104,
   "metadata": {},
   "outputs": [
    {
     "data": {
      "text/plain": [
       "7"
      ]
     },
     "execution_count": 104,
     "metadata": {},
     "output_type": "execute_result"
    }
   ],
   "source": [
    "my_list.pop()"
   ]
  },
  {
   "cell_type": "code",
   "execution_count": 105,
   "metadata": {},
   "outputs": [
    {
     "data": {
      "text/plain": [
       "100"
      ]
     },
     "execution_count": 105,
     "metadata": {},
     "output_type": "execute_result"
    }
   ],
   "source": [
    "my_list.pop(2)"
   ]
  },
  {
   "cell_type": "code",
   "execution_count": 106,
   "metadata": {},
   "outputs": [
    {
     "data": {
      "text/plain": [
       "[1, 2, 3, 4, 5, 6]"
      ]
     },
     "execution_count": 106,
     "metadata": {},
     "output_type": "execute_result"
    }
   ],
   "source": [
    "my_list"
   ]
  },
  {
   "cell_type": "code",
   "execution_count": 107,
   "metadata": {},
   "outputs": [],
   "source": [
    "my_list.remove(4)"
   ]
  },
  {
   "cell_type": "code",
   "execution_count": 108,
   "metadata": {},
   "outputs": [
    {
     "data": {
      "text/plain": [
       "[1, 2, 3, 5, 6]"
      ]
     },
     "execution_count": 108,
     "metadata": {},
     "output_type": "execute_result"
    }
   ],
   "source": [
    "my_list"
   ]
  },
  {
   "cell_type": "code",
   "execution_count": 109,
   "metadata": {},
   "outputs": [
    {
     "data": {
      "text/plain": [
       "[3, 5, 1, 2, 9]"
      ]
     },
     "execution_count": 109,
     "metadata": {},
     "output_type": "execute_result"
    }
   ],
   "source": [
    "my_list = [3,5,1,2,9]\n",
    "my_list.reverse\n",
    "my_list"
   ]
  },
  {
   "cell_type": "code",
   "execution_count": 111,
   "metadata": {},
   "outputs": [
    {
     "data": {
      "text/plain": [
       "[1, 2, 3, 5, 9]"
      ]
     },
     "execution_count": 111,
     "metadata": {},
     "output_type": "execute_result"
    }
   ],
   "source": [
    "my_list.sort()\n",
    "my_list"
   ]
  },
  {
   "cell_type": "markdown",
   "metadata": {},
   "source": [
    "# 비 시퀀스형(Non-sequence) 컨테이너\n",
    "\n",
    "- 세트(set)\n",
    "\n",
    "- 딕셔너리(dictionary)"
   ]
  },
  {
   "cell_type": "markdown",
   "metadata": {},
   "source": [
    "## `set`\n",
    "\n",
    "`set`은 순서가 없고 중복된 값이 없는 자료구조입니다.\n",
    "\n",
    "* `set`은 수학에서의 집합과 동일하게 처리됩니다. \n",
    "\n",
    "* `set`은 중괄호`{}`를 통해 만들며, 순서가 없고 중복된 값이 없습니다.\n",
    "\n",
    "* 빈 세트를 만들려면 `set()`을 사용해야 합니다. (`{}`로 사용 불가능)\n",
    "\n",
    "* 활용 가능한 연산자는 차집합(`-`), 합집합(`|`), 교집합(`&`)입니다.\n",
    "\n",
    "### 활용법\n",
    "```python\n",
    "{value1, value2, value3}\n",
    "```"
   ]
  },
  {
   "cell_type": "code",
   "execution_count": null,
   "metadata": {},
   "outputs": [],
   "source": [
    "# set 두개를 만들어서 연산자들을 활용해봅시다."
   ]
  },
  {
   "cell_type": "code",
   "execution_count": 112,
   "metadata": {},
   "outputs": [],
   "source": [
    "set_a = {1, 2, 3}\n",
    "set_b = {3, 6, 9}"
   ]
  },
  {
   "cell_type": "markdown",
   "metadata": {},
   "source": [
    "* 차집합은 연산자 `-`를 사용합니다."
   ]
  },
  {
   "cell_type": "code",
   "execution_count": 113,
   "metadata": {},
   "outputs": [
    {
     "name": "stdout",
     "output_type": "stream",
     "text": [
      "{1, 2}\n"
     ]
    }
   ],
   "source": [
    "# set_a와 set_b의 차집합을 구해봅시다.\n",
    "print(set_a - set_b)"
   ]
  },
  {
   "cell_type": "markdown",
   "metadata": {},
   "source": [
    "* 합집합은 연산자 `|`를 사용합니다."
   ]
  },
  {
   "cell_type": "code",
   "execution_count": 114,
   "metadata": {},
   "outputs": [
    {
     "name": "stdout",
     "output_type": "stream",
     "text": [
      "{1, 2, 3, 6, 9}\n"
     ]
    }
   ],
   "source": [
    "# set_a와 set_b의 합집합을 구해봅시다.\n",
    "print(set_a | set_b)"
   ]
  },
  {
   "cell_type": "markdown",
   "metadata": {},
   "source": [
    "* 교집합은 연산자 `&`을 사용합니다."
   ]
  },
  {
   "cell_type": "code",
   "execution_count": null,
   "metadata": {},
   "outputs": [],
   "source": [
    "# set_a와 set_b의 교집합을 구해봅시다.\n",
    "print(set_a & set_b)"
   ]
  },
  {
   "cell_type": "code",
   "execution_count": null,
   "metadata": {},
   "outputs": [],
   "source": [
    "# set은 중복된 값이 있을 수 없습니다."
   ]
  },
  {
   "cell_type": "code",
   "execution_count": 115,
   "metadata": {},
   "outputs": [
    {
     "name": "stdout",
     "output_type": "stream",
     "text": [
      "{1}\n"
     ]
    }
   ],
   "source": [
    "set_c = {1, 1, 1}\n",
    "print(set_c)"
   ]
  },
  {
   "cell_type": "markdown",
   "metadata": {},
   "source": [
    "* `set`을 활용하면 `list`의 중복된 값을 손쉽게 제거할 수 있습니다.\n",
    "* 단, `set`으로 변환하는 순간 순서를 보장할 수 없습니다."
   ]
  },
  {
   "cell_type": "code",
   "execution_count": null,
   "metadata": {},
   "outputs": [],
   "source": [
    "# set으로 중복된 값을 제거해봅시다.\n",
    "# 정수 1, 2, 3, 1, 1, 2를 원소로 가지는 list를 만듭니다.\n",
    "# 생성한 list를 set으로 형변환 합니다.\n",
    "# 결과를 출력 해봅시다."
   ]
  },
  {
   "cell_type": "code",
   "execution_count": 116,
   "metadata": {},
   "outputs": [
    {
     "data": {
      "text/plain": [
       "{'a', 'i', 'l', 'm', 'n'}"
      ]
     },
     "execution_count": 116,
     "metadata": {},
     "output_type": "execute_result"
    }
   ],
   "source": [
    "set('animal')"
   ]
  },
  {
   "cell_type": "code",
   "execution_count": 117,
   "metadata": {},
   "outputs": [],
   "source": [
    "sample_list = [1, 2, 3, 1, 1, 2]"
   ]
  },
  {
   "cell_type": "code",
   "execution_count": 120,
   "metadata": {},
   "outputs": [
    {
     "data": {
      "text/plain": [
       "{1, 2, 3}"
      ]
     },
     "execution_count": 120,
     "metadata": {},
     "output_type": "execute_result"
    }
   ],
   "source": [
    "sample_set = set(sample_list)\n",
    "sample_set"
   ]
  },
  {
   "cell_type": "code",
   "execution_count": null,
   "metadata": {},
   "outputs": [],
   "source": [
    "# 다시 list로 바꿔서 확인해봅시다."
   ]
  },
  {
   "cell_type": "code",
   "execution_count": 121,
   "metadata": {},
   "outputs": [
    {
     "data": {
      "text/plain": [
       "[1, 2, 3]"
      ]
     },
     "execution_count": 121,
     "metadata": {},
     "output_type": "execute_result"
    }
   ],
   "source": [
    "list(sample_set)"
   ]
  },
  {
   "cell_type": "markdown",
   "metadata": {},
   "source": [
    "## 세트(Set)\n",
    "\n",
    "> 변경 가능하고(mutable), 순서가 없고(unordered), 순회 가능한(iterable)\n",
    "\n",
    "데이터 구조로서의 세트(set)와 조작법(method)"
   ]
  },
  {
   "cell_type": "markdown",
   "metadata": {},
   "source": [
    "## 추가 및 삭제\n",
    "\n",
    "### `.add(elem)`\n",
    "elem을 세트에 추가합니다. "
   ]
  },
  {
   "cell_type": "code",
   "execution_count": null,
   "metadata": {},
   "outputs": [],
   "source": [
    "# 변수명이 fruits인 세트를 만들어봅시다."
   ]
  },
  {
   "cell_type": "code",
   "execution_count": 123,
   "metadata": {},
   "outputs": [
    {
     "data": {
      "text/plain": [
       "{'멜론', '바나나', '사과', '수박'}"
      ]
     },
     "execution_count": 123,
     "metadata": {},
     "output_type": "execute_result"
    }
   ],
   "source": [
    "fruits = {'사과', '바나나', '수박', '멜론'}\n",
    "fruits\n"
   ]
  },
  {
   "cell_type": "code",
   "execution_count": null,
   "metadata": {},
   "outputs": [],
   "source": [
    "# add 메서드로 세트 fruits에 '포도'를 각각 2번 작성한 이후 세트 fruits를 출력해봅시다."
   ]
  },
  {
   "cell_type": "code",
   "execution_count": 124,
   "metadata": {},
   "outputs": [
    {
     "data": {
      "text/plain": [
       "{'멜론', '바나나', '사과', '수박', '포도'}"
      ]
     },
     "execution_count": 124,
     "metadata": {},
     "output_type": "execute_result"
    }
   ],
   "source": [
    "fruits.add('포도')\n",
    "fruits.add('포도')\n",
    "fruits\n"
   ]
  },
  {
   "cell_type": "markdown",
   "metadata": {},
   "source": [
    "### `.update(*others)`\n",
    "\n",
    "여러 값을 추가합니다.\n",
    "\n",
    "인자로는 반드시 iterable 데이터 구조를 전달해야합니다."
   ]
  },
  {
   "cell_type": "code",
   "execution_count": null,
   "metadata": {},
   "outputs": [],
   "source": [
    "# 변수명이 fruits인 세트를 만들어봅시다."
   ]
  },
  {
   "cell_type": "code",
   "execution_count": 125,
   "metadata": {},
   "outputs": [],
   "source": [
    "fruits = {'사과', '바나나', '수박', '멜론'}"
   ]
  },
  {
   "cell_type": "code",
   "execution_count": null,
   "metadata": {},
   "outputs": [],
   "source": [
    "# update 메서드로 세트 fruits에 {'토마토', '토마토', '딸기'} 세트와 {'포도', '레몬'} 세트 인자 2개를 함께 입력 후 \n",
    "# 세트 fruits를 출력해봅시다."
   ]
  },
  {
   "cell_type": "code",
   "execution_count": 127,
   "metadata": {},
   "outputs": [
    {
     "data": {
      "text/plain": [
       "{'딸기', '레몬', '멜론', '바나나', '사과', '수박', '토마토', '포도'}"
      ]
     },
     "execution_count": 127,
     "metadata": {},
     "output_type": "execute_result"
    }
   ],
   "source": [
    "fruits.update({'토마토', '토마토', '딸기'},{'포도', '레몬'})\n",
    "fruits"
   ]
  },
  {
   "cell_type": "markdown",
   "metadata": {},
   "source": [
    "### `.remove(elem)`\n",
    "\n",
    "elem을 세트에서 삭제하고, 없으면 KeyError가 발생합니다. "
   ]
  },
  {
   "cell_type": "code",
   "execution_count": null,
   "metadata": {},
   "outputs": [],
   "source": [
    "# 변수명이 fruits인 세트를 만들어봅시다."
   ]
  },
  {
   "cell_type": "code",
   "execution_count": 128,
   "metadata": {},
   "outputs": [],
   "source": [
    "fruits = {'사과', '바나나', '수박', '멜론'}"
   ]
  },
  {
   "cell_type": "code",
   "execution_count": null,
   "metadata": {},
   "outputs": [],
   "source": [
    "# remove 메서드로 세트 fruits에 '애플'과 '사과'를 각각 입력한 이후 세트 fruits를 출력해봅시다."
   ]
  },
  {
   "cell_type": "code",
   "execution_count": 129,
   "metadata": {},
   "outputs": [
    {
     "ename": "KeyError",
     "evalue": "'애플'",
     "output_type": "error",
     "traceback": [
      "\u001b[1;31m---------------------------------------------------------------------------\u001b[0m",
      "\u001b[1;31mKeyError\u001b[0m                                  Traceback (most recent call last)",
      "\u001b[1;32mc:\\Users\\seon\\Desktop\\study\\2_3_자료형_군집형.ipynb 셀 179\u001b[0m in \u001b[0;36m<cell line: 2>\u001b[1;34m()\u001b[0m\n\u001b[0;32m      <a href='vscode-notebook-cell:/c%3A/Users/seon/Desktop/study/2_3_%EC%9E%90%EB%A3%8C%ED%98%95_%EA%B5%B0%EC%A7%91%ED%98%95.ipynb#Y315sZmlsZQ%3D%3D?line=0'>1</a>\u001b[0m fruits\u001b[39m.\u001b[39mremove(\u001b[39m'\u001b[39m\u001b[39m사과\u001b[39m\u001b[39m'\u001b[39m)\n\u001b[1;32m----> <a href='vscode-notebook-cell:/c%3A/Users/seon/Desktop/study/2_3_%EC%9E%90%EB%A3%8C%ED%98%95_%EA%B5%B0%EC%A7%91%ED%98%95.ipynb#Y315sZmlsZQ%3D%3D?line=1'>2</a>\u001b[0m fruits\u001b[39m.\u001b[39;49mremove(\u001b[39m'\u001b[39;49m\u001b[39m애플\u001b[39;49m\u001b[39m'\u001b[39;49m)\n",
      "\u001b[1;31mKeyError\u001b[0m: '애플'"
     ]
    }
   ],
   "source": [
    "fruits.remove('사과')\n",
    "fruits.remove('애플')"
   ]
  },
  {
   "cell_type": "code",
   "execution_count": 130,
   "metadata": {},
   "outputs": [
    {
     "data": {
      "text/plain": [
       "{'멜론', '바나나', '수박'}"
      ]
     },
     "execution_count": 130,
     "metadata": {},
     "output_type": "execute_result"
    }
   ],
   "source": [
    "fruits"
   ]
  },
  {
   "cell_type": "markdown",
   "metadata": {},
   "source": [
    "### `.discard(elem)`\n",
    "elem을 세트에서 삭제하고 없어도 에러가 발생하지 않습니다."
   ]
  },
  {
   "cell_type": "code",
   "execution_count": null,
   "metadata": {},
   "outputs": [],
   "source": [
    "# 변수명이 fruits인 세트를 만들어봅시다."
   ]
  },
  {
   "cell_type": "code",
   "execution_count": 131,
   "metadata": {},
   "outputs": [],
   "source": [
    "fruits = {'사과', '바나나', '수박', '멜론'}"
   ]
  },
  {
   "cell_type": "code",
   "execution_count": null,
   "metadata": {},
   "outputs": [],
   "source": [
    "# discard 메서드로 세트 fruits에 '포도'와 '수박'을 각각 입력한 이후 세트 fruits를 출력해봅시다."
   ]
  },
  {
   "cell_type": "code",
   "execution_count": 132,
   "metadata": {},
   "outputs": [
    {
     "data": {
      "text/plain": [
       "{'멜론', '바나나', '사과'}"
      ]
     },
     "execution_count": 132,
     "metadata": {},
     "output_type": "execute_result"
    }
   ],
   "source": [
    "fruits.discard('포도')\n",
    "fruits.discard('수박')\n",
    "fruits"
   ]
  },
  {
   "cell_type": "markdown",
   "metadata": {},
   "source": [
    "### `.pop()`\n",
    "\n",
    "**임의의 원소**를 제거해 반환합니다."
   ]
  },
  {
   "cell_type": "code",
   "execution_count": null,
   "metadata": {},
   "outputs": [],
   "source": [
    "# 변수명이 fruits인 세트를 만들어봅시다."
   ]
  },
  {
   "cell_type": "code",
   "execution_count": 133,
   "metadata": {},
   "outputs": [],
   "source": [
    "fruits = {'사과', '바나나', '수박', '멜론'}"
   ]
  },
  {
   "cell_type": "code",
   "execution_count": null,
   "metadata": {},
   "outputs": [],
   "source": [
    "# 세트 fruits에 pop 메서드를 사용 한 반환 값을 출력해봅시다.\n",
    "# 이어서 세트 a만을 출력해봅시다."
   ]
  },
  {
   "cell_type": "code",
   "execution_count": 136,
   "metadata": {},
   "outputs": [
    {
     "name": "stdout",
     "output_type": "stream",
     "text": [
      "수박\n",
      "{'바나나'}\n"
     ]
    }
   ],
   "source": [
    "print(fruits.pop())\n",
    "print(fruits)"
   ]
  },
  {
   "cell_type": "code",
   "execution_count": null,
   "metadata": {},
   "outputs": [],
   "source": [
    "# 순서가 없는 자료구조라서 인덱스가 없다. "
   ]
  },
  {
   "cell_type": "code",
   "execution_count": 138,
   "metadata": {},
   "outputs": [
    {
     "ename": "TypeError",
     "evalue": "set.pop() takes no arguments (1 given)",
     "output_type": "error",
     "traceback": [
      "\u001b[1;31m---------------------------------------------------------------------------\u001b[0m",
      "\u001b[1;31mTypeError\u001b[0m                                 Traceback (most recent call last)",
      "\u001b[1;32mc:\\Users\\seon\\Desktop\\study\\2_3_자료형_군집형.ipynb 셀 192\u001b[0m in \u001b[0;36m<cell line: 1>\u001b[1;34m()\u001b[0m\n\u001b[1;32m----> <a href='vscode-notebook-cell:/c%3A/Users/seon/Desktop/study/2_3_%EC%9E%90%EB%A3%8C%ED%98%95_%EA%B5%B0%EC%A7%91%ED%98%95.ipynb#Y333sZmlsZQ%3D%3D?line=0'>1</a>\u001b[0m fruits\u001b[39m.\u001b[39;49mpop(\u001b[39m0\u001b[39;49m)\n",
      "\u001b[1;31mTypeError\u001b[0m: set.pop() takes no arguments (1 given)"
     ]
    }
   ],
   "source": [
    "fruits.pop(0)"
   ]
  },
  {
   "cell_type": "markdown",
   "metadata": {},
   "source": [
    "## `dictionary`\n",
    "\n",
    "`dictionary`는 `key`와 `value`가 쌍으로 이뤄져있습니다.\n",
    "\n",
    "\n",
    "<center><img src=\"https://user-images.githubusercontent.com/18046097/61180427-1405d880-a651-11e9-94e1-1cc5c2a2ff34.png\"></center> "
   ]
  },
  {
   "cell_type": "markdown",
   "metadata": {},
   "source": [
    "### 활용법\n",
    "\n",
    "```python\n",
    "{Key1:Value1, Key2:Value2, Key3:Value3, ...}\n",
    "```\n",
    "\n",
    "* `{}`를 통해 만들며, `dict()`로 만들 수 있습니다.\n",
    "* `key`는 **변경 불가능(immutable)한 데이터**만 가능합니다. (immutable : string, integer, float, boolean, tuple, range)\n",
    "* `value`는 `list`, `dictionary`를 포함한 모든 것이 가능합니다."
   ]
  },
  {
   "cell_type": "code",
   "execution_count": 140,
   "metadata": {},
   "outputs": [
    {
     "ename": "SyntaxError",
     "evalue": "cannot assign to function call here. Maybe you meant '==' instead of '='? (1731972220.py, line 14)",
     "output_type": "error",
     "traceback": [
      "\u001b[1;36m  Input \u001b[1;32mIn [140]\u001b[1;36m\u001b[0m\n\u001b[1;33m    blood_type.get('kevin') = 'AB'\u001b[0m\n\u001b[1;37m    ^\u001b[0m\n\u001b[1;31mSyntaxError\u001b[0m\u001b[1;31m:\u001b[0m cannot assign to function call here. Maybe you meant '==' instead of '='?\n"
     ]
    }
   ],
   "source": [
    "# dict() -> key와 value 추가\n",
    "\n",
    "blood_type = dict()\n",
    "print(type(blood_type))\n",
    "\n",
    "# key & value 추가\n",
    "blood_type['bruno'] = 'O'\n",
    "print(blood_type)\n",
    "\n",
    "# 이건 될까?\n",
    "# blood_type.get('kevin') = 'AB'\n",
    "# print(blood_type)\n",
    "\n",
    "blood_type.get('kevin') = 'AB'\n",
    "print(blood_type)\n",
    "\n",
    "blood_type['kevin'] = 'AB'\n",
    "print(blood_type)\n",
    "\n",
    "# 만약 추가적으로 dict에 key value를 추가하는 방법이 있는지 궁금하다면\n",
    "# 구글에 뭐라고 검색해야 할까? 고민해보자!\n",
    "## python dictionary key value add"
   ]
  },
  {
   "cell_type": "code",
   "execution_count": null,
   "metadata": {},
   "outputs": [],
   "source": [
    "# 비어있는 dictionary를 두가지 방법으로 만들어봅시다.\n",
    "# {}와 dict()로 만들 수 있습니다.\n",
    "# 두 변수의 타입을 출력해 봅시다."
   ]
  },
  {
   "cell_type": "code",
   "execution_count": 143,
   "metadata": {},
   "outputs": [
    {
     "name": "stdout",
     "output_type": "stream",
     "text": [
      "<class 'dict'>\n",
      "<class 'dict'>\n"
     ]
    }
   ],
   "source": [
    "print(type({}))\n",
    "print(type(dict()))"
   ]
  },
  {
   "cell_type": "code",
   "execution_count": 144,
   "metadata": {},
   "outputs": [
    {
     "ename": "TypeError",
     "evalue": "unhashable type: 'list'",
     "output_type": "error",
     "traceback": [
      "\u001b[1;31m---------------------------------------------------------------------------\u001b[0m",
      "\u001b[1;31mTypeError\u001b[0m                                 Traceback (most recent call last)",
      "\u001b[1;32mc:\\Users\\seon\\Desktop\\study\\2_3_자료형_군집형.ipynb 셀 198\u001b[0m in \u001b[0;36m<cell line: 1>\u001b[1;34m()\u001b[0m\n\u001b[1;32m----> <a href='vscode-notebook-cell:/c%3A/Users/seon/Desktop/study/2_3_%EC%9E%90%EB%A3%8C%ED%98%95_%EA%B5%B0%EC%A7%91%ED%98%95.ipynb#Y342sZmlsZQ%3D%3D?line=0'>1</a>\u001b[0m my_dict \u001b[39m=\u001b[39m {[\u001b[39m1\u001b[39m, \u001b[39m2\u001b[39m, \u001b[39m3\u001b[39m]: \u001b[39m'\u001b[39m\u001b[39mmy_str\u001b[39m\u001b[39m'\u001b[39m}\n",
      "\u001b[1;31mTypeError\u001b[0m: unhashable type: 'list'"
     ]
    }
   ],
   "source": [
    "my_dict = {[1, 2, 3]: 'my_str'}# -> 불가능"
   ]
  },
  {
   "cell_type": "code",
   "execution_count": null,
   "metadata": {},
   "outputs": [],
   "source": [
    "# dictionary에 중복된 key는 존재할 수가 없습니다."
   ]
  },
  {
   "cell_type": "code",
   "execution_count": 145,
   "metadata": {},
   "outputs": [
    {
     "name": "stdout",
     "output_type": "stream",
     "text": [
      "{1: 4, 2: 2, 3: 3}\n"
     ]
    }
   ],
   "source": [
    "dict_a = {1: 1, 2: 2, 3: 3, 1: 4}\n",
    "print(dict_a)"
   ]
  },
  {
   "cell_type": "code",
   "execution_count": null,
   "metadata": {},
   "outputs": [],
   "source": [
    "# 지역번호가 담긴 전화번호부를 만들어봅시다.\n",
    "# 변수 phone_book에 key를 지역명, value를 지역번호로 가지는 원소를 작성합니다.\n",
    "# 예) 서울 - 02"
   ]
  },
  {
   "cell_type": "code",
   "execution_count": 146,
   "metadata": {},
   "outputs": [],
   "source": [
    "phone_book = {\n",
    "    '서울': '02',\n",
    "    '경기': '031',\n",
    "    '대구': '053',\n",
    "    '충남': '041',\n",
    "    '전북': '063'\n",
    "}"
   ]
  },
  {
   "cell_type": "code",
   "execution_count": null,
   "metadata": {},
   "outputs": [],
   "source": [
    "# 위에서 작성한 phone_book이 가지고 있는 key 목록을 확인 해 봅시다.\n",
    "# dictionary의 .keys() 메소드를 활용하여 key를 확인 해볼 수 있습니다."
   ]
  },
  {
   "cell_type": "code",
   "execution_count": 147,
   "metadata": {},
   "outputs": [
    {
     "data": {
      "text/plain": [
       "{'서울': '02', '경기': '031', '대구': '053', '충남': '041', '전북': '063'}"
      ]
     },
     "execution_count": 147,
     "metadata": {},
     "output_type": "execute_result"
    }
   ],
   "source": [
    "phone_book"
   ]
  },
  {
   "cell_type": "code",
   "execution_count": null,
   "metadata": {},
   "outputs": [],
   "source": [
    "# 반복문을 활용해 key를 하나씩 출력해봅시다"
   ]
  },
  {
   "cell_type": "code",
   "execution_count": 148,
   "metadata": {},
   "outputs": [
    {
     "name": "stdout",
     "output_type": "stream",
     "text": [
      "02\n",
      "031\n",
      "053\n",
      "041\n",
      "063\n"
     ]
    }
   ],
   "source": [
    "for value in phone_book.values():\n",
    "    print(value)"
   ]
  },
  {
   "cell_type": "code",
   "execution_count": null,
   "metadata": {},
   "outputs": [],
   "source": [
    "# 위에서 작성한 phone_book이 가지고 있는 value 목록을 확인 해 봅시다.\n",
    "# 딕셔너리의 .values() 메소드를 활용하여 value를 확인 해볼 수 있습니다."
   ]
  },
  {
   "cell_type": "code",
   "execution_count": null,
   "metadata": {},
   "outputs": [],
   "source": []
  },
  {
   "cell_type": "code",
   "execution_count": null,
   "metadata": {},
   "outputs": [],
   "source": [
    "# 반복문을 활용해 values를 하나씩 출력해봅시다."
   ]
  },
  {
   "cell_type": "code",
   "execution_count": null,
   "metadata": {},
   "outputs": [],
   "source": []
  },
  {
   "cell_type": "code",
   "execution_count": null,
   "metadata": {},
   "outputs": [],
   "source": [
    "# 위에서 작성한 phone_book이 가지고 있는 key와 value 목록을 확인 해 봅시다.\n",
    "# 딕셔너리의 .items() 메소드를 활용하여 key, value를 확인 해볼 수 있습니다."
   ]
  },
  {
   "cell_type": "code",
   "execution_count": null,
   "metadata": {},
   "outputs": [],
   "source": [
    "phone_book.items()"
   ]
  },
  {
   "cell_type": "code",
   "execution_count": null,
   "metadata": {},
   "outputs": [],
   "source": [
    "# 반복문을 활용해 key, value 쌍을 하나씩 출력해봅시다."
   ]
  },
  {
   "cell_type": "code",
   "execution_count": null,
   "metadata": {},
   "outputs": [],
   "source": [
    "for item in phone_book.items():\n",
    "    print(item)"
   ]
  },
  {
   "cell_type": "code",
   "execution_count": null,
   "metadata": {},
   "outputs": [],
   "source": [
    "# 참고) unpacking"
   ]
  },
  {
   "cell_type": "markdown",
   "metadata": {},
   "source": [
    "## 딕셔너리(Dictionary)\n",
    "\n",
    "> 변경 가능하고(mutable), 순서가 없고(unordered), 순회 가능한(iterable)\n",
    ">\n",
    "> `Key: Value` 페어(pair)의 자료구조\n",
    "\n",
    "데이터 구조로서의 딕셔너리(dictionary)와 조작법(method)"
   ]
  },
  {
   "cell_type": "markdown",
   "metadata": {},
   "source": [
    "## 조회"
   ]
  },
  {
   "cell_type": "markdown",
   "metadata": {},
   "source": [
    "### `.get(key[, default])`\n",
    "\n",
    "key를 통해 value를 가져옵니다. \n",
    "\n",
    "절대로 KeyError가 발생하지 않습니다. default는 기본적으로 None입니다."
   ]
  },
  {
   "cell_type": "code",
   "execution_count": null,
   "metadata": {},
   "outputs": [],
   "source": [
    "# 변수명이 my_fruit인 딕셔너리를 만들어봅시다."
   ]
  },
  {
   "cell_type": "code",
   "execution_count": null,
   "metadata": {},
   "outputs": [],
   "source": [
    "my_fruit['pineapple']"
   ]
  },
  {
   "cell_type": "code",
   "execution_count": null,
   "metadata": {},
   "outputs": [],
   "source": [
    "# get 메서드 없이 딕셔너리 my_fruit의 key 'pineapple'의 value를 출력해봅시다."
   ]
  },
  {
   "cell_type": "code",
   "execution_count": null,
   "metadata": {},
   "outputs": [],
   "source": []
  },
  {
   "cell_type": "code",
   "execution_count": null,
   "metadata": {},
   "outputs": [],
   "source": [
    "# get 메서드로 딕셔너리 my_fruit의 key 'pineapple'의 value를 출력해봅시다."
   ]
  },
  {
   "cell_type": "code",
   "execution_count": null,
   "metadata": {},
   "outputs": [],
   "source": []
  },
  {
   "cell_type": "code",
   "execution_count": null,
   "metadata": {},
   "outputs": [],
   "source": [
    "# get 메서드로 딕셔너리 my_fruit의 key 'apple'의 value를 출력해봅시다."
   ]
  },
  {
   "cell_type": "code",
   "execution_count": null,
   "metadata": {},
   "outputs": [],
   "source": []
  },
  {
   "cell_type": "code",
   "execution_count": null,
   "metadata": {},
   "outputs": [],
   "source": [
    "# get 메서드로 딕셔너리 my_fruit의 key 'pineapple'의 value를 출력해봅시다.\n",
    "# 단, key가 없다면 0을 반환하도록 해봅시다."
   ]
  },
  {
   "cell_type": "code",
   "execution_count": null,
   "metadata": {},
   "outputs": [],
   "source": []
  },
  {
   "cell_type": "markdown",
   "metadata": {},
   "source": [
    "## 추가 및 삭제\n",
    "\n",
    "### `.pop(key[, default])`\n",
    "\n",
    "key가 딕셔너리에 있으면 제거하고 그 값을 돌려줍니다. 그렇지 않으면 default를 반환합니다.\n",
    "\n",
    "default가 없는 상태에서 딕셔너리에 없으면 KeyError가 발생합니다."
   ]
  },
  {
   "cell_type": "code",
   "execution_count": null,
   "metadata": {},
   "outputs": [],
   "source": [
    "# 변수명이 my_fruit인 딕셔너리를 만들어봅시다."
   ]
  },
  {
   "cell_type": "code",
   "execution_count": 2,
   "metadata": {},
   "outputs": [],
   "source": [
    "my_fruit = {\n",
    "    'apple' : '사과',\n",
    "    'grape' : '포도',\n",
    "    'watermelon' : '수박',\n",
    "    'peach' : '복숭아'\n",
    "}"
   ]
  },
  {
   "cell_type": "code",
   "execution_count": null,
   "metadata": {},
   "outputs": [],
   "source": [
    "# pop 메서드로 딕셔너리 my_fruit의 key 'apple'을 제거해봅시다.\n",
    "# 제거 후 딕셔너리 my_fruit를 출력해봅시다."
   ]
  },
  {
   "cell_type": "code",
   "execution_count": 3,
   "metadata": {},
   "outputs": [],
   "source": [
    "my_fruit.update({'apple' : '사과아'})"
   ]
  },
  {
   "cell_type": "code",
   "execution_count": 4,
   "metadata": {},
   "outputs": [
    {
     "data": {
      "text/plain": [
       "{'apple': '사과아', 'grape': '포도', 'watermelon': '수박', 'peach': '복숭아'}"
      ]
     },
     "execution_count": 4,
     "metadata": {},
     "output_type": "execute_result"
    }
   ],
   "source": [
    "my_fruit"
   ]
  },
  {
   "cell_type": "code",
   "execution_count": 5,
   "metadata": {},
   "outputs": [
    {
     "data": {
      "text/plain": [
       "{'apple': '사과아', 'grape': '포도오', 'watermelon': '수박', 'peach': '복숭아'}"
      ]
     },
     "execution_count": 5,
     "metadata": {},
     "output_type": "execute_result"
    }
   ],
   "source": [
    "my_fruit.update(grape='포도오')\n",
    "my_fruit"
   ]
  },
  {
   "cell_type": "code",
   "execution_count": null,
   "metadata": {},
   "outputs": [],
   "source": [
    "# 제거하고자 하는 key가 딕셔너리에 없으면 KeyError가 발생합니다.\n",
    "# 실행시켜 KeyError를 확인해봅시다.\n",
    "my_fruit.pop('melon')"
   ]
  },
  {
   "cell_type": "code",
   "execution_count": null,
   "metadata": {},
   "outputs": [],
   "source": [
    "# pop 메서드의 두번째 인자로 default 값을 설정 해 KeyError가 발생하지 않도록 할 수 있습니다.\n",
    "# pop 메서드로 딕셔너리 my_dict의 key 'melon'을 제거하고 해당 key가 없다면 0을 반환하도록 해봅시다."
   ]
  },
  {
   "cell_type": "code",
   "execution_count": null,
   "metadata": {},
   "outputs": [],
   "source": []
  },
  {
   "cell_type": "markdown",
   "metadata": {},
   "source": [
    "### `.update()`\n",
    "\n",
    "값을 제공하는 key, value로 덮어씁니다. "
   ]
  },
  {
   "cell_type": "code",
   "execution_count": null,
   "metadata": {},
   "outputs": [],
   "source": [
    "# 변수명이 my_fruit인 딕셔너리를 만들어봅시다."
   ]
  },
  {
   "cell_type": "code",
   "execution_count": null,
   "metadata": {},
   "outputs": [],
   "source": []
  },
  {
   "cell_type": "code",
   "execution_count": null,
   "metadata": {},
   "outputs": [],
   "source": [
    "# update 메서드로 딕셔너리 my_fruit의 key는 'apple', value는 '사과아'를 입력해봅시다."
   ]
  },
  {
   "cell_type": "code",
   "execution_count": null,
   "metadata": {},
   "outputs": [],
   "source": []
  },
  {
   "cell_type": "code",
   "execution_count": null,
   "metadata": {},
   "outputs": [],
   "source": [
    "# grape='포도오'를 사용해봅시다."
   ]
  },
  {
   "cell_type": "code",
   "execution_count": null,
   "metadata": {},
   "outputs": [],
   "source": []
  },
  {
   "cell_type": "code",
   "execution_count": null,
   "metadata": {},
   "outputs": [],
   "source": [
    "# my_dict[key] = value 이렇게 값을 추가하는 것과 어떤 차이가 있을까?\n",
    "my_dict2 = {}\n",
    "\n",
    "my_dict2['name'] = 'sosin'\n",
    "print(my_dict2)\n",
    "\n",
    "my_dict2['name'] = 'jason'\n",
    "print(my_dict2)"
   ]
  },
  {
   "cell_type": "code",
   "execution_count": null,
   "metadata": {},
   "outputs": [],
   "source": [
    "# update를 사용하면 일괄적으로 값을 수정 / 추가 할 수 있다. \n",
    "my_dict2.update({'apple': '사과아', 'grape': '포도오'})\n",
    "print(my_dict2)"
   ]
  },
  {
   "cell_type": "markdown",
   "metadata": {},
   "source": [
    "### [연습] 딕셔너리 순회\n",
    "\n",
    "> 혈액형 검사한 결과가 담긴 `blood_types`이 주어졌을때, 해당 딕셔너리를 순회하며, `key`와 `value`를 출력해보세요.\n",
    "\n",
    "---\n",
    "\n",
    "**[출력 예시]**\n",
    "```\n",
    "A형은 40명입니다.\n",
    "B형은 11명입니다.\n",
    "AB형은 4명입니다.\n",
    "O형은 45명입니다.\n",
    "```"
   ]
  },
  {
   "cell_type": "code",
   "execution_count": null,
   "metadata": {},
   "outputs": [],
   "source": [
    "# 변수명이 blood_types인 딕셔너리를 만들어봅시다."
   ]
  },
  {
   "cell_type": "code",
   "execution_count": 7,
   "metadata": {},
   "outputs": [
    {
     "data": {
      "text/plain": [
       "{'A': 40, 'B': 11, 'AB': 4, 'O': 45}"
      ]
     },
     "execution_count": 7,
     "metadata": {},
     "output_type": "execute_result"
    }
   ],
   "source": [
    "blood_types = {'A' : 40, 'B' : 11, 'AB' : 4, 'O' : 45}\n",
    "blood_types"
   ]
  },
  {
   "cell_type": "code",
   "execution_count": null,
   "metadata": {},
   "outputs": [],
   "source": [
    "# for문을 활용해봅시다.\n",
    "# 딕셔너리 blood_types을 순회하며,\n",
    "# 아래와 같은 문장이 출력되도록 하는 코드를 작성하세요.\n",
    "\"\"\"\n",
    "A형은 40명입니다.\n",
    "B형은 11명입니다.\n",
    "AB형은 4명입니다.\n",
    "O형은 45명입니다.\n",
    "\"\"\""
   ]
  },
  {
   "cell_type": "code",
   "execution_count": 12,
   "metadata": {},
   "outputs": [
    {
     "ename": "TypeError",
     "evalue": "unsupported operand type(s) for +: 'dict' and 'str'",
     "output_type": "error",
     "traceback": [
      "\u001b[1;31m---------------------------------------------------------------------------\u001b[0m",
      "\u001b[1;31mTypeError\u001b[0m                                 Traceback (most recent call last)",
      "\u001b[1;32mc:\\Users\\seon\\Desktop\\study\\2_3_자료형_군집형.ipynb 셀 252\u001b[0m in \u001b[0;36m<cell line: 1>\u001b[1;34m()\u001b[0m\n\u001b[0;32m      <a href='vscode-notebook-cell:/c%3A/Users/seon/Desktop/study/2_3_%EC%9E%90%EB%A3%8C%ED%98%95_%EA%B5%B0%EC%A7%91%ED%98%95.ipynb#Y504sZmlsZQ%3D%3D?line=0'>1</a>\u001b[0m \u001b[39mfor\u001b[39;00m key \u001b[39min\u001b[39;00m blood_types:\n\u001b[1;32m----> <a href='vscode-notebook-cell:/c%3A/Users/seon/Desktop/study/2_3_%EC%9E%90%EB%A3%8C%ED%98%95_%EA%B5%B0%EC%A7%91%ED%98%95.ipynb#Y504sZmlsZQ%3D%3D?line=1'>2</a>\u001b[0m     \u001b[39mprint\u001b[39m(blood_types\u001b[39m+\u001b[39;49m\u001b[39m'\u001b[39;49m\u001b[39m형은\u001b[39;49m\u001b[39m'\u001b[39;49m \u001b[39m+\u001b[39m \u001b[39mstr\u001b[39m(blood_type[blood_types])\u001b[39m+\u001b[39m\u001b[39m'\u001b[39m\u001b[39m명입니다.\u001b[39m\u001b[39m'\u001b[39m)\n\u001b[0;32m      <a href='vscode-notebook-cell:/c%3A/Users/seon/Desktop/study/2_3_%EC%9E%90%EB%A3%8C%ED%98%95_%EA%B5%B0%EC%A7%91%ED%98%95.ipynb#Y504sZmlsZQ%3D%3D?line=2'>3</a>\u001b[0m     \u001b[39mprint\u001b[39m(\u001b[39m'\u001b[39m\u001b[39m{}\u001b[39;00m\u001b[39m형은 \u001b[39m\u001b[39m{}\u001b[39;00m\u001b[39m명입니다.\u001b[39m\u001b[39m'\u001b[39m\u001b[39m.\u001b[39mformat(blood_type, blood_types[blood_types]))\n",
      "\u001b[1;31mTypeError\u001b[0m: unsupported operand type(s) for +: 'dict' and 'str'"
     ]
    }
   ],
   "source": [
    "for key in blood_types:\n",
    "    print(blood_types+'형은' + str(blood_types[blood_types])+'명입니다.')\n",
    "    print('{}형은 {}명입니다.'.format(blood_type, blood_types[blood_types]))"
   ]
  },
  {
   "cell_type": "code",
   "execution_count": null,
   "metadata": {},
   "outputs": [],
   "source": [
    "# keys메서드를 활용해봅시다.\n",
    "# blood_types.keys()을 순회하며,\n",
    "# 아래와 같은 문장이 출력되도록 하는 코드를 작성하세요.\n",
    "\"\"\"\n",
    "A형은 40명입니다.\n",
    "B형은 11명입니다.\n",
    "AB형은 4명입니다.\n",
    "O형은 45명입니다.\n",
    "\"\"\""
   ]
  },
  {
   "cell_type": "code",
   "execution_count": null,
   "metadata": {},
   "outputs": [],
   "source": []
  },
  {
   "cell_type": "code",
   "execution_count": null,
   "metadata": {},
   "outputs": [],
   "source": [
    "# items 메서드를 활용해봅시다.\n",
    "# blood_types.items()을 순회하며,\n",
    "# 아래와 같은 문장이 출력되도록 하는 코드를 작성하세요.\n",
    "\"\"\"\n",
    "A형은 40명입니다.\n",
    "B형은 11명입니다.\n",
    "AB형은 4명입니다.\n",
    "O형은 45명입니다.\n",
    "\"\"\""
   ]
  },
  {
   "cell_type": "code",
   "execution_count": null,
   "metadata": {
    "scrolled": true
   },
   "outputs": [],
   "source": []
  },
  {
   "cell_type": "markdown",
   "metadata": {},
   "source": [
    "### [실습] 딕셔너리 순회\n",
    "\n",
    "> 혈액형 검사한 결과가 담긴 `blood_types`이 주어졌을때, 해당 검사에 참가한 사람들의 총합을 구해보세요.\n",
    "\n",
    "---\n",
    "\n",
    "**[출력 예시]**\n",
    "```\n",
    "검사에 참가한 사람은 총 100명입니다.\n",
    "```"
   ]
  },
  {
   "cell_type": "code",
   "execution_count": null,
   "metadata": {},
   "outputs": [],
   "source": [
    "# 변수명이 blood_types인 딕셔너리를 만들어봅시다."
   ]
  },
  {
   "cell_type": "code",
   "execution_count": 15,
   "metadata": {},
   "outputs": [
    {
     "name": "stdout",
     "output_type": "stream",
     "text": [
      "<class 'dict'>\n"
     ]
    }
   ],
   "source": [
    "blood_types = {'A' : 40, 'B' : 11, 'AB' : 4, 'O' : 45}\n",
    "blood_types\n",
    "print(type(blood_types))"
   ]
  },
  {
   "cell_type": "code",
   "execution_count": null,
   "metadata": {},
   "outputs": [],
   "source": [
    "# for문을 통해 딕셔너리 blood_types를 순회하며,\n",
    "# dict[key]로 접근하는 방법을 통해\n",
    "# '검사에 참가한 사람은 총 100명입니다.' 라는 문장을 출력하는 코드를 작성하세요."
   ]
  },
  {
   "cell_type": "code",
   "execution_count": 56,
   "metadata": {
    "scrolled": true
   },
   "outputs": [
    {
     "name": "stdout",
     "output_type": "stream",
     "text": [
      "검사에 참가한 사람은100명입니다.\n",
      "검사에 참가한 사람은 100\"명입니다.\n"
     ]
    }
   ],
   "source": [
    "a=0\n",
    "for key in blood_types.keys():\n",
    "    a=a+blood_types[key]\n",
    "\n",
    "print('검사에 참가한 사람은' + str(a) +\"명입니다.\")\n",
    "print('검사에 참가한 사람은 %s\"명입니다.' %a)"
   ]
  },
  {
   "cell_type": "code",
   "execution_count": null,
   "metadata": {},
   "outputs": [],
   "source": [
    "# 메서드 values를 활용해봅시다.\n",
    "# for문을 통해 딕셔너리 blood_types를 순회하며,\n",
    "# '검사에 참가한 사람은 총 100명입니다.' 라는 문장을 출력하는 코드를 작성하세요."
   ]
  },
  {
   "cell_type": "code",
   "execution_count": 41,
   "metadata": {
    "scrolled": true
   },
   "outputs": [
    {
     "name": "stdout",
     "output_type": "stream",
     "text": [
      "40\n",
      "51\n",
      "55\n",
      "100\n",
      "검사에 참가한 사람은100명입니다.\n"
     ]
    }
   ],
   "source": [
    "b=0\n",
    "for blood_type in blood_types.values():\n",
    "    b=b+blood_type\n",
    "    print(b)\n",
    "print('검사에 참가한 사람은' + str(b) +\"명입니다.\")"
   ]
  },
  {
   "cell_type": "code",
   "execution_count": null,
   "metadata": {},
   "outputs": [],
   "source": [
    "blood_types"
   ]
  },
  {
   "cell_type": "code",
   "execution_count": null,
   "metadata": {},
   "outputs": [],
   "source": [
    "# 빌트인 함수 sum을 사용해 \n",
    "# '검사에 참가한 사람은 총 100명입니다.' 라는 문장을 출력하는 코드를 간단하게 작성해보세요."
   ]
  },
  {
   "cell_type": "code",
   "execution_count": 62,
   "metadata": {},
   "outputs": [
    {
     "name": "stdout",
     "output_type": "stream",
     "text": [
      "검사에 참가한 사람은 총 100명입니다\n",
      "검사에 참가한 사람은 총 100명입니다.\n"
     ]
    }
   ],
   "source": [
    "c=0\n",
    "c=sum(blood_types.values())\n",
    "print(\"검사에 참가한 사람은 총 \"+ str(c)+\"명입니다\")\n",
    "print(\"검사에 참가한 사람은 총 %s명입니다.\"%sum(blood_types.values()))"
   ]
  },
  {
   "cell_type": "code",
   "execution_count": 53,
   "metadata": {},
   "outputs": [
    {
     "name": "stdout",
     "output_type": "stream",
     "text": [
      "<built-in method values of dict object at 0x0000020EB8F3C3C0>\n"
     ]
    }
   ],
   "source": [
    "print(blood_types.values)"
   ]
  },
  {
   "cell_type": "markdown",
   "metadata": {},
   "source": [
    "### [응용] 딕셔너리 구축하기(counter)\n",
    "> 리스트가 주어질 때, 각각의 요소의 개수를 value 값으로 갖는 딕셔너리를 만드세요.\n",
    "\n",
    "---\n",
    "\n",
    "**[출력 예시]**\n",
    "\n",
    "{'great': 2, 'expectations': 1, 'the': 2, 'adventures': 2, 'of': 2, 'sherlock': 1, 'holmes': 1, 'gasby': 1, 'hamlet': 1, 'huckleberry': 1, 'fin': 1}\n"
   ]
  },
  {
   "cell_type": "code",
   "execution_count": null,
   "metadata": {},
   "outputs": [],
   "source": [
    "# 변수명이 book_title인 리스트를 만들어봅시다."
   ]
  },
  {
   "cell_type": "code",
   "execution_count": 63,
   "metadata": {},
   "outputs": [],
   "source": [
    "book_title =  ['great', 'expectations', 'the', 'adventures', 'of', 'sherlock', 'holmes', 'the', 'great', 'gasby', 'hamlet', 'adventures', 'of', 'huckleberry', 'fin']"
   ]
  },
  {
   "cell_type": "code",
   "execution_count": 32,
   "metadata": {},
   "outputs": [
    {
     "name": "stdout",
     "output_type": "stream",
     "text": [
      "있다!\n"
     ]
    }
   ],
   "source": [
    "# 참고 - dict에서의 containment test\n",
    "\n",
    "my_dict = {'a': '123', 'b': '456'}\n",
    "if 'a' in my_dict: # key가 있는지 여부를 판단!\n",
    "    print('있다!')"
   ]
  },
  {
   "cell_type": "code",
   "execution_count": null,
   "metadata": {},
   "outputs": [],
   "source": [
    "# 1. dict[key]로 접근하는 방법을 통해 작성해보세요."
   ]
  },
  {
   "cell_type": "code",
   "execution_count": 64,
   "metadata": {},
   "outputs": [
    {
     "name": "stdout",
     "output_type": "stream",
     "text": [
      "{'great': 2, 'expectations': 1, 'the': 2, 'adventures': 2, 'of': 2, 'sherlock': 1, 'holmes': 1, 'gasby': 1, 'hamlet': 1, 'huckleberry': 1, 'fin': 1}\n"
     ]
    }
   ],
   "source": [
    "book_infos={}\n",
    "\n",
    "for key in book_title:\n",
    "    if key in book_infos:\n",
    "        book_infos[key]+=1\n",
    "    else:\n",
    "        book_infos[key]=1\n",
    "print(book_infos)"
   ]
  },
  {
   "cell_type": "code",
   "execution_count": 66,
   "metadata": {},
   "outputs": [
    {
     "name": "stdout",
     "output_type": "stream",
     "text": [
      "{'great': 0, 'expectations': 0, 'the': 0, 'adventures': 0, 'of': 0, 'sherlock': 0, 'holmes': 0, 'gasby': 0, 'hamlet': 0, 'huckleberry': 0, 'fin': 0}\n",
      "{'great': 2, 'expectations': 1, 'the': 2, 'adventures': 2, 'of': 2, 'sherlock': 1, 'holmes': 1, 'gasby': 1, 'hamlet': 1, 'huckleberry': 1, 'fin': 1}\n"
     ]
    }
   ],
   "source": [
    "book_infos={}\n",
    "\n",
    "for key in book_title:\n",
    "    book_infos[key]=0\n",
    "print(book_infos)\n",
    "for key in book_title:\n",
    "    book_infos[key]+=1\n",
    "\n",
    "print(book_infos)"
   ]
  },
  {
   "cell_type": "code",
   "execution_count": null,
   "metadata": {},
   "outputs": [],
   "source": [
    "# 2. count 메서드를 활용해 작성해보세요."
   ]
  },
  {
   "cell_type": "code",
   "execution_count": 68,
   "metadata": {},
   "outputs": [
    {
     "name": "stdout",
     "output_type": "stream",
     "text": [
      "{'great': 2, 'expectations': 1, 'the': 2, 'adventures': 2, 'of': 2, 'sherlock': 1, 'holmes': 1, 'gasby': 1, 'hamlet': 1, 'huckleberry': 1, 'fin': 1}\n"
     ]
    }
   ],
   "source": [
    "book_infos={}\n",
    "\n",
    "for key in book_title:\n",
    "    book_infos[key] = book_title.count(key)\n",
    "\n",
    "print(book_infos)"
   ]
  },
  {
   "cell_type": "code",
   "execution_count": null,
   "metadata": {},
   "outputs": [],
   "source": [
    "# 3. get 메서드를 활용해 작성해보세요."
   ]
  },
  {
   "cell_type": "markdown",
   "metadata": {},
   "source": [
    "> `get(key[, default])`\n",
    "* key 가 딕셔너리에 있는 경우 key 에 대응하는 값을 돌려주고, 그렇지 않으면 default 를 돌려줍니다. "
   ]
  },
  {
   "cell_type": "code",
   "execution_count": 69,
   "metadata": {},
   "outputs": [
    {
     "name": "stdout",
     "output_type": "stream",
     "text": [
      "{'great': 2, 'expectations': 1, 'the': 2, 'adventures': 2, 'of': 2, 'sherlock': 1, 'holmes': 1, 'gasby': 1, 'hamlet': 1, 'huckleberry': 1, 'fin': 1}\n"
     ]
    }
   ],
   "source": [
    "book_infos={}\n",
    "for key in book_title:\n",
    "    book_infos[key] = book_infos.get(key, 0)+1\n",
    "print(book_infos)"
   ]
  },
  {
   "cell_type": "markdown",
   "metadata": {},
   "source": [
    "## 컨테이너형 형변환\n",
    "\n",
    "- 파이썬에서 컨테이너는 서로 변환할 수 있습니다.\n",
    "- 직접 실행해가며 결과를 확인해 주세요!\n",
    "\n",
    "<img width=\"708\" alt=\"typecasting\" src=\"https://user-images.githubusercontent.com/18046097/61180466-a6a67780-a651-11e9-8c0a-adb9e1ee04de.png\">\n"
   ]
  },
  {
   "cell_type": "code",
   "execution_count": null,
   "metadata": {},
   "outputs": [],
   "source": [
    "# 하나의 결과를 확인 한 후, 주석 `#` 을 활용하여 이전의 코드를 비활성화 합니다.\n",
    "# 형변환 후의 결과를 확인 합니다."
   ]
  },
  {
   "cell_type": "code",
   "execution_count": null,
   "metadata": {},
   "outputs": [],
   "source": [
    "# list를 형변환 해봅시다."
   ]
  },
  {
   "cell_type": "code",
   "execution_count": 16,
   "metadata": {},
   "outputs": [
    {
     "data": {
      "text/plain": [
       "{1, 2, 3, 4}"
      ]
     },
     "execution_count": 16,
     "metadata": {},
     "output_type": "execute_result"
    }
   ],
   "source": [
    "l = [1, 2, 3, 4]\n",
    "str(l)\n",
    "# tuple(l)\n",
    "# set(l)\n",
    "# range(l)\n",
    "# dict(l)"
   ]
  },
  {
   "cell_type": "code",
   "execution_count": null,
   "metadata": {},
   "outputs": [],
   "source": [
    "# 직접 형변환을 하면서 변환 가능 여부 꼭 확인할 것!\n",
    "\n",
    "# tuple을 형변환 해봅시다."
   ]
  },
  {
   "cell_type": "code",
   "execution_count": null,
   "metadata": {},
   "outputs": [],
   "source": [
    "t = (1, 2, 3, 4)\n",
    "str(t)\n",
    "list(t)\n",
    "set(t)\n",
    "# range(t)\n",
    "# dict(t)"
   ]
  },
  {
   "cell_type": "code",
   "execution_count": null,
   "metadata": {},
   "outputs": [],
   "source": [
    "# range를 형변환 해봅시다."
   ]
  },
  {
   "cell_type": "code",
   "execution_count": null,
   "metadata": {},
   "outputs": [],
   "source": [
    "r = range(1, 5)\n",
    "str(r)\n",
    "list(r)\n",
    "set(r)\n",
    "tuple(r)\n",
    "# dict(r)"
   ]
  },
  {
   "cell_type": "code",
   "execution_count": null,
   "metadata": {},
   "outputs": [],
   "source": [
    "# set을 형변환 해봅시다."
   ]
  },
  {
   "cell_type": "code",
   "execution_count": null,
   "metadata": {},
   "outputs": [],
   "source": [
    "s = {1, 2, 3, 4}\n",
    "str(s)\n",
    "list(s)\n",
    "tuple(s)\n",
    "# range(s)\n",
    "# dict(s)"
   ]
  },
  {
   "cell_type": "code",
   "execution_count": null,
   "metadata": {},
   "outputs": [],
   "source": [
    "# dictionary를 형변환 해봅시다."
   ]
  },
  {
   "cell_type": "code",
   "execution_count": 19,
   "metadata": {},
   "outputs": [
    {
     "data": {
      "text/plain": [
       "('name', 'year')"
      ]
     },
     "execution_count": 19,
     "metadata": {},
     "output_type": "execute_result"
    }
   ],
   "source": [
    "d = {'name': 'python', 'year': 2022}\n",
    "# str(d)\n",
    "# list(d)\n",
    "tuple(d)\n",
    "# set(d)\n",
    "# range(d)"
   ]
  },
  {
   "cell_type": "markdown",
   "metadata": {},
   "source": [
    "## 데이터의 분류\n",
    "> `mutable` vs. `immutable`\n",
    "[참고](https://www.geeksforgeeks.org/mutable-vs-immutable-objects-in-python/)\n",
    "\n",
    "데이터는 크게 변경 가능한 것(`mutable`)들과 변경 불가능한 것(`immutable`)으로 나뉘며, python은 각각을 다르게 다룹니다."
   ]
  },
  {
   "cell_type": "markdown",
   "metadata": {},
   "source": [
    "### 변경 불가능한(`immutable`) 데이터\n",
    "\n",
    "* 리터럴(literal)\n",
    "\n",
    "    - 숫자(Number)\n",
    "    - 글자(String)\n",
    "    - 참/거짓(Bool)\n",
    "\n",
    "* range()\n",
    "\n",
    "* tuple()\n",
    "\n",
    "* frozenset()\n",
    "\n"
   ]
  },
  {
   "cell_type": "code",
   "execution_count": 20,
   "metadata": {},
   "outputs": [
    {
     "name": "stdout",
     "output_type": "stream",
     "text": [
      "0\n",
      "2\n"
     ]
    },
    {
     "ename": "TypeError",
     "evalue": "'range' object does not support item assignment",
     "output_type": "error",
     "traceback": [
      "\u001b[1;31m---------------------------------------------------------------------------\u001b[0m",
      "\u001b[1;31mTypeError\u001b[0m                                 Traceback (most recent call last)",
      "\u001b[1;32mc:\\Users\\seon\\Desktop\\study\\2_3_자료형_군집형.ipynb 셀 291\u001b[0m in \u001b[0;36m<cell line: 6>\u001b[1;34m()\u001b[0m\n\u001b[0;32m      <a href='vscode-notebook-cell:/c%3A/Users/seon/Desktop/study/2_3_%EC%9E%90%EB%A3%8C%ED%98%95_%EA%B5%B0%EC%A7%91%ED%98%95.ipynb#Y561sZmlsZQ%3D%3D?line=3'>4</a>\u001b[0m \u001b[39m# 결과는 어떻게 될까?\u001b[39;00m\n\u001b[0;32m      <a href='vscode-notebook-cell:/c%3A/Users/seon/Desktop/study/2_3_%EC%9E%90%EB%A3%8C%ED%98%95_%EA%B5%B0%EC%A7%91%ED%98%95.ipynb#Y561sZmlsZQ%3D%3D?line=4'>5</a>\u001b[0m my_range \u001b[39m=\u001b[39m \u001b[39mrange\u001b[39m(\u001b[39m10\u001b[39m)\n\u001b[1;32m----> <a href='vscode-notebook-cell:/c%3A/Users/seon/Desktop/study/2_3_%EC%9E%90%EB%A3%8C%ED%98%95_%EA%B5%B0%EC%A7%91%ED%98%95.ipynb#Y561sZmlsZQ%3D%3D?line=5'>6</a>\u001b[0m my_range[\u001b[39m2\u001b[39;49m] \u001b[39m=\u001b[39m \u001b[39m2\u001b[39m\n",
      "\u001b[1;31mTypeError\u001b[0m: 'range' object does not support item assignment"
     ]
    }
   ],
   "source": [
    "print(range(10)[0]) # ?? \n",
    "print(range(10)[2]) # ?? \n",
    "\n",
    "# 결과는 어떻게 될까?\n",
    "my_range = range(10)\n",
    "my_range[2] = 2"
   ]
  },
  {
   "cell_type": "code",
   "execution_count": null,
   "metadata": {},
   "outputs": [],
   "source": [
    "# immutable 데이터의 복사는 어떻게 이루어질까?\n",
    "num1 = 20\n",
    "num2 = num1 \n",
    "num2 = 10\n",
    "\n",
    "print(num1)\n",
    "print(num2)"
   ]
  },
  {
   "cell_type": "code",
   "execution_count": null,
   "metadata": {},
   "outputs": [],
   "source": [
    "# 아래 코드 블럭을 실행하여 복사 과정을 확인해 봅시다."
   ]
  },
  {
   "cell_type": "code",
   "execution_count": 21,
   "metadata": {
    "ExecuteTime": {
     "end_time": "2021-01-15T08:49:45.487462Z",
     "start_time": "2021-01-15T08:49:45.472376Z"
    }
   },
   "outputs": [
    {
     "data": {
      "text/html": [
       "<iframe width=\"800\" height=\"500\" frameborder=\"0\" src=\"http://pythontutor.com/iframe-embed.html#code=a%20%3D%2020%0Ab%20%3D%20a%0Ab%20%3D%2010%0A%0Aprint%28a%29%0Aprint%28b%29&codeDivHeight=400&codeDivWidth=350&cumulative=false&curInstr=0&heapPrimitives=nevernest&origin=opt-frontend.js&py=3&rawInputLstJSON=%5B%5D&textReferences=false\"> </iframe>\n"
      ],
      "text/plain": [
       "<IPython.core.display.HTML object>"
      ]
     },
     "metadata": {},
     "output_type": "display_data"
    }
   ],
   "source": [
    "%%html\n",
    "<iframe width=\"800\" height=\"500\" frameborder=\"0\" src=\"http://pythontutor.com/iframe-embed.html#code=a%20%3D%2020%0Ab%20%3D%20a%0Ab%20%3D%2010%0A%0Aprint%28a%29%0Aprint%28b%29&codeDivHeight=400&codeDivWidth=350&cumulative=false&curInstr=0&heapPrimitives=nevernest&origin=opt-frontend.js&py=3&rawInputLstJSON=%5B%5D&textReferences=false\"> </iframe>"
   ]
  },
  {
   "cell_type": "markdown",
   "metadata": {},
   "source": [
    "### 변경 가능한(`mutable`) 데이터\n",
    "\n",
    "- `list`\n",
    "- `dict`\n",
    "- `set`\n"
   ]
  },
  {
   "cell_type": "code",
   "execution_count": null,
   "metadata": {},
   "outputs": [],
   "source": [
    "# mutable 데이터의 복사는 어떻게 이루어질까?\n",
    "num1 = [1, 2, 3, 4]\n",
    "num2 = num1\n",
    "num2[0] = 100\n",
    "\n",
    "print(num1)\n",
    "print(num2)"
   ]
  },
  {
   "cell_type": "code",
   "execution_count": null,
   "metadata": {},
   "outputs": [],
   "source": [
    "# 아래 코드 블럭을 실행하여 복사 과정을 확인해 봅시다."
   ]
  },
  {
   "cell_type": "code",
   "execution_count": null,
   "metadata": {
    "ExecuteTime": {
     "end_time": "2021-01-15T08:49:47.034312Z",
     "start_time": "2021-01-15T08:49:47.024303Z"
    }
   },
   "outputs": [],
   "source": [
    "%%html\n",
    "<iframe width=\"800\" height=\"500\" frameborder=\"0\" src=\"http://pythontutor.com/iframe-embed.html#code=num1%20%3D%20%5B1,%202,%203,%204%5D%0Anum2%20%3D%20num1%0Anum2%5B0%5D%20%3D%20100%0A%0Aprint%28num1%29%0Aprint%28num2%29&codeDivHeight=400&codeDivWidth=350&cumulative=false&curInstr=0&heapPrimitives=nevernest&origin=opt-frontend.js&py=3&rawInputLstJSON=%5B%5D&textReferences=false\"> </iframe>"
   ]
  },
  {
   "cell_type": "code",
   "execution_count": 22,
   "metadata": {},
   "outputs": [
    {
     "name": "stdout",
     "output_type": "stream",
     "text": [
      "[1, 2, 3, [1, 100, 3]]\n",
      "[1, 2, 3, [1, 100, 3]]\n"
     ]
    }
   ],
   "source": [
    "num1 = [1, 2, 3, [1, 2, 3]]\n",
    "num2 = num1\n",
    "num2[3][1] = 100\n",
    "\n",
    "print(num1)\n",
    "print(num2)"
   ]
  },
  {
   "cell_type": "code",
   "execution_count": 23,
   "metadata": {},
   "outputs": [
    {
     "name": "stdout",
     "output_type": "stream",
     "text": [
      "[1, 2, 3, [1, 100, 3]]\n",
      "[1, 2, 3, [1, 100, 3]]\n"
     ]
    }
   ],
   "source": [
    "num1 = [1, 2, 3, [1, 2, 3]]\n",
    "num2 = num1.copy()\n",
    "num2[3][1] = 100\n",
    "\n",
    "print(num1)\n",
    "print(num2)"
   ]
  },
  {
   "cell_type": "code",
   "execution_count": 24,
   "metadata": {},
   "outputs": [
    {
     "name": "stdout",
     "output_type": "stream",
     "text": [
      "[1, 2, 3, [1, 2, 3]]\n",
      "[1, 2, 3, [1, 100, 3]]\n"
     ]
    }
   ],
   "source": [
    "import copy\n",
    "\n",
    "num1 = [1, 2, 3, [1, 2, 3]]\n",
    "num2 = copy.deepcopy(num1)\n",
    "num2[3][1] = 100\n",
    "\n",
    "print(num1)\n",
    "print(num2)"
   ]
  },
  {
   "cell_type": "markdown",
   "metadata": {},
   "source": [
    "# 정리\n",
    "## 컨테이너(Container)\n",
    "<center><img src=\"https://user-images.githubusercontent.com/18046097/61180439-44e60d80-a651-11e9-9adc-e60fa57c2165.png\", alt=\"container\"/></center>"
   ]
  },
  {
   "cell_type": "code",
   "execution_count": 71,
   "metadata": {},
   "outputs": [],
   "source": [
    "# 도전! 최대 & 최소 찾기(min & max 쓰지 않고!)\n",
    "my_list = [3, 2, 10, 2, 4]"
   ]
  },
  {
   "cell_type": "code",
   "execution_count": 74,
   "metadata": {},
   "outputs": [
    {
     "name": "stdout",
     "output_type": "stream",
     "text": [
      "최대값:  10\n",
      "최소값:  2\n"
     ]
    }
   ],
   "source": [
    "max_value=-1e9\n",
    "\n",
    "for v in my_list:\n",
    "    if v >max_value:\n",
    "        max_value=v\n",
    "\n",
    "min_value=1e9\n",
    "for v in my_list:\n",
    "    if v < min_value:\n",
    "        min_value = v\n",
    "print(\"최대값: \",max_value)\n",
    "print(\"최소값: \",min_value)"
   ]
  },
  {
   "cell_type": "code",
   "execution_count": 1,
   "metadata": {},
   "outputs": [
    {
     "data": {
      "text/plain": [
       "'Number 1aaaa'"
      ]
     },
     "execution_count": 1,
     "metadata": {},
     "output_type": "execute_result"
    }
   ],
   "source": [
    "'Number {0:a<5}'.format(1)"
   ]
  },
  {
   "cell_type": "code",
   "execution_count": 2,
   "metadata": {},
   "outputs": [
    {
     "data": {
      "text/plain": [
       "'정확도: 0.87'"
      ]
     },
     "execution_count": 2,
     "metadata": {},
     "output_type": "execute_result"
    }
   ],
   "source": [
    "accuracy= 0.866743267\n",
    "'정확도: %.2f'%(accuracy)"
   ]
  },
  {
   "cell_type": "code",
   "execution_count": 77,
   "metadata": {},
   "outputs": [],
   "source": [
    "keys = ['name', 'ptyhon', 'java']\n",
    "user = ['jason', 80 , 45]\n",
    "zip_temp = dict(zip(keys, user))"
   ]
  },
  {
   "cell_type": "code",
   "execution_count": 80,
   "metadata": {},
   "outputs": [
    {
     "data": {
      "text/plain": [
       "{'name': 'jason', 'ptyhon': 80, 'java': 45}"
      ]
     },
     "execution_count": 80,
     "metadata": {},
     "output_type": "execute_result"
    }
   ],
   "source": [
    "dict(zip_temp)"
   ]
  },
  {
   "cell_type": "code",
   "execution_count": null,
   "metadata": {},
   "outputs": [],
   "source": []
  }
 ],
 "metadata": {
  "kernelspec": {
   "display_name": "Python 3.10.4 ('study')",
   "language": "python",
   "name": "python3"
  },
  "language_info": {
   "codemirror_mode": {
    "name": "ipython",
    "version": 3
   },
   "file_extension": ".py",
   "mimetype": "text/x-python",
   "name": "python",
   "nbconvert_exporter": "python",
   "pygments_lexer": "ipython3",
   "version": "3.10.4"
  },
  "vscode": {
   "interpreter": {
    "hash": "d1e21767e69694e6271cff48837b0419ac731655a1ddac958206c0399c4912a0"
   }
  }
 },
 "nbformat": 4,
 "nbformat_minor": 2
}
