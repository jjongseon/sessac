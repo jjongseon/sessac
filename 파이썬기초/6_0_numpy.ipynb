{
 "cells": [
  {
   "cell_type": "markdown",
   "metadata": {},
   "source": [
    "## 넘파이?\n",
    "\n",
    "Numerical Python - 행열 연산이나 다차원 배열을 편리하게 처리  \n",
    "배열(array) 단위로 백터, 행열 연상등을 파이썬의 기본 리스트에 비해 빠르고 적은양의 메모리로 연산  \n",
    "브로드캐스트 지원 - 형태(차원)가 다른 행렬끼리의 계산\n",
    "\n",
    "https://numpy.org/"
   ]
  },
  {
   "cell_type": "code",
   "execution_count": null,
   "metadata": {},
   "outputs": [],
   "source": [
    "import numpy as np"
   ]
  },
  {
   "cell_type": "markdown",
   "metadata": {},
   "source": [
    "## 사용하는 이유?"
   ]
  },
  {
   "cell_type": "code",
   "execution_count": 35,
   "metadata": {},
   "outputs": [
    {
     "name": "stdout",
     "output_type": "stream",
     "text": [
      "[[6, 8], [10, 12]]\n",
      "[[ 6  8]\n",
      " [10 12]]\n"
     ]
    }
   ],
   "source": [
    "matrix_1 = [[1, 2],[3, 4]]\n",
    "matrix_2 = [[5, 6],[7, 8]]\n",
    "matrix_result = []\n",
    "\n",
    "#행렬합 (파이썬 리스트사용)\n",
    "for i in range(len(matrix_1)):\n",
    "    tmp = []\n",
    "    for j in range(len(matrix_2)):\n",
    "        tmp.append(matrix_1[i][j]+matrix_2[i][j])\n",
    "    matrix_result.append(tmp)\n",
    "    \n",
    "print(matrix_result)\n",
    "\n",
    "\n",
    "#행렬합 (넘파이)\n",
    "matrix_result = np.array(matrix_1) + np.array(matrix_2)\n",
    "print(matrix_result)"
   ]
  },
  {
   "cell_type": "code",
   "execution_count": 34,
   "metadata": {},
   "outputs": [
    {
     "ename": "NameError",
     "evalue": "name 'matrix_2' is not defined",
     "output_type": "error",
     "traceback": [
      "\u001b[1;31m---------------------------------------------------------------------------\u001b[0m",
      "\u001b[1;31mNameError\u001b[0m                                 Traceback (most recent call last)",
      "\u001b[1;32mc:\\Users\\seon\\Desktop\\study\\파이썬기초\\6_0_numpy.ipynb 셀 5\u001b[0m in \u001b[0;36m<cell line: 5>\u001b[1;34m()\u001b[0m\n\u001b[0;32m      <a href='vscode-notebook-cell:/c%3A/Users/seon/Desktop/study/%ED%8C%8C%EC%9D%B4%EC%8D%AC%EA%B8%B0%EC%B4%88/6_0_numpy.ipynb#W4sZmlsZQ%3D%3D?line=2'>3</a>\u001b[0m matrix_1 \u001b[39m=\u001b[39m [[\u001b[39m1\u001b[39m, \u001b[39m2\u001b[39m],[\u001b[39m3\u001b[39m, \u001b[39m4\u001b[39m]]\n\u001b[0;32m      <a href='vscode-notebook-cell:/c%3A/Users/seon/Desktop/study/%ED%8C%8C%EC%9D%B4%EC%8D%AC%EA%B8%B0%EC%B4%88/6_0_numpy.ipynb#W4sZmlsZQ%3D%3D?line=4'>5</a>\u001b[0m \u001b[39mfor\u001b[39;00m i \u001b[39min\u001b[39;00m \u001b[39mrange\u001b[39m(\u001b[39mlen\u001b[39m(matrix_1)):\n\u001b[1;32m----> <a href='vscode-notebook-cell:/c%3A/Users/seon/Desktop/study/%ED%8C%8C%EC%9D%B4%EC%8D%AC%EA%B8%B0%EC%B4%88/6_0_numpy.ipynb#W4sZmlsZQ%3D%3D?line=5'>6</a>\u001b[0m     \u001b[39mfor\u001b[39;00m j \u001b[39min\u001b[39;00m \u001b[39mrange\u001b[39m(\u001b[39mlen\u001b[39m(matrix_2)):\n\u001b[0;32m      <a href='vscode-notebook-cell:/c%3A/Users/seon/Desktop/study/%ED%8C%8C%EC%9D%B4%EC%8D%AC%EA%B8%B0%EC%B4%88/6_0_numpy.ipynb#W4sZmlsZQ%3D%3D?line=6'>7</a>\u001b[0m         matrix_1[i][j] \u001b[39m=\u001b[39m matrix_1[i][j] \u001b[39m+\u001b[39m \u001b[39m1\u001b[39m\n\u001b[0;32m      <a href='vscode-notebook-cell:/c%3A/Users/seon/Desktop/study/%ED%8C%8C%EC%9D%B4%EC%8D%AC%EA%B8%B0%EC%B4%88/6_0_numpy.ipynb#W4sZmlsZQ%3D%3D?line=8'>9</a>\u001b[0m \u001b[39mprint\u001b[39m(matrix_1)\n",
      "\u001b[1;31mNameError\u001b[0m: name 'matrix_2' is not defined"
     ]
    }
   ],
   "source": [
    "#숫자와의 연산 (파이썬 리스트사용)\n",
    "\n",
    "matrix_1 = [[1, 2],[3, 4]]\n",
    "\n",
    "for i in range(len(matrix_1)):\n",
    "    for j in range(len(matrix_2)):\n",
    "        matrix_1[i][j] = matrix_1[i][j] + 1\n",
    "        \n",
    "print(matrix_1)"
   ]
  },
  {
   "cell_type": "code",
   "execution_count": null,
   "metadata": {},
   "outputs": [],
   "source": [
    "#숫자와의 연산 (넘파이)\n",
    "\n",
    "matrix_1 = [[1, 2],[3, 4]]\n",
    "\n",
    "np.array(matrix_1) + 1"
   ]
  },
  {
   "cell_type": "code",
   "execution_count": null,
   "metadata": {},
   "outputs": [],
   "source": [
    "matrix_1 = [['aa', 'bb'],[3.4, 1]]\n",
    "\n",
    "np.array(matrix_1)"
   ]
  },
  {
   "cell_type": "markdown",
   "metadata": {},
   "source": [
    "## 속도비교"
   ]
  },
  {
   "cell_type": "code",
   "execution_count": null,
   "metadata": {},
   "outputs": [],
   "source": [
    "import time\n",
    "\n",
    "size = 10000000\n",
    "\n",
    "#list\n",
    "x = list(range(size))\n",
    "y = list(range(size))\n",
    "\n",
    "start_time = time.time()\n",
    "z = [x[i]+x[i] for i in range(size)]\n",
    "print(\"리스트 걸린시간\", time.time()-start_time)\n",
    "\n",
    "#adlist (넘파이)\n",
    "x = np.arange(size)\n",
    "y = np.arange(size)\n",
    "start_time = time.time()\n",
    "z = x + y\n",
    "print(\"넘파이 걸린시간\", time.time()-start_time)"
   ]
  },
  {
   "cell_type": "markdown",
   "metadata": {},
   "source": [
    "## ndarray"
   ]
  },
  {
   "cell_type": "code",
   "execution_count": null,
   "metadata": {},
   "outputs": [],
   "source": [
    "x = np.uint(32)\n",
    "print(x)\n",
    "print(x.dtype)"
   ]
  },
  {
   "cell_type": "code",
   "execution_count": null,
   "metadata": {},
   "outputs": [],
   "source": [
    "x = np.array([1, 2, 3, 4])\n",
    "print(x)\n",
    "print(x.dtype)"
   ]
  },
  {
   "cell_type": "code",
   "execution_count": null,
   "metadata": {},
   "outputs": [],
   "source": [
    "x = np.float32([1, 2, 3, 4])\n",
    "print(x)\n",
    "print(x.dtype)"
   ]
  },
  {
   "cell_type": "code",
   "execution_count": null,
   "metadata": {},
   "outputs": [],
   "source": [
    "x = np.array([1, 2, 3, 4], dtype=np.float32)\n",
    "print(x)\n",
    "print(x.dtype)\n",
    "\n",
    "x = np.int32(x)\n",
    "print(x)\n",
    "print(x.dtype)\n",
    "np.issubdtype(x.dtype, np.int32)"
   ]
  },
  {
   "cell_type": "markdown",
   "metadata": {},
   "source": [
    "## 다차원 ndarray"
   ]
  },
  {
   "cell_type": "code",
   "execution_count": null,
   "metadata": {},
   "outputs": [],
   "source": [
    "x = np.array(1)\n",
    "print(x.shape)\n",
    "print(x.ndim)\n",
    "print(x.size)"
   ]
  },
  {
   "cell_type": "code",
   "execution_count": null,
   "metadata": {},
   "outputs": [],
   "source": [
    "x = np.array([1, 2])\n",
    "print(x.shape)\n",
    "print(x.ndim)\n",
    "print(x.size)"
   ]
  },
  {
   "cell_type": "code",
   "execution_count": null,
   "metadata": {},
   "outputs": [],
   "source": [
    "x = np.array([[1, 2, 3],[4, 5, 6]])\n",
    "print(x.shape)\n",
    "print(x.ndim)\n",
    "print(x.ndim)"
   ]
  },
  {
   "cell_type": "markdown",
   "metadata": {},
   "source": [
    "## arange"
   ]
  },
  {
   "cell_type": "code",
   "execution_count": null,
   "metadata": {},
   "outputs": [],
   "source": [
    "x = np.arange(10)\n",
    "print(x)\n",
    "x = np.arange(10.0)\n",
    "print(x)\n",
    "x = np.arange(1, 10, 2)\n",
    "print(x)\n",
    "x = np.arange(1, 10, 0.5)\n",
    "print(x)\n",
    "x = np.arange(10, 1, -0.5)\n",
    "print(x)"
   ]
  },
  {
   "cell_type": "markdown",
   "metadata": {},
   "source": [
    "## linspace"
   ]
  },
  {
   "cell_type": "code",
   "execution_count": null,
   "metadata": {},
   "outputs": [],
   "source": [
    "x = np.linspace(1, 20, 5)\n",
    "print(x)"
   ]
  },
  {
   "cell_type": "code",
   "execution_count": null,
   "metadata": {},
   "outputs": [],
   "source": [
    "x = np.linspace(1, 20, 10, endpoint=False)\n",
    "print(x)"
   ]
  },
  {
   "cell_type": "markdown",
   "metadata": {},
   "source": [
    "## reshape"
   ]
  },
  {
   "cell_type": "code",
   "execution_count": null,
   "metadata": {},
   "outputs": [],
   "source": [
    "x = np.arange(9).reshape(3, 3)\n",
    "print(x)"
   ]
  },
  {
   "cell_type": "code",
   "execution_count": null,
   "metadata": {},
   "outputs": [],
   "source": [
    "x = np.arange(24).reshape(2, 3, 4)\n",
    "print(x)"
   ]
  },
  {
   "cell_type": "code",
   "execution_count": null,
   "metadata": {},
   "outputs": [],
   "source": [
    "x = np.arange(16).reshape(2, 2, 2, 2)\n",
    "print(x)"
   ]
  },
  {
   "cell_type": "code",
   "execution_count": null,
   "metadata": {},
   "outputs": [],
   "source": [
    "x = np.array([[1,2],[3,4],[5,6]])\n",
    "print(x)\n",
    "print(x.reshape(2,3))"
   ]
  },
  {
   "cell_type": "code",
   "execution_count": null,
   "metadata": {},
   "outputs": [],
   "source": [
    "x = np.arange(9).reshape(3, -1)\n",
    "print(x)"
   ]
  },
  {
   "cell_type": "markdown",
   "metadata": {},
   "source": [
    "## slicing"
   ]
  },
  {
   "cell_type": "code",
   "execution_count": null,
   "metadata": {},
   "outputs": [],
   "source": [
    "x = np.arange(20)\n",
    "print(x[1:3])"
   ]
  },
  {
   "cell_type": "code",
   "execution_count": null,
   "metadata": {},
   "outputs": [],
   "source": [
    "x = np.arange(20).reshape(4,5)\n",
    "print(x)\n",
    "print(x[1:3])\n",
    "print(x[1:3, 1:3])"
   ]
  },
  {
   "cell_type": "code",
   "execution_count": null,
   "metadata": {
    "scrolled": true
   },
   "outputs": [],
   "source": [
    "x = np.arange(30).reshape(2,5,3)\n",
    "print(x)\n",
    "print(x[:,3:5,1])"
   ]
  },
  {
   "cell_type": "markdown",
   "metadata": {},
   "source": [
    "## indexing & boolean indexing"
   ]
  },
  {
   "cell_type": "code",
   "execution_count": null,
   "metadata": {},
   "outputs": [],
   "source": [
    "a = np.arange(20).reshape(4, 5)\n",
    "print(a)\n",
    "\n",
    "print(a[1][1])\n",
    "print(a[1,1])\n",
    "print(a[[1,1],[1,2]])"
   ]
  },
  {
   "cell_type": "code",
   "execution_count": null,
   "metadata": {},
   "outputs": [],
   "source": [
    "a = np.arange(20).reshape(4, 5)\n",
    "print(a)\n",
    "\n",
    "print(a > 3)\n",
    "print(a[a > 3])\n",
    "print(a[a == 1])\n",
    "print(a[~(a == 1)])\n",
    "print(a[(a > 3)&(a < 8)])"
   ]
  },
  {
   "cell_type": "markdown",
   "metadata": {},
   "source": [
    "## random"
   ]
  },
  {
   "cell_type": "code",
   "execution_count": null,
   "metadata": {},
   "outputs": [],
   "source": [
    "np.random.rand(5,5)"
   ]
  },
  {
   "cell_type": "code",
   "execution_count": null,
   "metadata": {},
   "outputs": [],
   "source": [
    "np.random.randint(1, 10)"
   ]
  },
  {
   "cell_type": "code",
   "execution_count": null,
   "metadata": {},
   "outputs": [],
   "source": [
    "np.random.randint(1, 10, size=(5))"
   ]
  },
  {
   "cell_type": "code",
   "execution_count": null,
   "metadata": {},
   "outputs": [],
   "source": [
    "np.random.randint(1, 10, size=(5, 5))"
   ]
  },
  {
   "cell_type": "markdown",
   "metadata": {},
   "source": [
    "## 특별한 형태의 배열"
   ]
  },
  {
   "cell_type": "code",
   "execution_count": null,
   "metadata": {},
   "outputs": [],
   "source": [
    "np.ones([5,5])"
   ]
  },
  {
   "cell_type": "code",
   "execution_count": null,
   "metadata": {},
   "outputs": [],
   "source": [
    "np.zeros([5,5])"
   ]
  },
  {
   "cell_type": "code",
   "execution_count": null,
   "metadata": {},
   "outputs": [],
   "source": [
    "np.eye(5)"
   ]
  },
  {
   "cell_type": "code",
   "execution_count": null,
   "metadata": {},
   "outputs": [],
   "source": [
    "x = np.random.randint(1, 10, size=(5, 5))\n",
    "y = np.eye(5)\n",
    "print(x)\n",
    "z = np.dot(x, y)\n",
    "print(z)"
   ]
  },
  {
   "cell_type": "code",
   "execution_count": null,
   "metadata": {},
   "outputs": [],
   "source": [
    "x = np.random.randint(1, 10, size=(5, 5))\n",
    "print(x)\n",
    "print(x.ravel())\n",
    "print(x.ravel(order='F'))"
   ]
  },
  {
   "cell_type": "markdown",
   "metadata": {},
   "source": [
    "## concatenate"
   ]
  },
  {
   "cell_type": "code",
   "execution_count": 2,
   "metadata": {},
   "outputs": [
    {
     "data": {
      "text/plain": [
       "array([1, 2, 3, 4, 5, 6])"
      ]
     },
     "execution_count": 2,
     "metadata": {},
     "output_type": "execute_result"
    }
   ],
   "source": [
    "x = np.arange(1, 4)\n",
    "y = np.arange(4, 7)\n",
    "\n",
    "np.concatenate([x, y])"
   ]
  },
  {
   "cell_type": "code",
   "execution_count": null,
   "metadata": {},
   "outputs": [],
   "source": [
    "x = np.arange(10).reshape(2, 5)\n",
    "y = np.arange(10, 20).reshape(2, 5)\n",
    "\n",
    "np.concatenate([x, y])"
   ]
  },
  {
   "cell_type": "code",
   "execution_count": null,
   "metadata": {},
   "outputs": [],
   "source": [
    "np.concatenate([x, y], axis=1)"
   ]
  },
  {
   "cell_type": "markdown",
   "metadata": {},
   "source": [
    "## split"
   ]
  },
  {
   "cell_type": "code",
   "execution_count": null,
   "metadata": {},
   "outputs": [],
   "source": [
    "x = np.arange(12)\n",
    "print(x)\n",
    "np.split(x, 4)"
   ]
  },
  {
   "cell_type": "code",
   "execution_count": null,
   "metadata": {},
   "outputs": [],
   "source": [
    "x = np.arange(16).reshape(4, 4)\n",
    "print(x)\n",
    "np.split(x, 2)"
   ]
  },
  {
   "cell_type": "code",
   "execution_count": null,
   "metadata": {},
   "outputs": [],
   "source": [
    "x = np.arange(16).reshape(4, 4)\n",
    "print(x)\n",
    "np.split(x, 2, axis=1)"
   ]
  },
  {
   "cell_type": "markdown",
   "metadata": {},
   "source": [
    "## broadcast"
   ]
  },
  {
   "cell_type": "code",
   "execution_count": null,
   "metadata": {},
   "outputs": [],
   "source": [
    "x = np.array([1,2,3])\n",
    "x + 1"
   ]
  },
  {
   "cell_type": "code",
   "execution_count": null,
   "metadata": {},
   "outputs": [],
   "source": [
    "x = np.arange(1, 10).reshape(3, 3)\n",
    "y = np.arange(1, 4)\n",
    "x + y"
   ]
  },
  {
   "cell_type": "code",
   "execution_count": null,
   "metadata": {},
   "outputs": [],
   "source": [
    "x = np.array([10, 20, 30]).reshape(3, 1)\n",
    "y = np.arange(1, 4)\n",
    "x + y"
   ]
  },
  {
   "cell_type": "markdown",
   "metadata": {},
   "source": [
    "## 연산 및 집계함수"
   ]
  },
  {
   "cell_type": "code",
   "execution_count": 6,
   "metadata": {},
   "outputs": [
    {
     "data": {
      "text/plain": [
       "array([[ 8, 15],\n",
       "       [12, 23]])"
      ]
     },
     "execution_count": 6,
     "metadata": {},
     "output_type": "execute_result"
    }
   ],
   "source": [
    "x = np.arange(3, 7).reshape(2, 2)\n",
    "y = np.arange(4).reshape(2, 2)\n",
    "x.dot(y) #행렬곱"
   ]
  },
  {
   "cell_type": "code",
   "execution_count": null,
   "metadata": {},
   "outputs": [],
   "source": [
    "np.transpose(x) #전치행렬"
   ]
  },
  {
   "cell_type": "code",
   "execution_count": null,
   "metadata": {},
   "outputs": [],
   "source": [
    "np.linalg.inv(x) #역행렬"
   ]
  },
  {
   "cell_type": "code",
   "execution_count": null,
   "metadata": {},
   "outputs": [],
   "source": [
    "np.linalg.det(x) #행렬식"
   ]
  },
  {
   "cell_type": "code",
   "execution_count": null,
   "metadata": {},
   "outputs": [],
   "source": [
    "np.median(x) #중간값"
   ]
  },
  {
   "cell_type": "code",
   "execution_count": null,
   "metadata": {},
   "outputs": [],
   "source": [
    "np.std(x) #표준편차"
   ]
  },
  {
   "cell_type": "code",
   "execution_count": null,
   "metadata": {},
   "outputs": [],
   "source": [
    "np.var(x) #분산"
   ]
  },
  {
   "cell_type": "code",
   "execution_count": null,
   "metadata": {},
   "outputs": [],
   "source": [
    "np.sum(x) #합"
   ]
  },
  {
   "cell_type": "code",
   "execution_count": null,
   "metadata": {},
   "outputs": [],
   "source": [
    "np.sum(x, axis=1) #합, 축변경"
   ]
  },
  {
   "cell_type": "code",
   "execution_count": null,
   "metadata": {},
   "outputs": [],
   "source": [
    "np.cumsum(x) #누적합"
   ]
  },
  {
   "cell_type": "code",
   "execution_count": null,
   "metadata": {},
   "outputs": [],
   "source": [
    "np.argmin(x) #최소값 위치"
   ]
  },
  {
   "cell_type": "code",
   "execution_count": null,
   "metadata": {},
   "outputs": [],
   "source": [
    "np.argmax(x) #최대값 위치"
   ]
  },
  {
   "cell_type": "code",
   "execution_count": null,
   "metadata": {},
   "outputs": [],
   "source": [
    "np.any(x) #하나라도 참이어야 참"
   ]
  },
  {
   "cell_type": "code",
   "execution_count": null,
   "metadata": {},
   "outputs": [],
   "source": [
    "np.all(x) #모든요소가 참이어야 참"
   ]
  },
  {
   "cell_type": "code",
   "execution_count": null,
   "metadata": {},
   "outputs": [],
   "source": [
    "np.all(x > 4)"
   ]
  },
  {
   "cell_type": "code",
   "execution_count": null,
   "metadata": {},
   "outputs": [],
   "source": [
    "np.where(x > 4)"
   ]
  },
  {
   "cell_type": "code",
   "execution_count": null,
   "metadata": {},
   "outputs": [],
   "source": [
    "np.where(x > 4, x, -100)"
   ]
  },
  {
   "cell_type": "markdown",
   "metadata": {},
   "source": [
    "## 실습1"
   ]
  },
  {
   "cell_type": "markdown",
   "metadata": {},
   "source": [
    "x=[1, 2, 3, 4, 5, 6, 7, 8, 9], y=[10, 20, 30, 40, 50, 60, 70, 80, 90]\n",
    "위의 배열로 Numpy를 사용하여 3 X 3 행렬을 만든 뒤 행렬합과 행렬곱을 구해주세요.\n",
    "결과:\n",
    "[[11 22 33]\n",
    "[44 55 66]\n",
    "[77 88 99]]\n",
    "[[300 360 420]\n",
    "[660 810 960]\n",
    "[1020 1260 1500]"
   ]
  },
  {
   "cell_type": "code",
   "execution_count": 1,
   "metadata": {},
   "outputs": [],
   "source": [
    "import numpy as np"
   ]
  },
  {
   "cell_type": "code",
   "execution_count": 20,
   "metadata": {},
   "outputs": [
    {
     "name": "stdout",
     "output_type": "stream",
     "text": [
      "[[[11 22 33]\n",
      "  [44 55 66]\n",
      "  [77 88 99]]]\n",
      "[[ 300  360  420]\n",
      " [ 660  810  960]\n",
      " [1020 1260 1500]]\n"
     ]
    }
   ],
   "source": [
    "x=np.array([1, 2, 3, 4, 5, 6, 7, 8, 9]).reshape(3,3)\n",
    "y=np.array([10, 20, 30, 40, 50, 60, 70, 80, 90]).reshape(3,3)\n",
    "\n",
    "z1=np.array([x+y])\n",
    "print(z1)\n",
    "\n",
    "z2=np.dot(x,y)\n",
    "print(z2)"
   ]
  },
  {
   "cell_type": "markdown",
   "metadata": {},
   "source": [
    "## 실습2"
   ]
  },
  {
   "cell_type": "markdown",
   "metadata": {},
   "source": [
    "1에서 20사이의 균일한간격으로 30개의 숫자를 만들고\n",
    "모든값에 숫자10을 더해주세요\n",
    "결과:\n",
    "[11. 11.65517241 12.31034483 12.96551724 13.62068966 14.27586207\n",
    "14.93103448 15.5862069 16.24137931 16.89655172 17.55172414 18.20689655\n",
    "18.86206897 19.51724138 20.17241379 20.82758621 21.48275862 22.13793103\n",
    "22.79310345 23.44827586 24.10344828 24.75862069 25.4137931 26.06896552\n",
    "26.72413793 27.37931034 28.03448276 28.68965517 29.34482759 30. ]\n"
   ]
  },
  {
   "cell_type": "code",
   "execution_count": 24,
   "metadata": {},
   "outputs": [
    {
     "name": "stdout",
     "output_type": "stream",
     "text": [
      "[11.         11.65517241 12.31034483 12.96551724 13.62068966 14.27586207\n",
      " 14.93103448 15.5862069  16.24137931 16.89655172 17.55172414 18.20689655\n",
      " 18.86206897 19.51724138 20.17241379 20.82758621 21.48275862 22.13793103\n",
      " 22.79310345 23.44827586 24.10344828 24.75862069 25.4137931  26.06896552\n",
      " 26.72413793 27.37931034 28.03448276 28.68965517 29.34482759 30.        ]\n"
     ]
    }
   ],
   "source": [
    "x=np.linspace(1,20,30,endpoint=True)\n",
    "print(x+10)"
   ]
  },
  {
   "cell_type": "markdown",
   "metadata": {},
   "source": [
    "## 실습3"
   ]
  },
  {
   "cell_type": "markdown",
   "metadata": {},
   "source": [
    "1~100까지 난수가 들어가있는 2x10x10 배열을 만들고\n",
    "50보다 크거나 같은 값은 1, 50보다 작은 값은 2로 변환하고\n",
    "2번째 배열에 아래와 같이 붉은색 위치만 뽑아주세요"
   ]
  },
  {
   "cell_type": "code",
   "execution_count": 44,
   "metadata": {},
   "outputs": [
    {
     "name": "stdout",
     "output_type": "stream",
     "text": [
      "[[[41  6 81 39 85 71 87  1 70 60]\n",
      "  [69  9 32 32 89  8 87 92 93 25]\n",
      "  [68  3 46 34 47 84 94 65 33 17]\n",
      "  [82 52 59 13 69 65 64 10 51 51]\n",
      "  [90  9 35 19 50 84 47 67  8  3]\n",
      "  [60 79 85 82 49 85 91 50 95 50]\n",
      "  [66 74 91 27 83 36 96 26 54 49]\n",
      "  [ 7 43 12 40 32 41 64 64  5  4]\n",
      "  [39 89 14 73 91 76 42 61 74 73]\n",
      "  [59 93 29 92 62 55 89 51 75 94]]\n",
      "\n",
      " [[77 81 71 53 26 90 30 21 16 44]\n",
      "  [54 26 62 26 31 16 59 60 91 99]\n",
      "  [35  3 55 71 81 33 71 39 29  1]\n",
      "  [95 83  6 54 14 46 31 64 17 21]\n",
      "  [35 51 15 13  8 41 36 64 70 58]\n",
      "  [63 36 84 54 95 69 81 26  3 59]\n",
      "  [51 32 13  3 75 32 67 98 43 48]\n",
      "  [33 51 36  5 45 79 50 81 22  3]\n",
      "  [91 40 78 57 36 39 21 76 56 57]\n",
      "  [48 72 20 63 59  5 16  6  1 94]]]\n",
      "[[[2 2 1 2 1 1 1 2 1 1]\n",
      "  [1 2 2 2 1 2 1 1 1 2]\n",
      "  [1 2 2 2 2 1 1 1 2 2]\n",
      "  [1 1 1 2 1 1 1 2 1 1]\n",
      "  [1 2 2 2 1 1 2 1 2 2]\n",
      "  [1 1 1 1 2 1 1 1 1 1]\n",
      "  [1 1 1 2 1 2 1 2 1 2]\n",
      "  [2 2 2 2 2 2 1 1 2 2]\n",
      "  [2 1 2 1 1 1 2 1 1 1]\n",
      "  [1 1 2 1 1 1 1 1 1 1]]\n",
      "\n",
      " [[1 1 1 1 2 1 2 2 2 2]\n",
      "  [1 2 1 2 2 2 1 1 1 1]\n",
      "  [2 2 1 1 1 2 1 2 2 2]\n",
      "  [1 1 2 1 2 2 2 1 2 2]\n",
      "  [2 1 2 2 2 2 2 1 1 1]\n",
      "  [1 2 1 1 1 1 1 2 2 1]\n",
      "  [1 2 2 2 1 2 1 1 2 2]\n",
      "  [2 1 2 2 2 1 1 1 2 2]\n",
      "  [1 2 1 1 2 2 2 1 1 1]\n",
      "  [2 1 2 1 1 2 2 2 2 1]]]\n",
      "[[1 1 2 2 1]\n",
      " [2 1 1 2 2]\n",
      " [1 1 1 2 2]\n",
      " [2 2 1 1 1]\n",
      " [2 2 2 2 1]]\n"
     ]
    }
   ],
   "source": [
    "x=np.random.randint(1,100,size=(2,10,10))\n",
    "\n",
    "print(x)\n",
    "y=np.where(x>=50,1,2)\n",
    "print(y)\n",
    "\n",
    "print(y[1,5:,5:])\n"
   ]
  },
  {
   "cell_type": "code",
   "execution_count": null,
   "metadata": {},
   "outputs": [],
   "source": []
  }
 ],
 "metadata": {
  "kernelspec": {
   "display_name": "Python 3.10.4 ('study')",
   "language": "python",
   "name": "python3"
  },
  "language_info": {
   "codemirror_mode": {
    "name": "ipython",
    "version": 3
   },
   "file_extension": ".py",
   "mimetype": "text/x-python",
   "name": "python",
   "nbconvert_exporter": "python",
   "pygments_lexer": "ipython3",
   "version": "3.10.4"
  },
  "orig_nbformat": 4,
  "vscode": {
   "interpreter": {
    "hash": "d1e21767e69694e6271cff48837b0419ac731655a1ddac958206c0399c4912a0"
   }
  }
 },
 "nbformat": 4,
 "nbformat_minor": 2
}
