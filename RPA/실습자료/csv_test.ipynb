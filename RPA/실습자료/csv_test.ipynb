{
 "cells": [
  {
   "cell_type": "code",
   "execution_count": 3,
   "metadata": {},
   "outputs": [],
   "source": [
    "with open('orders.csv', 'w', encoding='utf8') as f:\n",
    "    f.write('고객명,상품명,수량,금액\\n')\n",
    "    f.write('최재진,폴드4,1,800000\\n')"
   ]
  },
  {
   "cell_type": "code",
   "execution_count": 4,
   "metadata": {},
   "outputs": [],
   "source": [
    "# 추가 데이터 작성 a\n",
    "with open('orders.csv', 'a', encoding='utf8') as f:\n",
    "    f.write('제이슨,버즈프로,1,200000\\n')"
   ]
  },
  {
   "cell_type": "code",
   "execution_count": 16,
   "metadata": {},
   "outputs": [
    {
     "name": "stdout",
     "output_type": "stream",
     "text": [
      "['고객명,상품명,수량,금액\\n', '최재진,폴드4,1,800000\\n', '제이슨,버즈프로,1,200000\\n']\n"
     ]
    }
   ],
   "source": [
    "with open('orders.csv', 'r', encoding='utf8') as f:\n",
    "    datas = f.readlines()\n",
    "    orders=[]\n",
    "    print(datas)\n",
    "    for data in datas:\n",
    "        temp = data.rstrip().split(',')\n",
    "        orders.append(temp)"
   ]
  },
  {
   "cell_type": "code",
   "execution_count": 17,
   "metadata": {},
   "outputs": [
    {
     "data": {
      "text/plain": [
       "[['고객명', '상품명', '수량', '금액'],\n",
       " ['최재진', '폴드4', '1', '800000'],\n",
       " ['제이슨', '버즈프로', '1', '200000']]"
      ]
     },
     "execution_count": 17,
     "metadata": {},
     "output_type": "execute_result"
    }
   ],
   "source": [
    "orders"
   ]
  },
  {
   "cell_type": "code",
   "execution_count": 18,
   "metadata": {},
   "outputs": [
    {
     "name": "stdout",
     "output_type": "stream",
     "text": [
      "[['고객명', '상품명', '수량', '금액'], ['최재진', '폴드4', '1', '800000'], ['제이슨', '버즈프로', '1', '200000']]\n"
     ]
    }
   ],
   "source": [
    "with open('orders.csv', 'r', encoding='utf8') as f:\n",
    "    datas =[ data.rstrip().split(',') for data in datas]\n",
    "    print(datas)"
   ]
  },
  {
   "cell_type": "code",
   "execution_count": null,
   "metadata": {},
   "outputs": [],
   "source": []
  }
 ],
 "metadata": {
  "kernelspec": {
   "display_name": "Python 3.10.4 ('study')",
   "language": "python",
   "name": "python3"
  },
  "language_info": {
   "codemirror_mode": {
    "name": "ipython",
    "version": 3
   },
   "file_extension": ".py",
   "mimetype": "text/x-python",
   "name": "python",
   "nbconvert_exporter": "python",
   "pygments_lexer": "ipython3",
   "version": "3.10.4"
  },
  "orig_nbformat": 4,
  "vscode": {
   "interpreter": {
    "hash": "d1e21767e69694e6271cff48837b0419ac731655a1ddac958206c0399c4912a0"
   }
  }
 },
 "nbformat": 4,
 "nbformat_minor": 2
}
