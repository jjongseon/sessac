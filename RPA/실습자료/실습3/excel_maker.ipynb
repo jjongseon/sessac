{
 "cells": [
  {
   "cell_type": "code",
   "execution_count": 1,
   "metadata": {},
   "outputs": [],
   "source": [
    "import openpyxl\n",
    "import os"
   ]
  },
  {
   "cell_type": "code",
   "execution_count": 2,
   "metadata": {},
   "outputs": [],
   "source": [
    "new_excel = openpyxl.Workbook()\n",
    "new_excel.create_sheet('total')\n",
    "total_sheet = new_excel['total']"
   ]
  },
  {
   "cell_type": "code",
   "execution_count": 4,
   "metadata": {},
   "outputs": [],
   "source": [
    "excel_dir = os.listdir('./')\n",
    "\n",
    "for excel in excel_dir:\n",
    "    try:\n",
    "        read_excel = openpyxl.load_workbook('./'+ excel,read_only=True)\n",
    "        target_sheet = read_excel ['Sheet']\n",
    "        for row in target_sheet.iter_rows():\n",
    "            temp= []\n",
    "            for cell in row:    \n",
    "                temp.append(cell.value)\n",
    "            total_sheet.append(temp)\n",
    "    except:\n",
    "        pass\n"
   ]
  },
  {
   "cell_type": "code",
   "execution_count": 5,
   "metadata": {},
   "outputs": [],
   "source": [
    "new_excel.save('./total.xlsx')"
   ]
  },
  {
   "cell_type": "code",
   "execution_count": null,
   "metadata": {},
   "outputs": [],
   "source": []
  }
 ],
 "metadata": {
  "kernelspec": {
   "display_name": "Python 3.10.4 ('study')",
   "language": "python",
   "name": "python3"
  },
  "language_info": {
   "codemirror_mode": {
    "name": "ipython",
    "version": 3
   },
   "file_extension": ".py",
   "mimetype": "text/x-python",
   "name": "python",
   "nbconvert_exporter": "python",
   "pygments_lexer": "ipython3",
   "version": "3.10.4"
  },
  "orig_nbformat": 4,
  "vscode": {
   "interpreter": {
    "hash": "d1e21767e69694e6271cff48837b0419ac731655a1ddac958206c0399c4912a0"
   }
  }
 },
 "nbformat": 4,
 "nbformat_minor": 2
}
