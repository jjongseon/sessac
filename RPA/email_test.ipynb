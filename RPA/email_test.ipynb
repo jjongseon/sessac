{
 "cells": [
  {
   "cell_type": "code",
   "execution_count": 13,
   "metadata": {},
   "outputs": [],
   "source": [
    "SMTP_SERVER = 'smtp.naver.com'\n",
    "SMTP_PORT = 465\n",
    "SMTP_USER = 'karls08@naver.com'\n",
    "SMTP_PASSWORD = open('./email_config.txt','r').read().rstrip() # 파일 읽어와서 저장\n"
   ]
  },
  {
   "cell_type": "code",
   "execution_count": 14,
   "metadata": {},
   "outputs": [],
   "source": [
    "from email.mime.multipart import MIMEMultipart\n",
    "from email.mime.text import MIMEText\n",
    "# 편지봉투 만들기\n",
    "msg = MIMEMultipart('alternative')\n",
    "# 편지 내용\n",
    "contents = '테스트'\n",
    "\n",
    "msg['From'] = SMTP_USER\n",
    "msg['To'] = SMTP_USER\n",
    "msg['Subject'] = '제목제목'\n",
    "\n",
    "text = MIMEText(contents)\n",
    "msg.attach(text)"
   ]
  },
  {
   "cell_type": "code",
   "execution_count": 19,
   "metadata": {},
   "outputs": [
    {
     "name": "stdout",
     "output_type": "stream",
     "text": [
      "메일 전송 서버 접속 성공\n",
      "로그인 성공 !\n",
      "이메일 발송 성공 !\n",
      "finally\n"
     ]
    }
   ],
   "source": [
    "import smtplib\n",
    "\n",
    "# 이메일 전송 서버에 접속\n",
    "try:\n",
    "    smtp = smtplib.SMTP_SSL(SMTP_SERVER, SMTP_PORT)\n",
    "    print('메일 전송 서버 접속 성공')\n",
    "    smtp.login(SMTP_USER, SMTP_PASSWORD)\n",
    "    print('로그인 성공 !')\n",
    "    smtp.sendmail(SMTP_USER, SMTP_USER, msg.as_string())\n",
    "    print('이메일 발송 성공 !')\n",
    "except Exception as e:\n",
    "    print('### 에러 발생 ###')\n",
    "    print(e)\n",
    "    pass\n",
    "finally:\n",
    "    smtp.close()\n",
    "    print('finally')"
   ]
  },
  {
   "cell_type": "code",
   "execution_count": 18,
   "metadata": {},
   "outputs": [],
   "source": [
    "import email\n",
    "from email.mime.base import MIMEBase\n",
    "from email import encoders\n",
    "from os.path import basename\n",
    "\n",
    "# basename사용하여 email_config.txt만 출력 경로안나옴(파일이름만)\n",
    "# print(basename('./email_config.txt'))\n",
    "\n",
    "\n",
    "email_file = MIMEBase('application','octet-stream')\n",
    "\n",
    "with open('./실습자료/실습3/total.xlsx', 'rb') as f:\n",
    "    file_data = f.read()\n",
    "\n",
    "# 파일 데이터를 첨부파일에 담아준다\n",
    "# base64 인코딩형식으로 인코딩\n",
    "email_file.set_payload(file_data)\n",
    "encoders.encode_base64(email_file)\n",
    "\n",
    "file_name = basename('./실습자료/실습3/total.xlsx')\n",
    "\n",
    "email_file.add_header('Content-Disposition','attachment',filename=file_name)\n",
    "\n",
    "msg.attach(email_file)"
   ]
  },
  {
   "cell_type": "code",
   "execution_count": 73,
   "metadata": {},
   "outputs": [],
   "source": [
    "def send_mail(parmas):\n",
    "    msg = MIMEMultipart('mixed')\n",
    "    \n",
    "\n",
    "    msg['From'] = SMTP_USER\n",
    "    msg['To'] = parmas\n",
    "    msg['Subject'] = '실습5'\n",
    "    \n",
    "    contents = '결제확인 및 커리큘럼'\n",
    "    text = MIMEText(contents)\n",
    "    msg.attach(text)\n",
    "\n",
    "    email_file = MIMEBase('application','octet-stream')\n",
    "\n",
    "    with open('./실습자료/실습5/커리큘럼.xlsx', 'rb') as f:\n",
    "        file_data = f.read()\n",
    "\n",
    "    email_file.set_payload(file_data)\n",
    "    encoders.encode_base64(email_file)\n",
    "\n",
    "    file_name = basename('./실습자료/실습5/커리큘럼.xlsx')\n",
    "\n",
    "    email_file.add_header('Content-Disposition','attachment',filename=file_name)\n",
    "\n",
    "    msg.attach(email_file)\n",
    "\n",
    "    try:\n",
    "        smtp = smtplib.SMTP_SSL(SMTP_SERVER, SMTP_PORT)\n",
    "        smtp.login(SMTP_USER, SMTP_PASSWORD)\n",
    "        smtp.sendmail(SMTP_USER, parmas, msg.as_string())\n",
    "    except Exception as e:\n",
    "        print('### 에러 발생 ###')\n",
    "        print(e)\n",
    "        pass\n",
    "    finally:\n",
    "        smtp.close()"
   ]
  },
  {
   "cell_type": "code",
   "execution_count": 23,
   "metadata": {},
   "outputs": [],
   "source": [
    "send_mail('karls@naver.com')"
   ]
  },
  {
   "cell_type": "code",
   "execution_count": 45,
   "metadata": {},
   "outputs": [],
   "source": [
    "import openpyxl\n",
    "import os\n",
    "read_excel = openpyxl.load_workbook('./실습자료/실습5/수강생_결제정보.xlsx',read_only=True)\n",
    "sheet = read_excel.active"
   ]
  },
  {
   "cell_type": "code",
   "execution_count": 74,
   "metadata": {},
   "outputs": [],
   "source": [
    "for row in sheet.iter_rows():\n",
    "    if row[3].value =='결제완료':\n",
    "        email = row[1].value\n",
    "        send_mail(email)\n",
    "            "
   ]
  },
  {
   "cell_type": "code",
   "execution_count": 75,
   "metadata": {},
   "outputs": [
    {
     "name": "stdout",
     "output_type": "stream",
     "text": [
      "svstar94@gmail.com\n",
      "svstar94@gmail.com\n",
      "svstar94@gmail.com\n",
      "svstar94@gmail.com\n",
      "svstar94@gmail.com\n",
      "svstar94@gmail.com\n",
      "svstar94@gmail.com\n",
      "svstar94@gmail.com\n",
      "svstar94@gmail.com\n",
      "svstar94@gmail.com\n"
     ]
    }
   ],
   "source": [
    "for row in sheet.iter_rows():\n",
    "    if row[3].value =='결제완료':\n",
    "        email = row[1].value\n",
    "        print(email)"
   ]
  },
  {
   "cell_type": "code",
   "execution_count": null,
   "metadata": {},
   "outputs": [],
   "source": []
  }
 ],
 "metadata": {
  "kernelspec": {
   "display_name": "Python 3.10.4 ('study')",
   "language": "python",
   "name": "python3"
  },
  "language_info": {
   "codemirror_mode": {
    "name": "ipython",
    "version": 3
   },
   "file_extension": ".py",
   "mimetype": "text/x-python",
   "name": "python",
   "nbconvert_exporter": "python",
   "pygments_lexer": "ipython3",
   "version": "3.10.4"
  },
  "orig_nbformat": 4,
  "vscode": {
   "interpreter": {
    "hash": "d1e21767e69694e6271cff48837b0419ac731655a1ddac958206c0399c4912a0"
   }
  }
 },
 "nbformat": 4,
 "nbformat_minor": 2
}
