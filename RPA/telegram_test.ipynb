{
 "cells": [
  {
   "cell_type": "code",
   "execution_count": null,
   "metadata": {},
   "outputs": [],
   "source": [
    "%pip install python-telegram-bot --user"
   ]
  },
  {
   "cell_type": "code",
   "execution_count": 2,
   "metadata": {},
   "outputs": [],
   "source": [
    "import telegram"
   ]
  },
  {
   "cell_type": "code",
   "execution_count": 3,
   "metadata": {},
   "outputs": [
    {
     "name": "stdout",
     "output_type": "stream",
     "text": [
      "{'token': '5698674531:AAG8M_J7z9DQ-vNI2a-1_0PO6bPC_POP2dY'}\n"
     ]
    }
   ],
   "source": [
    "telegram_config = {}\n",
    "# config 파일 읽기\n",
    "with open('./telegram_config', 'r') as f:\n",
    "    # 모든 줄 읽어오기\n",
    "    configs = f.readlines()\n",
    "    # 한 줄씩 확인해서\n",
    "    for config in configs:\n",
    "        # 줄바꿈기호 제거(\\n) 후 =로 문자열 분리\n",
    "        # key, value로 언패킹 (2개 나올것이 확실하기 때문에)\n",
    "        key, value = config.rstrip().split('=')\n",
    "        # config 딕셔너리에 키-값 추가\n",
    "        telegram_config[key] = value\n",
    "\n",
    "print(telegram_config)\n",
    "token = telegram_config['token']"
   ]
  },
  {
   "cell_type": "code",
   "execution_count": 69,
   "metadata": {},
   "outputs": [],
   "source": [
    "bot = telegram.Bot(token)"
   ]
  },
  {
   "cell_type": "code",
   "execution_count": 21,
   "metadata": {},
   "outputs": [],
   "source": [
    "updates = bot.get_updates()"
   ]
  },
  {
   "cell_type": "code",
   "execution_count": 15,
   "metadata": {},
   "outputs": [],
   "source": [
    "chat_id = updates[-1].message.chat.id"
   ]
  },
  {
   "cell_type": "code",
   "execution_count": 16,
   "metadata": {},
   "outputs": [
    {
     "data": {
      "text/plain": [
       "5562369406"
      ]
     },
     "execution_count": 16,
     "metadata": {},
     "output_type": "execute_result"
    }
   ],
   "source": [
    "chat_id"
   ]
  },
  {
   "cell_type": "code",
   "execution_count": 28,
   "metadata": {},
   "outputs": [
    {
     "data": {
      "text/plain": [
       "<telegram.message.Message at 0x2db2c87b4a0>"
      ]
     },
     "execution_count": 28,
     "metadata": {},
     "output_type": "execute_result"
    }
   ],
   "source": [
    "bot.send_message(chat_id, '안녕하세요.')"
   ]
  },
  {
   "cell_type": "code",
   "execution_count": 29,
   "metadata": {},
   "outputs": [
    {
     "data": {
      "text/plain": [
       "'테스트메시지입니다.'"
      ]
     },
     "execution_count": 29,
     "metadata": {},
     "output_type": "execute_result"
    }
   ],
   "source": [
    "updates[-1].message.text"
   ]
  },
  {
   "cell_type": "code",
   "execution_count": 43,
   "metadata": {},
   "outputs": [],
   "source": [
    "last_id = updates[-1].update_id"
   ]
  },
  {
   "cell_type": "code",
   "execution_count": 49,
   "metadata": {},
   "outputs": [
    {
     "ename": "IndexError",
     "evalue": "list index out of range",
     "output_type": "error",
     "traceback": [
      "\u001b[1;31m---------------------------------------------------------------------------\u001b[0m",
      "\u001b[1;31mIndexError\u001b[0m                                Traceback (most recent call last)",
      "\u001b[1;32mc:\\Users\\sosin\\Desktop\\workspace\\RPA\\telegram_test.ipynb 셀 11\u001b[0m in \u001b[0;36m<cell line: 1>\u001b[1;34m()\u001b[0m\n\u001b[1;32m----> <a href='vscode-notebook-cell:/c%3A/Users/sosin/Desktop/workspace/RPA/telegram_test.ipynb#X25sZmlsZQ%3D%3D?line=0'>1</a>\u001b[0m bot\u001b[39m.\u001b[39;49mget_updates(offset\u001b[39m=\u001b[39;49mlast_id\u001b[39m+\u001b[39;49m\u001b[39m1\u001b[39;49m)[\u001b[39m-\u001b[39;49m\u001b[39m1\u001b[39;49m]\n",
      "\u001b[1;31mIndexError\u001b[0m: list index out of range"
     ]
    }
   ],
   "source": [
    "bot.get_updates(offset=last_id+1)[-1]"
   ]
  },
  {
   "cell_type": "code",
   "execution_count": 83,
   "metadata": {},
   "outputs": [],
   "source": [
    "update_id = bot.get_updates()[-1].update_id"
   ]
  },
  {
   "cell_type": "code",
   "execution_count": 85,
   "metadata": {},
   "outputs": [
    {
     "data": {
      "text/plain": [
       "[<telegram.update.Update at 0x2db2fec8580>]"
      ]
     },
     "execution_count": 85,
     "metadata": {},
     "output_type": "execute_result"
    }
   ],
   "source": [
    "bot.get_updates(offset=update_id + 1)"
   ]
  },
  {
   "cell_type": "code",
   "execution_count": null,
   "metadata": {},
   "outputs": [],
   "source": []
  },
  {
   "cell_type": "code",
   "execution_count": 78,
   "metadata": {},
   "outputs": [
    {
     "ename": "KeyboardInterrupt",
     "evalue": "",
     "output_type": "error",
     "traceback": [
      "\u001b[1;31m---------------------------------------------------------------------------\u001b[0m",
      "\u001b[1;31mKeyboardInterrupt\u001b[0m                         Traceback (most recent call last)",
      "\u001b[1;32mc:\\Users\\sosin\\Desktop\\workspace\\RPA\\telegram_test.ipynb 셀 12\u001b[0m in \u001b[0;36m<cell line: 4>\u001b[1;34m()\u001b[0m\n\u001b[0;32m     <a href='vscode-notebook-cell:/c%3A/Users/sosin/Desktop/workspace/RPA/telegram_test.ipynb#X21sZmlsZQ%3D%3D?line=23'>24</a>\u001b[0m     \u001b[39mpass\u001b[39;00m\n\u001b[0;32m     <a href='vscode-notebook-cell:/c%3A/Users/sosin/Desktop/workspace/RPA/telegram_test.ipynb#X21sZmlsZQ%3D%3D?line=25'>26</a>\u001b[0m \u001b[39m# 텔레그램 서버 부하 줄이기 위해 3초마다 확인\u001b[39;00m\n\u001b[1;32m---> <a href='vscode-notebook-cell:/c%3A/Users/sosin/Desktop/workspace/RPA/telegram_test.ipynb#X21sZmlsZQ%3D%3D?line=26'>27</a>\u001b[0m time\u001b[39m.\u001b[39;49msleep(\u001b[39m3\u001b[39;49m)\n",
      "\u001b[1;31mKeyboardInterrupt\u001b[0m: "
     ]
    }
   ],
   "source": [
    "# 서버에서 텔레그램 메시지 확인, 응답 보내기\n",
    "import time\n",
    "\n",
    "while True:\n",
    "    \n",
    "    try:\n",
    "        # 신규 메시지가 없을 경우 에러가 발생 \n",
    "        # list index out of range\n",
    "        # 따라서, try - except 문으로 묶어줌\n",
    "        new_message = bot.get_updates(offset=last_id)[-1]\n",
    "\n",
    "        # 만약 신규 메시지가 오늘날씨면,\n",
    "        if new_message.message.text == '오늘날씨':\n",
    "            # 관련 메시지 발송\n",
    "            bot.send_message(chat_id, '오늘날씨는 화창합니다.')\n",
    "        # 만약 신규 메시지가 내일날씨면,\n",
    "        elif new_message.message.text == '내일날씨':\n",
    "            # 관련 메시지 발송\n",
    "            bot.send_message(chat_id, '내일날씨도 화창합니다.')\n",
    "\n",
    "        # offset 값 최신화 (update_id) + 1 해줘서 그 다음부터 메시지부터 확인하도록\n",
    "        last_id = new_message.update_id + 1\n",
    "    except:\n",
    "        pass\n",
    "\n",
    "    # 텔레그램 서버 부하 줄이기 위해 3초마다 확인\n",
    "    time.sleep(3)"
   ]
  },
  {
   "cell_type": "code",
   "execution_count": 51,
   "metadata": {},
   "outputs": [
    {
     "data": {
      "text/plain": [
       "436104210"
      ]
     },
     "execution_count": 51,
     "metadata": {},
     "output_type": "execute_result"
    }
   ],
   "source": [
    "last_id"
   ]
  },
  {
   "cell_type": "code",
   "execution_count": null,
   "metadata": {},
   "outputs": [],
   "source": [
    "# 그룹에 메시지 보내기"
   ]
  },
  {
   "cell_type": "code",
   "execution_count": 96,
   "metadata": {},
   "outputs": [
    {
     "data": {
      "text/plain": [
       "[<telegram.update.Update at 0x2db2fec8c40>,\n",
       " <telegram.update.Update at 0x2db2fec9840>,\n",
       " <telegram.update.Update at 0x2db2fec9480>,\n",
       " <telegram.update.Update at 0x2db2fec93c0>,\n",
       " <telegram.update.Update at 0x2db2fec9540>,\n",
       " <telegram.update.Update at 0x2db2fec9600>,\n",
       " <telegram.update.Update at 0x2db2fec96c0>,\n",
       " <telegram.update.Update at 0x2db2fec9780>]"
      ]
     },
     "execution_count": 96,
     "metadata": {},
     "output_type": "execute_result"
    }
   ],
   "source": [
    "bot.get_updates()"
   ]
  },
  {
   "cell_type": "code",
   "execution_count": 93,
   "metadata": {},
   "outputs": [
    {
     "data": {
      "text/plain": [
       "-447930618"
      ]
     },
     "execution_count": 93,
     "metadata": {},
     "output_type": "execute_result"
    }
   ],
   "source": [
    "bot.get_updates()[-1].message.chat_id # [-1].message.chat_id"
   ]
  },
  {
   "cell_type": "code",
   "execution_count": 76,
   "metadata": {},
   "outputs": [],
   "source": [
    "group_id = bot.get_updates()[-1].message.chat_id"
   ]
  },
  {
   "cell_type": "code",
   "execution_count": 95,
   "metadata": {},
   "outputs": [
    {
     "data": {
      "text/plain": [
       "<telegram.message.Message at 0x2db2c72c880>"
      ]
     },
     "execution_count": 95,
     "metadata": {},
     "output_type": "execute_result"
    }
   ],
   "source": [
    "bot.send_message('-447930618', '테스트')"
   ]
  }
 ],
 "metadata": {
  "kernelspec": {
   "display_name": "Python 3.10.4 ('study')",
   "language": "python",
   "name": "python3"
  },
  "language_info": {
   "codemirror_mode": {
    "name": "ipython",
    "version": 3
   },
   "file_extension": ".py",
   "mimetype": "text/x-python",
   "name": "python",
   "nbconvert_exporter": "python",
   "pygments_lexer": "ipython3",
   "version": "3.10.4"
  },
  "orig_nbformat": 4,
  "vscode": {
   "interpreter": {
    "hash": "322018e35ac4f46d1be23d37489e93f08b335b6041c3f34be3e4bfc70f2b3c28"
   }
  }
 },
 "nbformat": 4,
 "nbformat_minor": 2
}
