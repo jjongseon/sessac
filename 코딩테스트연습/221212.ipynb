{
 "cells": [
  {
   "attachments": {},
   "cell_type": "markdown",
   "metadata": {},
   "source": [
    "예제 : 거스름돈 문제\n",
    "- 당신은 음식점의 계산을 도와주는 점원이다. 카운터에는 거스름돈으로 사용할 500원, 100원, 50원, 10원짜리 동전이 무한히 존재한다. \n",
    "손님에게 거슬러 줘야 할 돈이 N원일 때 거슬러 줘야할 동전의 최소 개수를 구하라. (단, N은 항상 10의 배수)\n",
    "- 전체문제를 부분문제의 식으로 표현해볼 것"
   ]
  },
  {
   "cell_type": "code",
   "execution_count": 99,
   "metadata": {},
   "outputs": [],
   "source": [
    "def remains(n):\n",
    "    a = n//500\n",
    "    n = n-500*a\n",
    "    \n",
    "    b = n//100\n",
    "    n = n-100*b\n",
    "\n",
    "    c = n//50\n",
    "    n = n-50*c\n",
    "\n",
    "    d = n//10\n",
    "    n = n-10*d\n",
    "\n",
    "    print(a,b,c,d)\n",
    "    return a+b+c+d      \n",
    "            \n",
    "\n"
   ]
  },
  {
   "cell_type": "code",
   "execution_count": 100,
   "metadata": {},
   "outputs": [
    {
     "name": "stdout",
     "output_type": "stream",
     "text": [
      "1 0 1 0\n"
     ]
    },
    {
     "data": {
      "text/plain": [
       "2"
      ]
     },
     "execution_count": 100,
     "metadata": {},
     "output_type": "execute_result"
    }
   ],
   "source": [
    "remains(550)"
   ]
  },
  {
   "cell_type": "code",
   "execution_count": null,
   "metadata": {},
   "outputs": [],
   "source": [
    "# 강사님 코드\n",
    "def remains2(N):\n",
    "    answer = 0\n",
    "    coins =[500,100,50,10]\n",
    "    for coin in coins:\n",
    "        answer += N//coin\n",
    "        N %= coin\n",
    "    return answer"
   ]
  },
  {
   "attachments": {},
   "cell_type": "markdown",
   "metadata": {},
   "source": [
    "큰 수 만들기\n",
    "https://school.programmers.co.kr/learn/courses/30/lessons/42883"
   ]
  },
  {
   "cell_type": "code",
   "execution_count": null,
   "metadata": {},
   "outputs": [],
   "source": [
    "# 시간초과.......\n",
    "import itertools\n",
    "\n",
    "def solution(number, k):\n",
    "\n",
    "    answer=0\n",
    "    temp1 = list(number)\n",
    "    a = [i for i in range(len(temp1))]\n",
    "    com = list(itertools.combinations(a,k))\n",
    "\n",
    "    for i in range(len(com)):\n",
    "        temp1 = list(number)\n",
    "        for j in range(k):\n",
    "            temp1[com[i][j]]=''\n",
    "        result = ''.join(temp1)\n",
    "        result = int(result)\n",
    "        if result >= answer:\n",
    "            answer = result\n",
    "        else:\n",
    "            pass\n",
    "    return str(answer)"
   ]
  },
  {
   "cell_type": "code",
   "execution_count": null,
   "metadata": {},
   "outputs": [],
   "source": [
    "def solution(number, k):\n",
    "    answer = ''\n",
    "    number = list(map(int,number))\n",
    "    now_index = 0\n",
    "    \n",
    "    for i in range(len(number)-k):\n",
    "        remains = number[now_index:now_index+k+1]\n",
    "        \n",
    "        max_value = -1\n",
    "        max_index = 0\n",
    "        \n",
    "        for j,v in enumerate(remains):\n",
    "            if v > max_value:\n",
    "                max_value = v\n",
    "                max_index = j\n",
    "            \n",
    "            if max_value == 9:\n",
    "                break\n",
    "        now_index += max_index + 1\n",
    "        k -= max_index\n",
    "        answer += str(max_value)\n",
    "            \n",
    "    \n",
    "    \n",
    "    return answer"
   ]
  }
 ],
 "metadata": {
  "kernelspec": {
   "display_name": "study",
   "language": "python",
   "name": "python3"
  },
  "language_info": {
   "codemirror_mode": {
    "name": "ipython",
    "version": 3
   },
   "file_extension": ".py",
   "mimetype": "text/x-python",
   "name": "python",
   "nbconvert_exporter": "python",
   "pygments_lexer": "ipython3",
   "version": "3.10.4"
  },
  "orig_nbformat": 4,
  "vscode": {
   "interpreter": {
    "hash": "d1e21767e69694e6271cff48837b0419ac731655a1ddac958206c0399c4912a0"
   }
  }
 },
 "nbformat": 4,
 "nbformat_minor": 2
}
