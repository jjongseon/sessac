{
 "cells": [
  {
   "cell_type": "markdown",
   "metadata": {},
   "source": [
    "반복문 연습\n",
    "Lv.1 직사각형 별찍기\n",
    "https://school.programmers.co.kr/learn/courses/30/lessons/12969"
   ]
  },
  {
   "cell_type": "code",
   "execution_count": null,
   "metadata": {},
   "outputs": [],
   "source": [
    "a, b = map(int, input().strip().split(' '))\n",
    "for i in range(b):\n",
    "    print(a*'*')"
   ]
  },
  {
   "cell_type": "markdown",
   "metadata": {},
   "source": [
    "Lv.1 폰켓몬\n",
    "https://school.programmers.co.kr/learn/courses/30/lessons/1845"
   ]
  },
  {
   "cell_type": "code",
   "execution_count": null,
   "metadata": {},
   "outputs": [],
   "source": [
    "# 내풀이\n",
    "temp=[]\n",
    "def solution(nums):\n",
    "    for i in range(len(nums)):\n",
    "        if nums[i] in nums:\n",
    "            if nums[i] in temp:\n",
    "                pass\n",
    "            else:    \n",
    "                temp.append(nums[i])\n",
    "        else:\n",
    "            pass\n",
    "    if len(nums)/2<len(temp):\n",
    "        answer=len(nums)/2\n",
    "    else:\n",
    "        answer=len(temp)\n",
    "    return answer"
   ]
  },
  {
   "cell_type": "code",
   "execution_count": null,
   "metadata": {},
   "outputs": [],
   "source": [
    "# 강사님 풀이\n",
    "def solution(nums):\n",
    "    answer = 0\n",
    "    max_poketmon = len(nums)/2\n",
    "    set_poketmon = set(nums)\n",
    "    unique_poketmon = len(set_poketmon)\n",
    "    \n",
    "    if max_poketmon > unique_poketmon:\n",
    "        answer = unique_poketmon\n",
    "    else:\n",
    "        answer = max_poketmon\n",
    "        \n",
    "# 한줄 코딩\n",
    "def solution(nums):\n",
    "    return min(len(nums)/2, len(set(nums)))"
   ]
  },
  {
   "cell_type": "markdown",
   "metadata": {},
   "source": [
    "Lv.1 숫자 문자열과 영단어\n",
    "https://school.programmers.co.kr/learn/courses/30/lessons/81301"
   ]
  },
  {
   "cell_type": "code",
   "execution_count": null,
   "metadata": {},
   "outputs": [],
   "source": [
    "import re\n",
    "dict={\n",
    "    0 : 'zero',\n",
    "    1 : 'one',\n",
    "    2 : 'two',\n",
    "    3 :'three',\n",
    "    4 :'four',\n",
    "    5 :'five',\n",
    "    6 :'six',\n",
    "    7 :'seven',\n",
    "    8 : 'eight',\n",
    "    9 : 'nine' \n",
    "}\n",
    "def solution(s):\n",
    "    for i in range(10):\n",
    "        if dict[i] in s:\n",
    "            s= re.sub(dict[i],str(i),s)\n",
    "        else:\n",
    "            pass\n",
    "    return int(s)"
   ]
  }
 ],
 "metadata": {
  "language_info": {
   "name": "python"
  },
  "orig_nbformat": 4
 },
 "nbformat": 4,
 "nbformat_minor": 2
}
