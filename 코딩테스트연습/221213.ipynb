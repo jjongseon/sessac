{
 "cells": [
  {
   "attachments": {},
   "cell_type": "markdown",
   "metadata": {},
   "source": [
    "예제 : 기본 정렬 구현하기\n",
    "- 선택 정렬 : 0번째 인덱스부터 현재 위치에 들어갈 값을 찾는 알고리즘\n",
    "- 삽입 정렬 : 1번째 인덱스부터 현재 위치의 수와 앞의 배열을 확인하여 들어갈 위치를 찾는 알고리즘\n",
    "- 버블 정렬 : 0번째 인덱스부터 2개씩 비교하여 맨 끝을 정렬해가는 알고리즘"
   ]
  },
  {
   "cell_type": "code",
   "execution_count": 26,
   "metadata": {},
   "outputs": [
    {
     "name": "stdout",
     "output_type": "stream",
     "text": [
      "[2, 4, 5, 6, 8, 9]\n"
     ]
    }
   ],
   "source": [
    "# 선택 정렬\n",
    "array_temp = [4,6,8,2,5,9]\n",
    "\n",
    "for i in range(len(array_temp)-1):\n",
    "    min_value = array_temp[i]\n",
    "    min_index = i\n",
    "    for j in range(i+1, len(array_temp)):\n",
    "        if min_value > array_temp[j]:\n",
    "            min_value = array_temp[j]\n",
    "            min_index = j\n",
    "    temp = array_temp[i]\n",
    "    array_temp[i] = array_temp[min_index]\n",
    "    array_temp[min_index] = temp\n",
    "print(array_temp)"
   ]
  },
  {
   "cell_type": "code",
   "execution_count": 2,
   "metadata": {},
   "outputs": [],
   "source": [
    "# 삽입 정렬\n",
    "def insert_sort(number:list):\n",
    "    for i in range(1,len(number)):\n",
    "        for j in range(i,0,-1):\n",
    "            if number[j] < number[j-1]:\n",
    "                number[j],number[j-1] = number[j-1],number[j]\n",
    "            else:\n",
    "                break\n",
    "    return number"
   ]
  },
  {
   "cell_type": "code",
   "execution_count": 3,
   "metadata": {},
   "outputs": [
    {
     "data": {
      "text/plain": [
       "[1, 2, 3, 5, 7]"
      ]
     },
     "execution_count": 3,
     "metadata": {},
     "output_type": "execute_result"
    }
   ],
   "source": [
    "insert_sort([1,3,2,5,7])"
   ]
  },
  {
   "cell_type": "code",
   "execution_count": 27,
   "metadata": {},
   "outputs": [
    {
     "name": "stdout",
     "output_type": "stream",
     "text": [
      "[2, 4, 5, 6, 8, 9]\n",
      "[2, 4, 5, 6, 8, 9]\n",
      "[2, 4, 5, 6, 8, 9]\n",
      "[2, 4, 5, 6, 8, 9]\n",
      "[2, 4, 5, 6, 8, 9]\n",
      "[2, 4, 5, 6, 8, 9]\n",
      "[2, 4, 5, 6, 8, 9]\n"
     ]
    }
   ],
   "source": [
    "# 버블 정렬\n",
    "for i in range(len(array_temp)-1, -1, -1):\n",
    "    for j in range(i):\n",
    "        if array_temp[j] < array_temp[j+1]:\n",
    "            pass\n",
    "        else:\n",
    "            array_temp[j], array_temp[j+1] = array_temp[j+1], array_temp[j]\n",
    "    print(array_temp)\n",
    "print(array_temp)"
   ]
  },
  {
   "attachments": {},
   "cell_type": "markdown",
   "metadata": {},
   "source": [
    "H-Index\n",
    "https://school.programmers.co.kr/learn/courses/30/lessons/42747"
   ]
  },
  {
   "cell_type": "code",
   "execution_count": 20,
   "metadata": {},
   "outputs": [],
   "source": [
    "def solution(citations):\n",
    "    answer = 0\n",
    "\n",
    "    for i in range(1,len(citations)):\n",
    "        for j in range(i,0,-1):\n",
    "            if citations[j] < citations[j-1]:\n",
    "                citations[j],citations[j-1] = citations[j-1],citations[j]\n",
    "            else:\n",
    "                break\n",
    "    for i in range(len(citations)):\n",
    "        temp=0\n",
    "        for j in range(i+1,len(citations)):\n",
    "            if citations[i]<citations[j]:\n",
    "                temp += 1\n",
    "            if temp >= citations[i]:\n",
    "                answer = temp\n",
    "\n",
    "    return answer"
   ]
  },
  {
   "cell_type": "code",
   "execution_count": 24,
   "metadata": {},
   "outputs": [],
   "source": [
    "def solution(citations):\n",
    "    answer = 0\n",
    "\n",
    "    for i in range(1,len(citations)):\n",
    "        for j in range(i,0,-1):\n",
    "            if citations[j] < citations[j-1]:\n",
    "                citations[j],citations[j-1] = citations[j-1],citations[j]\n",
    "            else:\n",
    "                break\n",
    "    for i in range(len(citations)):\n",
    "        temp=0\n",
    "        for j in range(i,len(citations)):\n",
    "            if citations[i]<=citations[j]:\n",
    "                temp += 1\n",
    "            if temp >= citations[i]:\n",
    "                answer = citations[i]\n",
    "\n",
    "    return answer"
   ]
  },
  {
   "cell_type": "code",
   "execution_count": 25,
   "metadata": {},
   "outputs": [
    {
     "data": {
      "text/plain": [
       "3"
      ]
     },
     "execution_count": 25,
     "metadata": {},
     "output_type": "execute_result"
    }
   ],
   "source": [
    "solution([3,0,6,1,5])"
   ]
  },
  {
   "cell_type": "code",
   "execution_count": null,
   "metadata": {},
   "outputs": [],
   "source": [
    "0,1,3,5,6"
   ]
  }
 ],
 "metadata": {
  "kernelspec": {
   "display_name": "study",
   "language": "python",
   "name": "python3"
  },
  "language_info": {
   "codemirror_mode": {
    "name": "ipython",
    "version": 3
   },
   "file_extension": ".py",
   "mimetype": "text/x-python",
   "name": "python",
   "nbconvert_exporter": "python",
   "pygments_lexer": "ipython3",
   "version": "3.10.4"
  },
  "orig_nbformat": 4,
  "vscode": {
   "interpreter": {
    "hash": "d1e21767e69694e6271cff48837b0419ac731655a1ddac958206c0399c4912a0"
   }
  }
 },
 "nbformat": 4,
 "nbformat_minor": 2
}
